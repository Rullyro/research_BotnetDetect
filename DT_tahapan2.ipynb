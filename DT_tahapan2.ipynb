{
 "cells": [
  {
   "cell_type": "code",
   "execution_count": 1,
   "metadata": {
    "ExecuteTime": {
     "end_time": "2023-08-04T06:18:53.876750Z",
     "start_time": "2023-08-04T06:18:53.665376Z"
    }
   },
   "outputs": [],
   "source": [
    "import os\n",
    "import pandas as pd\n",
    "from sklearn import datasets\n",
    "import numpy as np\n",
    "from sklearn.preprocessing import MinMaxScaler\n",
    "from sklearn.preprocessing import LabelEncoder\n",
    "from sklearn import tree\n",
    "import tensorflow as tf\n",
    "from tensorflow.keras.models import Sequential\n",
    "from tensorflow.keras.layers import Dense, Activation\n"
   ]
  },
  {
   "cell_type": "code",
   "execution_count": 2,
   "metadata": {
    "ExecuteTime": {
     "end_time": "2023-08-04T06:19:01.023101Z",
     "start_time": "2023-08-04T06:18:53.672364Z"
    }
   },
   "outputs": [
    {
     "name": "stderr",
     "output_type": "stream",
     "text": [
      "c:\\Punyaku\\Rully\\Botnet\\Botnet_Detection\\.conda\\lib\\site-packages\\IPython\\core\\interactiveshell.py:3552: DtypeWarning: Columns (28,29) have mixed types.Specify dtype option on import or set low_memory=False.\n",
      "  exec(code_obj, self.user_global_ns, self.user_ns)\n",
      "c:\\Punyaku\\Rully\\Botnet\\Botnet_Detection\\.conda\\lib\\site-packages\\IPython\\core\\interactiveshell.py:3552: DtypeWarning: Columns (22) have mixed types.Specify dtype option on import or set low_memory=False.\n",
      "  exec(code_obj, self.user_global_ns, self.user_ns)\n"
     ]
    }
   ],
   "source": [
    "init = pd.read_csv(\"C:\\Punyaku\\Rully\\Botnet/init.csv\")\n",
    "init2 = pd.read_csv(\"C:\\Punyaku\\Rully\\Botnet/init2.csv\")\n",
    "init3 = pd.read_csv(\"C:\\Punyaku\\Rully\\Botnet/init3.csv\")\n",
    "init4 = pd.read_csv(\"C:\\Punyaku\\Rully\\Botnet/init4.csv\")\n",
    "init5 = pd.read_csv(\"C:\\Punyaku\\Rully\\Botnet/init5.csv\")\n",
    "dns1 = pd.read_csv(\"C:\\Punyaku\\Rully\\Botnet/dns_application_2017_1.csv\")\n",
    "dns = pd.read_csv(\"C:\\Punyaku\\Rully\\Botnet/dns_application_2017.csv\")\n",
    "appdns = pd.read_csv(\"C:\\Punyaku\\Rully\\Botnet/applicationDNS.csv\")"
   ]
  },
  {
   "cell_type": "code",
   "execution_count": 3,
   "metadata": {
    "ExecuteTime": {
     "end_time": "2023-08-04T06:19:01.826178Z",
     "start_time": "2023-08-04T06:19:01.025247Z"
    }
   },
   "outputs": [],
   "source": [
    "df_botnet = pd.concat([init, init2, init3, init4, init5])\n",
    "df_normal = pd.concat([dns1, dns, appdns])"
   ]
  },
  {
   "attachments": {},
   "cell_type": "markdown",
   "metadata": {},
   "source": [
    "# READ"
   ]
  },
  {
   "cell_type": "code",
   "execution_count": 4,
   "metadata": {
    "ExecuteTime": {
     "end_time": "2023-08-04T06:19:01.853848Z",
     "start_time": "2023-08-04T06:19:01.834211Z"
    }
   },
   "outputs": [
    {
     "data": {
      "text/html": [
       "<div>\n",
       "<style scoped>\n",
       "    .dataframe tbody tr th:only-of-type {\n",
       "        vertical-align: middle;\n",
       "    }\n",
       "\n",
       "    .dataframe tbody tr th {\n",
       "        vertical-align: top;\n",
       "    }\n",
       "\n",
       "    .dataframe thead th {\n",
       "        text-align: right;\n",
       "    }\n",
       "</style>\n",
       "<table border=\"1\" class=\"dataframe\">\n",
       "  <thead>\n",
       "    <tr style=\"text-align: right;\">\n",
       "      <th></th>\n",
       "      <th>_path</th>\n",
       "      <th>ts</th>\n",
       "      <th>uid</th>\n",
       "      <th>id.orig_h</th>\n",
       "      <th>id.orig_p</th>\n",
       "      <th>id.resp_h</th>\n",
       "      <th>id.resp_p</th>\n",
       "      <th>proto</th>\n",
       "      <th>service</th>\n",
       "      <th>duration</th>\n",
       "      <th>...</th>\n",
       "      <th>geo.orig.region</th>\n",
       "      <th>geo.orig.city</th>\n",
       "      <th>geo.orig.latitude</th>\n",
       "      <th>geo.orig.longitude</th>\n",
       "      <th>geo.resp.country_code</th>\n",
       "      <th>geo.resp.region</th>\n",
       "      <th>geo.resp.city</th>\n",
       "      <th>geo.resp.latitude</th>\n",
       "      <th>geo.resp.longitude</th>\n",
       "      <th>community_id</th>\n",
       "    </tr>\n",
       "  </thead>\n",
       "  <tbody>\n",
       "    <tr>\n",
       "      <th>0</th>\n",
       "      <td>conn</td>\n",
       "      <td>2017-06-22T02:33:10.688579Z</td>\n",
       "      <td>CY0VMc1fQcoWR3QKw7</td>\n",
       "      <td>192.168.50.60</td>\n",
       "      <td>137</td>\n",
       "      <td>192.168.50.255</td>\n",
       "      <td>137</td>\n",
       "      <td>udp</td>\n",
       "      <td>dns</td>\n",
       "      <td>1.499129s</td>\n",
       "      <td>...</td>\n",
       "      <td>NaN</td>\n",
       "      <td>NaN</td>\n",
       "      <td>NaN</td>\n",
       "      <td>NaN</td>\n",
       "      <td>NaN</td>\n",
       "      <td>NaN</td>\n",
       "      <td>NaN</td>\n",
       "      <td>NaN</td>\n",
       "      <td>NaN</td>\n",
       "      <td>1:UkroHSs8STF2pM8UdWxWR0R6OD8=</td>\n",
       "    </tr>\n",
       "    <tr>\n",
       "      <th>1</th>\n",
       "      <td>conn</td>\n",
       "      <td>2017-06-22T02:32:37.468717Z</td>\n",
       "      <td>Cht3HLL3Moraks302</td>\n",
       "      <td>192.168.50.51</td>\n",
       "      <td>137</td>\n",
       "      <td>192.168.50.255</td>\n",
       "      <td>137</td>\n",
       "      <td>udp</td>\n",
       "      <td>dns</td>\n",
       "      <td>1.487366s</td>\n",
       "      <td>...</td>\n",
       "      <td>NaN</td>\n",
       "      <td>NaN</td>\n",
       "      <td>NaN</td>\n",
       "      <td>NaN</td>\n",
       "      <td>NaN</td>\n",
       "      <td>NaN</td>\n",
       "      <td>NaN</td>\n",
       "      <td>NaN</td>\n",
       "      <td>NaN</td>\n",
       "      <td>1:bDbXDEXMRBw5v0ieUEGUSeVPiDY=</td>\n",
       "    </tr>\n",
       "    <tr>\n",
       "      <th>2</th>\n",
       "      <td>conn</td>\n",
       "      <td>2017-06-22T02:32:12.776697Z</td>\n",
       "      <td>CyjMmB2D1shaHKn72g</td>\n",
       "      <td>192.168.50.57</td>\n",
       "      <td>137</td>\n",
       "      <td>192.168.50.255</td>\n",
       "      <td>137</td>\n",
       "      <td>udp</td>\n",
       "      <td>dns</td>\n",
       "      <td>1.495538s</td>\n",
       "      <td>...</td>\n",
       "      <td>NaN</td>\n",
       "      <td>NaN</td>\n",
       "      <td>NaN</td>\n",
       "      <td>NaN</td>\n",
       "      <td>NaN</td>\n",
       "      <td>NaN</td>\n",
       "      <td>NaN</td>\n",
       "      <td>NaN</td>\n",
       "      <td>NaN</td>\n",
       "      <td>1:JQX2G/xW3VgPHL3rw1MFNz+eTg8=</td>\n",
       "    </tr>\n",
       "    <tr>\n",
       "      <th>3</th>\n",
       "      <td>conn</td>\n",
       "      <td>2017-06-22T02:31:44.513718Z</td>\n",
       "      <td>CkcOml4Aww3gTnhGya</td>\n",
       "      <td>192.168.50.55</td>\n",
       "      <td>137</td>\n",
       "      <td>192.168.50.255</td>\n",
       "      <td>137</td>\n",
       "      <td>udp</td>\n",
       "      <td>dns</td>\n",
       "      <td>1.486681s</td>\n",
       "      <td>...</td>\n",
       "      <td>NaN</td>\n",
       "      <td>NaN</td>\n",
       "      <td>NaN</td>\n",
       "      <td>NaN</td>\n",
       "      <td>NaN</td>\n",
       "      <td>NaN</td>\n",
       "      <td>NaN</td>\n",
       "      <td>NaN</td>\n",
       "      <td>NaN</td>\n",
       "      <td>1:oenZbl3W2wbLPK4Bu5IfR9YhNoA=</td>\n",
       "    </tr>\n",
       "    <tr>\n",
       "      <th>4</th>\n",
       "      <td>conn</td>\n",
       "      <td>2017-06-22T02:31:30.645201Z</td>\n",
       "      <td>Ca71arJpfnolxVaLf</td>\n",
       "      <td>192.168.50.60</td>\n",
       "      <td>138</td>\n",
       "      <td>192.168.50.255</td>\n",
       "      <td>138</td>\n",
       "      <td>udp</td>\n",
       "      <td>NaN</td>\n",
       "      <td>NaN</td>\n",
       "      <td>...</td>\n",
       "      <td>NaN</td>\n",
       "      <td>NaN</td>\n",
       "      <td>NaN</td>\n",
       "      <td>NaN</td>\n",
       "      <td>NaN</td>\n",
       "      <td>NaN</td>\n",
       "      <td>NaN</td>\n",
       "      <td>NaN</td>\n",
       "      <td>NaN</td>\n",
       "      <td>1:L/9eqKhmc/yIjCbA/whb87dxmhg=</td>\n",
       "    </tr>\n",
       "  </tbody>\n",
       "</table>\n",
       "<p>5 rows × 33 columns</p>\n",
       "</div>"
      ],
      "text/plain": [
       "  _path                           ts                 uid      id.orig_h  \\\n",
       "0  conn  2017-06-22T02:33:10.688579Z  CY0VMc1fQcoWR3QKw7  192.168.50.60   \n",
       "1  conn  2017-06-22T02:32:37.468717Z   Cht3HLL3Moraks302  192.168.50.51   \n",
       "2  conn  2017-06-22T02:32:12.776697Z  CyjMmB2D1shaHKn72g  192.168.50.57   \n",
       "3  conn  2017-06-22T02:31:44.513718Z  CkcOml4Aww3gTnhGya  192.168.50.55   \n",
       "4  conn  2017-06-22T02:31:30.645201Z   Ca71arJpfnolxVaLf  192.168.50.60   \n",
       "\n",
       "   id.orig_p       id.resp_h  id.resp_p proto service   duration  ...  \\\n",
       "0        137  192.168.50.255        137   udp     dns  1.499129s  ...   \n",
       "1        137  192.168.50.255        137   udp     dns  1.487366s  ...   \n",
       "2        137  192.168.50.255        137   udp     dns  1.495538s  ...   \n",
       "3        137  192.168.50.255        137   udp     dns  1.486681s  ...   \n",
       "4        138  192.168.50.255        138   udp     NaN        NaN  ...   \n",
       "\n",
       "   geo.orig.region  geo.orig.city geo.orig.latitude  geo.orig.longitude  \\\n",
       "0              NaN            NaN               NaN                 NaN   \n",
       "1              NaN            NaN               NaN                 NaN   \n",
       "2              NaN            NaN               NaN                 NaN   \n",
       "3              NaN            NaN               NaN                 NaN   \n",
       "4              NaN            NaN               NaN                 NaN   \n",
       "\n",
       "   geo.resp.country_code  geo.resp.region geo.resp.city  geo.resp.latitude  \\\n",
       "0                    NaN              NaN           NaN                NaN   \n",
       "1                    NaN              NaN           NaN                NaN   \n",
       "2                    NaN              NaN           NaN                NaN   \n",
       "3                    NaN              NaN           NaN                NaN   \n",
       "4                    NaN              NaN           NaN                NaN   \n",
       "\n",
       "   geo.resp.longitude                    community_id  \n",
       "0                 NaN  1:UkroHSs8STF2pM8UdWxWR0R6OD8=  \n",
       "1                 NaN  1:bDbXDEXMRBw5v0ieUEGUSeVPiDY=  \n",
       "2                 NaN  1:JQX2G/xW3VgPHL3rw1MFNz+eTg8=  \n",
       "3                 NaN  1:oenZbl3W2wbLPK4Bu5IfR9YhNoA=  \n",
       "4                 NaN  1:L/9eqKhmc/yIjCbA/whb87dxmhg=  \n",
       "\n",
       "[5 rows x 33 columns]"
      ]
     },
     "execution_count": 4,
     "metadata": {},
     "output_type": "execute_result"
    }
   ],
   "source": [
    "df_normal.head()"
   ]
  },
  {
   "cell_type": "code",
   "execution_count": 5,
   "metadata": {
    "ExecuteTime": {
     "end_time": "2023-08-04T06:19:01.870953Z",
     "start_time": "2023-08-04T06:19:01.848053Z"
    }
   },
   "outputs": [
    {
     "data": {
      "text/html": [
       "<div>\n",
       "<style scoped>\n",
       "    .dataframe tbody tr th:only-of-type {\n",
       "        vertical-align: middle;\n",
       "    }\n",
       "\n",
       "    .dataframe tbody tr th {\n",
       "        vertical-align: top;\n",
       "    }\n",
       "\n",
       "    .dataframe thead th {\n",
       "        text-align: right;\n",
       "    }\n",
       "</style>\n",
       "<table border=\"1\" class=\"dataframe\">\n",
       "  <thead>\n",
       "    <tr style=\"text-align: right;\">\n",
       "      <th></th>\n",
       "      <th>_path</th>\n",
       "      <th>ts</th>\n",
       "      <th>uid</th>\n",
       "      <th>id.orig_h</th>\n",
       "      <th>id.orig_p</th>\n",
       "      <th>id.resp_h</th>\n",
       "      <th>id.resp_p</th>\n",
       "      <th>proto</th>\n",
       "      <th>service</th>\n",
       "      <th>duration</th>\n",
       "      <th>...</th>\n",
       "      <th>geo.orig.region</th>\n",
       "      <th>geo.orig.city</th>\n",
       "      <th>geo.orig.latitude</th>\n",
       "      <th>geo.orig.longitude</th>\n",
       "      <th>geo.resp.country_code</th>\n",
       "      <th>geo.resp.region</th>\n",
       "      <th>geo.resp.city</th>\n",
       "      <th>geo.resp.latitude</th>\n",
       "      <th>geo.resp.longitude</th>\n",
       "      <th>community_id</th>\n",
       "    </tr>\n",
       "  </thead>\n",
       "  <tbody>\n",
       "    <tr>\n",
       "      <th>0</th>\n",
       "      <td>conn</td>\n",
       "      <td>2017-04-25T00:01:24.221943Z</td>\n",
       "      <td>CcRRUf4FvYVy0WM1tf</td>\n",
       "      <td>192.168.50.15</td>\n",
       "      <td>49204</td>\n",
       "      <td>192.168.50.88</td>\n",
       "      <td>53</td>\n",
       "      <td>udp</td>\n",
       "      <td>dns</td>\n",
       "      <td>206us</td>\n",
       "      <td>...</td>\n",
       "      <td>NaN</td>\n",
       "      <td>NaN</td>\n",
       "      <td>NaN</td>\n",
       "      <td>NaN</td>\n",
       "      <td>NaN</td>\n",
       "      <td>NaN</td>\n",
       "      <td>NaN</td>\n",
       "      <td>NaN</td>\n",
       "      <td>NaN</td>\n",
       "      <td>1:o9DmB+Xdg3mjcpAWPAa4xMSQ8PA=</td>\n",
       "    </tr>\n",
       "    <tr>\n",
       "      <th>1</th>\n",
       "      <td>conn</td>\n",
       "      <td>2017-04-25T00:01:05.437399Z</td>\n",
       "      <td>CskjGr1swnXFezlM0b</td>\n",
       "      <td>fe80::d58e:a29a:c48:dd8f</td>\n",
       "      <td>135</td>\n",
       "      <td>ff02::1:ff98:c06b</td>\n",
       "      <td>136</td>\n",
       "      <td>icmp</td>\n",
       "      <td>NaN</td>\n",
       "      <td>NaN</td>\n",
       "      <td>...</td>\n",
       "      <td>NaN</td>\n",
       "      <td>NaN</td>\n",
       "      <td>NaN</td>\n",
       "      <td>NaN</td>\n",
       "      <td>NaN</td>\n",
       "      <td>NaN</td>\n",
       "      <td>NaN</td>\n",
       "      <td>NaN</td>\n",
       "      <td>NaN</td>\n",
       "      <td>1:/3BVcTgZBvIwH3NdRMIuCTKDsco=</td>\n",
       "    </tr>\n",
       "    <tr>\n",
       "      <th>2</th>\n",
       "      <td>conn</td>\n",
       "      <td>2017-04-25T00:01:05.435065Z</td>\n",
       "      <td>CAnrobD8Gp6TJUHkc</td>\n",
       "      <td>fe80::2c51:b7cc:8a98:c06b</td>\n",
       "      <td>135</td>\n",
       "      <td>ff02::1:ff48:dd8f</td>\n",
       "      <td>136</td>\n",
       "      <td>icmp</td>\n",
       "      <td>NaN</td>\n",
       "      <td>NaN</td>\n",
       "      <td>...</td>\n",
       "      <td>NaN</td>\n",
       "      <td>NaN</td>\n",
       "      <td>NaN</td>\n",
       "      <td>NaN</td>\n",
       "      <td>NaN</td>\n",
       "      <td>NaN</td>\n",
       "      <td>NaN</td>\n",
       "      <td>NaN</td>\n",
       "      <td>NaN</td>\n",
       "      <td>1:4pI7NSr1zcExpnwgrplWKhUeX2Y=</td>\n",
       "    </tr>\n",
       "    <tr>\n",
       "      <th>3</th>\n",
       "      <td>conn</td>\n",
       "      <td>2017-04-25T00:01:05.361443Z</td>\n",
       "      <td>CP4uAC4tn9VWjhJWu7</td>\n",
       "      <td>192.168.50.18</td>\n",
       "      <td>51400</td>\n",
       "      <td>224.0.0.252</td>\n",
       "      <td>5355</td>\n",
       "      <td>udp</td>\n",
       "      <td>dns</td>\n",
       "      <td>NaN</td>\n",
       "      <td>...</td>\n",
       "      <td>NaN</td>\n",
       "      <td>NaN</td>\n",
       "      <td>NaN</td>\n",
       "      <td>NaN</td>\n",
       "      <td>NaN</td>\n",
       "      <td>NaN</td>\n",
       "      <td>NaN</td>\n",
       "      <td>NaN</td>\n",
       "      <td>NaN</td>\n",
       "      <td>1:qmfbUmATO8xesLDLONvCq/Hw0hs=</td>\n",
       "    </tr>\n",
       "    <tr>\n",
       "      <th>4</th>\n",
       "      <td>conn</td>\n",
       "      <td>2017-04-25T00:01:05.36117Z</td>\n",
       "      <td>CmQVh52Dk2zV5D9hgj</td>\n",
       "      <td>fe80::d58e:a29a:c48:dd8f</td>\n",
       "      <td>63788</td>\n",
       "      <td>ff02::1:3</td>\n",
       "      <td>5355</td>\n",
       "      <td>udp</td>\n",
       "      <td>dns</td>\n",
       "      <td>NaN</td>\n",
       "      <td>...</td>\n",
       "      <td>NaN</td>\n",
       "      <td>NaN</td>\n",
       "      <td>NaN</td>\n",
       "      <td>NaN</td>\n",
       "      <td>NaN</td>\n",
       "      <td>NaN</td>\n",
       "      <td>NaN</td>\n",
       "      <td>NaN</td>\n",
       "      <td>NaN</td>\n",
       "      <td>1:1O9I3C6IMbR1/6T8NUA+v6rvntU=</td>\n",
       "    </tr>\n",
       "  </tbody>\n",
       "</table>\n",
       "<p>5 rows × 33 columns</p>\n",
       "</div>"
      ],
      "text/plain": [
       "  _path                           ts                 uid  \\\n",
       "0  conn  2017-04-25T00:01:24.221943Z  CcRRUf4FvYVy0WM1tf   \n",
       "1  conn  2017-04-25T00:01:05.437399Z  CskjGr1swnXFezlM0b   \n",
       "2  conn  2017-04-25T00:01:05.435065Z   CAnrobD8Gp6TJUHkc   \n",
       "3  conn  2017-04-25T00:01:05.361443Z  CP4uAC4tn9VWjhJWu7   \n",
       "4  conn   2017-04-25T00:01:05.36117Z  CmQVh52Dk2zV5D9hgj   \n",
       "\n",
       "                   id.orig_h  id.orig_p          id.resp_h  id.resp_p proto  \\\n",
       "0              192.168.50.15      49204      192.168.50.88         53   udp   \n",
       "1   fe80::d58e:a29a:c48:dd8f        135  ff02::1:ff98:c06b        136  icmp   \n",
       "2  fe80::2c51:b7cc:8a98:c06b        135  ff02::1:ff48:dd8f        136  icmp   \n",
       "3              192.168.50.18      51400        224.0.0.252       5355   udp   \n",
       "4   fe80::d58e:a29a:c48:dd8f      63788          ff02::1:3       5355   udp   \n",
       "\n",
       "  service duration  ...  geo.orig.region  geo.orig.city geo.orig.latitude  \\\n",
       "0     dns    206us  ...              NaN            NaN               NaN   \n",
       "1     NaN      NaN  ...              NaN            NaN               NaN   \n",
       "2     NaN      NaN  ...              NaN            NaN               NaN   \n",
       "3     dns      NaN  ...              NaN            NaN               NaN   \n",
       "4     dns      NaN  ...              NaN            NaN               NaN   \n",
       "\n",
       "   geo.orig.longitude  geo.resp.country_code  geo.resp.region geo.resp.city  \\\n",
       "0                 NaN                    NaN              NaN           NaN   \n",
       "1                 NaN                    NaN              NaN           NaN   \n",
       "2                 NaN                    NaN              NaN           NaN   \n",
       "3                 NaN                    NaN              NaN           NaN   \n",
       "4                 NaN                    NaN              NaN           NaN   \n",
       "\n",
       "   geo.resp.latitude  geo.resp.longitude                    community_id  \n",
       "0                NaN                 NaN  1:o9DmB+Xdg3mjcpAWPAa4xMSQ8PA=  \n",
       "1                NaN                 NaN  1:/3BVcTgZBvIwH3NdRMIuCTKDsco=  \n",
       "2                NaN                 NaN  1:4pI7NSr1zcExpnwgrplWKhUeX2Y=  \n",
       "3                NaN                 NaN  1:qmfbUmATO8xesLDLONvCq/Hw0hs=  \n",
       "4                NaN                 NaN  1:1O9I3C6IMbR1/6T8NUA+v6rvntU=  \n",
       "\n",
       "[5 rows x 33 columns]"
      ]
     },
     "execution_count": 5,
     "metadata": {},
     "output_type": "execute_result"
    }
   ],
   "source": [
    "df_botnet.head()"
   ]
  },
  {
   "attachments": {},
   "cell_type": "markdown",
   "metadata": {},
   "source": [
    "# Labelling"
   ]
  },
  {
   "cell_type": "code",
   "execution_count": 6,
   "metadata": {
    "ExecuteTime": {
     "end_time": "2023-08-04T06:19:01.896952Z",
     "start_time": "2023-08-04T06:19:01.854188Z"
    }
   },
   "outputs": [],
   "source": [
    "df_normal['label'] = 'Normal'\n",
    "df_botnet['label'] = 'Botnet'"
   ]
  },
  {
   "attachments": {},
   "cell_type": "markdown",
   "metadata": {},
   "source": [
    "# Filtering By Times"
   ]
  },
  {
   "cell_type": "code",
   "execution_count": 7,
   "metadata": {
    "ExecuteTime": {
     "end_time": "2023-08-04T06:19:03.631634Z",
     "start_time": "2023-08-04T06:19:01.880003Z"
    }
   },
   "outputs": [],
   "source": [
    "df_normal['ts'] = pd.to_datetime(df_normal['ts'])\n",
    "\n",
    "df_botnet['ts'] = df_botnet['ts'].str.replace('Z', '')  # Remove 'Z' from the timestamp string\n",
    "try:\n",
    "    df_botnet['ts'] = pd.to_datetime(df_botnet['ts'], format=\"%Y-%m-%dT%H:%M:%S\")\n",
    "except ValueError:\n",
    "    df_botnet['ts'] = pd.to_datetime(df_botnet['ts'], format=\"%Y-%m-%dT%H:%M:%S.%f\", errors='coerce')\n"
   ]
  },
  {
   "cell_type": "code",
   "execution_count": 8,
   "metadata": {
    "ExecuteTime": {
     "end_time": "2023-08-04T06:19:12.045817Z",
     "start_time": "2023-08-04T06:19:03.633118Z"
    }
   },
   "outputs": [],
   "source": [
    "df_normal['time'] = df_normal['ts'].dt.strftime('%H:%M:%S')\n",
    "df_normal['date'] = df_normal['ts'].dt.strftime('%Y-%m-%d')\n",
    "\n",
    "df_botnet['time'] = df_botnet['ts'].dt.strftime('%H:%M:%S')\n",
    "df_botnet['date'] = df_botnet['ts'].dt.strftime('%Y-%m-%d')"
   ]
  },
  {
   "cell_type": "code",
   "execution_count": 9,
   "metadata": {
    "ExecuteTime": {
     "end_time": "2023-08-04T06:19:12.127040Z",
     "start_time": "2023-08-04T06:19:12.069967Z"
    }
   },
   "outputs": [],
   "source": [
    "df_normal.insert(2, 'time', df_normal.pop('time'))\n",
    "df_normal.insert(3, 'date', df_normal.pop('date'))\n",
    "\n",
    "df_botnet.insert(2, 'time', df_botnet.pop('time'))\n",
    "df_botnet.insert(3, 'date', df_botnet.pop('date'))"
   ]
  },
  {
   "cell_type": "code",
   "execution_count": 10,
   "metadata": {
    "ExecuteTime": {
     "end_time": "2023-08-04T06:19:13.794988Z",
     "start_time": "2023-08-04T06:19:12.135414Z"
    }
   },
   "outputs": [],
   "source": [
    "df_normal = df_normal.sort_values(['date', 'time'], ascending=True)\n",
    "\n",
    "df_botnet = df_botnet.sort_values(['date', 'time'], ascending=True)"
   ]
  },
  {
   "cell_type": "code",
   "execution_count": 11,
   "metadata": {
    "ExecuteTime": {
     "end_time": "2023-08-04T06:19:13.808416Z",
     "start_time": "2023-08-04T06:19:13.799859Z"
    }
   },
   "outputs": [
    {
     "data": {
      "text/html": [
       "<div>\n",
       "<style scoped>\n",
       "    .dataframe tbody tr th:only-of-type {\n",
       "        vertical-align: middle;\n",
       "    }\n",
       "\n",
       "    .dataframe tbody tr th {\n",
       "        vertical-align: top;\n",
       "    }\n",
       "\n",
       "    .dataframe thead th {\n",
       "        text-align: right;\n",
       "    }\n",
       "</style>\n",
       "<table border=\"1\" class=\"dataframe\">\n",
       "  <thead>\n",
       "    <tr style=\"text-align: right;\">\n",
       "      <th></th>\n",
       "      <th>_path</th>\n",
       "      <th>ts</th>\n",
       "      <th>time</th>\n",
       "      <th>date</th>\n",
       "      <th>uid</th>\n",
       "      <th>id.orig_h</th>\n",
       "      <th>id.orig_p</th>\n",
       "      <th>id.resp_h</th>\n",
       "      <th>id.resp_p</th>\n",
       "      <th>proto</th>\n",
       "      <th>...</th>\n",
       "      <th>geo.orig.city</th>\n",
       "      <th>geo.orig.latitude</th>\n",
       "      <th>geo.orig.longitude</th>\n",
       "      <th>geo.resp.country_code</th>\n",
       "      <th>geo.resp.region</th>\n",
       "      <th>geo.resp.city</th>\n",
       "      <th>geo.resp.latitude</th>\n",
       "      <th>geo.resp.longitude</th>\n",
       "      <th>community_id</th>\n",
       "      <th>label</th>\n",
       "    </tr>\n",
       "  </thead>\n",
       "  <tbody>\n",
       "    <tr>\n",
       "      <th>298</th>\n",
       "      <td>conn</td>\n",
       "      <td>2017-06-13 01:57:38.658640+00:00</td>\n",
       "      <td>01:57:38</td>\n",
       "      <td>2017-06-13</td>\n",
       "      <td>C1qVrt3a6cLOeBTxx2</td>\n",
       "      <td>192.168.50.51</td>\n",
       "      <td>61485</td>\n",
       "      <td>192.168.50.88</td>\n",
       "      <td>53</td>\n",
       "      <td>udp</td>\n",
       "      <td>...</td>\n",
       "      <td>NaN</td>\n",
       "      <td>NaN</td>\n",
       "      <td>NaN</td>\n",
       "      <td>NaN</td>\n",
       "      <td>NaN</td>\n",
       "      <td>NaN</td>\n",
       "      <td>NaN</td>\n",
       "      <td>NaN</td>\n",
       "      <td>1:wCKQp2nV3OJvKUWkJxYMV1y5Zmw=</td>\n",
       "      <td>Normal</td>\n",
       "    </tr>\n",
       "    <tr>\n",
       "      <th>296</th>\n",
       "      <td>conn</td>\n",
       "      <td>2017-06-13 01:57:39.365021+00:00</td>\n",
       "      <td>01:57:39</td>\n",
       "      <td>2017-06-13</td>\n",
       "      <td>CqvrX029jPSJJseFW4</td>\n",
       "      <td>192.168.50.88</td>\n",
       "      <td>51316</td>\n",
       "      <td>8.8.4.4</td>\n",
       "      <td>53</td>\n",
       "      <td>udp</td>\n",
       "      <td>...</td>\n",
       "      <td>NaN</td>\n",
       "      <td>NaN</td>\n",
       "      <td>NaN</td>\n",
       "      <td>US</td>\n",
       "      <td>NaN</td>\n",
       "      <td>NaN</td>\n",
       "      <td>37.751</td>\n",
       "      <td>-97.822</td>\n",
       "      <td>1:PNu0goJ1FjGRydc/UbZQU7z4izg=</td>\n",
       "      <td>Normal</td>\n",
       "    </tr>\n",
       "    <tr>\n",
       "      <th>297</th>\n",
       "      <td>conn</td>\n",
       "      <td>2017-06-13 01:57:39.364588+00:00</td>\n",
       "      <td>01:57:39</td>\n",
       "      <td>2017-06-13</td>\n",
       "      <td>C5FyKT1tF02psaoWg9</td>\n",
       "      <td>192.168.50.19</td>\n",
       "      <td>60019</td>\n",
       "      <td>192.168.50.88</td>\n",
       "      <td>53</td>\n",
       "      <td>udp</td>\n",
       "      <td>...</td>\n",
       "      <td>NaN</td>\n",
       "      <td>NaN</td>\n",
       "      <td>NaN</td>\n",
       "      <td>NaN</td>\n",
       "      <td>NaN</td>\n",
       "      <td>NaN</td>\n",
       "      <td>NaN</td>\n",
       "      <td>NaN</td>\n",
       "      <td>1:b041F23994Qmbo0E+76IpF7JCtw=</td>\n",
       "      <td>Normal</td>\n",
       "    </tr>\n",
       "    <tr>\n",
       "      <th>294</th>\n",
       "      <td>conn</td>\n",
       "      <td>2017-06-13 01:57:40.657703+00:00</td>\n",
       "      <td>01:57:40</td>\n",
       "      <td>2017-06-13</td>\n",
       "      <td>CWEiHh1SShNqzp0RK</td>\n",
       "      <td>192.168.50.51</td>\n",
       "      <td>59936</td>\n",
       "      <td>192.168.50.88</td>\n",
       "      <td>53</td>\n",
       "      <td>udp</td>\n",
       "      <td>...</td>\n",
       "      <td>NaN</td>\n",
       "      <td>NaN</td>\n",
       "      <td>NaN</td>\n",
       "      <td>NaN</td>\n",
       "      <td>NaN</td>\n",
       "      <td>NaN</td>\n",
       "      <td>NaN</td>\n",
       "      <td>NaN</td>\n",
       "      <td>1:mxTfjGcQ4NKXLMjdY95cDBaTv90=</td>\n",
       "      <td>Normal</td>\n",
       "    </tr>\n",
       "    <tr>\n",
       "      <th>295</th>\n",
       "      <td>conn</td>\n",
       "      <td>2017-06-13 01:57:40.283348+00:00</td>\n",
       "      <td>01:57:40</td>\n",
       "      <td>2017-06-13</td>\n",
       "      <td>C4gcHS2lYNRehzDjGe</td>\n",
       "      <td>192.168.50.51</td>\n",
       "      <td>55221</td>\n",
       "      <td>192.168.50.88</td>\n",
       "      <td>53</td>\n",
       "      <td>udp</td>\n",
       "      <td>...</td>\n",
       "      <td>NaN</td>\n",
       "      <td>NaN</td>\n",
       "      <td>NaN</td>\n",
       "      <td>NaN</td>\n",
       "      <td>NaN</td>\n",
       "      <td>NaN</td>\n",
       "      <td>NaN</td>\n",
       "      <td>NaN</td>\n",
       "      <td>1:YsCB+scJ8ppWcpZij0CAENJQ9ds=</td>\n",
       "      <td>Normal</td>\n",
       "    </tr>\n",
       "  </tbody>\n",
       "</table>\n",
       "<p>5 rows × 36 columns</p>\n",
       "</div>"
      ],
      "text/plain": [
       "    _path                               ts      time        date  \\\n",
       "298  conn 2017-06-13 01:57:38.658640+00:00  01:57:38  2017-06-13   \n",
       "296  conn 2017-06-13 01:57:39.365021+00:00  01:57:39  2017-06-13   \n",
       "297  conn 2017-06-13 01:57:39.364588+00:00  01:57:39  2017-06-13   \n",
       "294  conn 2017-06-13 01:57:40.657703+00:00  01:57:40  2017-06-13   \n",
       "295  conn 2017-06-13 01:57:40.283348+00:00  01:57:40  2017-06-13   \n",
       "\n",
       "                    uid      id.orig_h  id.orig_p      id.resp_h  id.resp_p  \\\n",
       "298  C1qVrt3a6cLOeBTxx2  192.168.50.51      61485  192.168.50.88         53   \n",
       "296  CqvrX029jPSJJseFW4  192.168.50.88      51316        8.8.4.4         53   \n",
       "297  C5FyKT1tF02psaoWg9  192.168.50.19      60019  192.168.50.88         53   \n",
       "294   CWEiHh1SShNqzp0RK  192.168.50.51      59936  192.168.50.88         53   \n",
       "295  C4gcHS2lYNRehzDjGe  192.168.50.51      55221  192.168.50.88         53   \n",
       "\n",
       "    proto  ... geo.orig.city geo.orig.latitude  geo.orig.longitude  \\\n",
       "298   udp  ...           NaN               NaN                 NaN   \n",
       "296   udp  ...           NaN               NaN                 NaN   \n",
       "297   udp  ...           NaN               NaN                 NaN   \n",
       "294   udp  ...           NaN               NaN                 NaN   \n",
       "295   udp  ...           NaN               NaN                 NaN   \n",
       "\n",
       "     geo.resp.country_code geo.resp.region  geo.resp.city  geo.resp.latitude  \\\n",
       "298                    NaN             NaN            NaN                NaN   \n",
       "296                     US             NaN            NaN             37.751   \n",
       "297                    NaN             NaN            NaN                NaN   \n",
       "294                    NaN             NaN            NaN                NaN   \n",
       "295                    NaN             NaN            NaN                NaN   \n",
       "\n",
       "     geo.resp.longitude                    community_id   label  \n",
       "298                 NaN  1:wCKQp2nV3OJvKUWkJxYMV1y5Zmw=  Normal  \n",
       "296             -97.822  1:PNu0goJ1FjGRydc/UbZQU7z4izg=  Normal  \n",
       "297                 NaN  1:b041F23994Qmbo0E+76IpF7JCtw=  Normal  \n",
       "294                 NaN  1:mxTfjGcQ4NKXLMjdY95cDBaTv90=  Normal  \n",
       "295                 NaN  1:YsCB+scJ8ppWcpZij0CAENJQ9ds=  Normal  \n",
       "\n",
       "[5 rows x 36 columns]"
      ]
     },
     "execution_count": 11,
     "metadata": {},
     "output_type": "execute_result"
    }
   ],
   "source": [
    "df_normal.head()"
   ]
  },
  {
   "cell_type": "code",
   "execution_count": 12,
   "metadata": {
    "ExecuteTime": {
     "end_time": "2023-08-04T06:19:13.825036Z",
     "start_time": "2023-08-04T06:19:13.814876Z"
    }
   },
   "outputs": [
    {
     "data": {
      "text/html": [
       "<div>\n",
       "<style scoped>\n",
       "    .dataframe tbody tr th:only-of-type {\n",
       "        vertical-align: middle;\n",
       "    }\n",
       "\n",
       "    .dataframe tbody tr th {\n",
       "        vertical-align: top;\n",
       "    }\n",
       "\n",
       "    .dataframe thead th {\n",
       "        text-align: right;\n",
       "    }\n",
       "</style>\n",
       "<table border=\"1\" class=\"dataframe\">\n",
       "  <thead>\n",
       "    <tr style=\"text-align: right;\">\n",
       "      <th></th>\n",
       "      <th>_path</th>\n",
       "      <th>ts</th>\n",
       "      <th>time</th>\n",
       "      <th>date</th>\n",
       "      <th>uid</th>\n",
       "      <th>id.orig_h</th>\n",
       "      <th>id.orig_p</th>\n",
       "      <th>id.resp_h</th>\n",
       "      <th>id.resp_p</th>\n",
       "      <th>proto</th>\n",
       "      <th>...</th>\n",
       "      <th>geo.orig.city</th>\n",
       "      <th>geo.orig.latitude</th>\n",
       "      <th>geo.orig.longitude</th>\n",
       "      <th>geo.resp.country_code</th>\n",
       "      <th>geo.resp.region</th>\n",
       "      <th>geo.resp.city</th>\n",
       "      <th>geo.resp.latitude</th>\n",
       "      <th>geo.resp.longitude</th>\n",
       "      <th>community_id</th>\n",
       "      <th>label</th>\n",
       "    </tr>\n",
       "  </thead>\n",
       "  <tbody>\n",
       "    <tr>\n",
       "      <th>44657</th>\n",
       "      <td>conn</td>\n",
       "      <td>2017-04-19 02:54:16.972588</td>\n",
       "      <td>02:54:16</td>\n",
       "      <td>2017-04-19</td>\n",
       "      <td>CxJk7F6UdwzSTe1Sk</td>\n",
       "      <td>192.168.50.11</td>\n",
       "      <td>58620</td>\n",
       "      <td>239.255.255.250</td>\n",
       "      <td>1900</td>\n",
       "      <td>udp</td>\n",
       "      <td>...</td>\n",
       "      <td>NaN</td>\n",
       "      <td>NaN</td>\n",
       "      <td>NaN</td>\n",
       "      <td>NaN</td>\n",
       "      <td>NaN</td>\n",
       "      <td>NaN</td>\n",
       "      <td>NaN</td>\n",
       "      <td>NaN</td>\n",
       "      <td>1:69wLfIDkiwGxVaCOxbc9Zzkdj1g=</td>\n",
       "      <td>Botnet</td>\n",
       "    </tr>\n",
       "    <tr>\n",
       "      <th>44658</th>\n",
       "      <td>conn</td>\n",
       "      <td>2017-04-19 02:54:16.971992</td>\n",
       "      <td>02:54:16</td>\n",
       "      <td>2017-04-19</td>\n",
       "      <td>CcjJ5P16TDfqrGeq3c</td>\n",
       "      <td>fe80::891f:ff8f:8660:beff</td>\n",
       "      <td>58618</td>\n",
       "      <td>ff02::c</td>\n",
       "      <td>1900</td>\n",
       "      <td>udp</td>\n",
       "      <td>...</td>\n",
       "      <td>NaN</td>\n",
       "      <td>NaN</td>\n",
       "      <td>NaN</td>\n",
       "      <td>NaN</td>\n",
       "      <td>NaN</td>\n",
       "      <td>NaN</td>\n",
       "      <td>NaN</td>\n",
       "      <td>NaN</td>\n",
       "      <td>1:hXgaW+IATJ3548l0uRPdSY/NaYA=</td>\n",
       "      <td>Botnet</td>\n",
       "    </tr>\n",
       "    <tr>\n",
       "      <th>270428</th>\n",
       "      <td>conn</td>\n",
       "      <td>2017-04-19 02:54:16.972588</td>\n",
       "      <td>02:54:16</td>\n",
       "      <td>2017-04-19</td>\n",
       "      <td>CfjRDf1MBW2erp4tyd</td>\n",
       "      <td>192.168.50.11</td>\n",
       "      <td>58620</td>\n",
       "      <td>239.255.255.250</td>\n",
       "      <td>1900</td>\n",
       "      <td>udp</td>\n",
       "      <td>...</td>\n",
       "      <td>NaN</td>\n",
       "      <td>NaN</td>\n",
       "      <td>NaN</td>\n",
       "      <td>NaN</td>\n",
       "      <td>NaN</td>\n",
       "      <td>NaN</td>\n",
       "      <td>NaN</td>\n",
       "      <td>NaN</td>\n",
       "      <td>1:69wLfIDkiwGxVaCOxbc9Zzkdj1g=</td>\n",
       "      <td>Botnet</td>\n",
       "    </tr>\n",
       "    <tr>\n",
       "      <th>270429</th>\n",
       "      <td>conn</td>\n",
       "      <td>2017-04-19 02:54:16.971992</td>\n",
       "      <td>02:54:16</td>\n",
       "      <td>2017-04-19</td>\n",
       "      <td>CjoXX82ODGPpqAYTRj</td>\n",
       "      <td>fe80::891f:ff8f:8660:beff</td>\n",
       "      <td>58618</td>\n",
       "      <td>ff02::c</td>\n",
       "      <td>1900</td>\n",
       "      <td>udp</td>\n",
       "      <td>...</td>\n",
       "      <td>NaN</td>\n",
       "      <td>NaN</td>\n",
       "      <td>NaN</td>\n",
       "      <td>NaN</td>\n",
       "      <td>NaN</td>\n",
       "      <td>NaN</td>\n",
       "      <td>NaN</td>\n",
       "      <td>NaN</td>\n",
       "      <td>1:hXgaW+IATJ3548l0uRPdSY/NaYA=</td>\n",
       "      <td>Botnet</td>\n",
       "    </tr>\n",
       "    <tr>\n",
       "      <th>44655</th>\n",
       "      <td>conn</td>\n",
       "      <td>2017-04-19 02:54:19.193546</td>\n",
       "      <td>02:54:19</td>\n",
       "      <td>2017-04-19</td>\n",
       "      <td>CAh3vw2cvv87Z0efx</td>\n",
       "      <td>192.168.50.14</td>\n",
       "      <td>55154</td>\n",
       "      <td>239.255.255.250</td>\n",
       "      <td>1900</td>\n",
       "      <td>udp</td>\n",
       "      <td>...</td>\n",
       "      <td>NaN</td>\n",
       "      <td>NaN</td>\n",
       "      <td>NaN</td>\n",
       "      <td>NaN</td>\n",
       "      <td>NaN</td>\n",
       "      <td>NaN</td>\n",
       "      <td>NaN</td>\n",
       "      <td>NaN</td>\n",
       "      <td>1:o8LjmI2J3H3JSezvkWoV3LVa6xg=</td>\n",
       "      <td>Botnet</td>\n",
       "    </tr>\n",
       "  </tbody>\n",
       "</table>\n",
       "<p>5 rows × 36 columns</p>\n",
       "</div>"
      ],
      "text/plain": [
       "       _path                         ts      time        date  \\\n",
       "44657   conn 2017-04-19 02:54:16.972588  02:54:16  2017-04-19   \n",
       "44658   conn 2017-04-19 02:54:16.971992  02:54:16  2017-04-19   \n",
       "270428  conn 2017-04-19 02:54:16.972588  02:54:16  2017-04-19   \n",
       "270429  conn 2017-04-19 02:54:16.971992  02:54:16  2017-04-19   \n",
       "44655   conn 2017-04-19 02:54:19.193546  02:54:19  2017-04-19   \n",
       "\n",
       "                       uid                  id.orig_h  id.orig_p  \\\n",
       "44657    CxJk7F6UdwzSTe1Sk              192.168.50.11      58620   \n",
       "44658   CcjJ5P16TDfqrGeq3c  fe80::891f:ff8f:8660:beff      58618   \n",
       "270428  CfjRDf1MBW2erp4tyd              192.168.50.11      58620   \n",
       "270429  CjoXX82ODGPpqAYTRj  fe80::891f:ff8f:8660:beff      58618   \n",
       "44655    CAh3vw2cvv87Z0efx              192.168.50.14      55154   \n",
       "\n",
       "              id.resp_h  id.resp_p proto  ... geo.orig.city geo.orig.latitude  \\\n",
       "44657   239.255.255.250       1900   udp  ...           NaN               NaN   \n",
       "44658           ff02::c       1900   udp  ...           NaN               NaN   \n",
       "270428  239.255.255.250       1900   udp  ...           NaN               NaN   \n",
       "270429          ff02::c       1900   udp  ...           NaN               NaN   \n",
       "44655   239.255.255.250       1900   udp  ...           NaN               NaN   \n",
       "\n",
       "        geo.orig.longitude  geo.resp.country_code geo.resp.region  \\\n",
       "44657                  NaN                    NaN             NaN   \n",
       "44658                  NaN                    NaN             NaN   \n",
       "270428                 NaN                    NaN             NaN   \n",
       "270429                 NaN                    NaN             NaN   \n",
       "44655                  NaN                    NaN             NaN   \n",
       "\n",
       "        geo.resp.city  geo.resp.latitude  geo.resp.longitude  \\\n",
       "44657             NaN                NaN                 NaN   \n",
       "44658             NaN                NaN                 NaN   \n",
       "270428            NaN                NaN                 NaN   \n",
       "270429            NaN                NaN                 NaN   \n",
       "44655             NaN                NaN                 NaN   \n",
       "\n",
       "                          community_id   label  \n",
       "44657   1:69wLfIDkiwGxVaCOxbc9Zzkdj1g=  Botnet  \n",
       "44658   1:hXgaW+IATJ3548l0uRPdSY/NaYA=  Botnet  \n",
       "270428  1:69wLfIDkiwGxVaCOxbc9Zzkdj1g=  Botnet  \n",
       "270429  1:hXgaW+IATJ3548l0uRPdSY/NaYA=  Botnet  \n",
       "44655   1:o8LjmI2J3H3JSezvkWoV3LVa6xg=  Botnet  \n",
       "\n",
       "[5 rows x 36 columns]"
      ]
     },
     "execution_count": 12,
     "metadata": {},
     "output_type": "execute_result"
    }
   ],
   "source": [
    "df_botnet.head()"
   ]
  },
  {
   "attachments": {},
   "cell_type": "markdown",
   "metadata": {},
   "source": [
    "# Drop Unused Column"
   ]
  },
  {
   "cell_type": "code",
   "execution_count": 13,
   "metadata": {
    "ExecuteTime": {
     "end_time": "2023-08-04T06:19:14.290619Z",
     "start_time": "2023-08-04T06:19:13.822999Z"
    }
   },
   "outputs": [],
   "source": [
    "df_normal = df_normal.drop(['geo.orig.country_code','geo.orig.region','geo.orig.city',\n",
    "              'geo.resp.latitude','geo.resp.longitude','geo.orig.latitude',\n",
    "              'tunnel_parents','geo.orig.longitude','geo.resp.country_code',\n",
    "              'geo.resp.region','geo.resp.city','local_orig','local_resp'], axis=1)\n",
    "\n",
    "\n",
    "df_botnet = df_botnet.drop(['geo.orig.country_code','geo.orig.region','geo.orig.city',\n",
    "              'geo.resp.latitude','geo.resp.longitude','geo.orig.latitude',\n",
    "              'tunnel_parents','geo.orig.longitude','geo.resp.country_code',\n",
    "              'geo.resp.region','geo.resp.city','local_orig','local_resp'], axis=1)"
   ]
  },
  {
   "attachments": {},
   "cell_type": "markdown",
   "metadata": {},
   "source": [
    "# Handling Missing Value"
   ]
  },
  {
   "cell_type": "code",
   "execution_count": 14,
   "metadata": {
    "ExecuteTime": {
     "end_time": "2023-08-04T06:19:14.296342Z",
     "start_time": "2023-08-04T06:19:14.293414Z"
    }
   },
   "outputs": [],
   "source": [
    "#Replace With Mean\n",
    "def replace_missing_with_mean(df, columns):\n",
    "    #Count mean in column\n",
    "    mean_values = df[columns].mean()\n",
    "    \n",
    "    # Replace missing value with mean\n",
    "    df[columns] = df[columns].fillna(mean_values)\n",
    "    \n",
    "    return df\n",
    "\n",
    "#Replace With Median\n",
    "def replace_missing_with_median(df, columns):\n",
    "    #Get Median in column\n",
    "    median_values = df[columns].median()\n",
    "    \n",
    "    # Replace missing value with median\n",
    "    df[columns] = df[columns].fillna(median_values)\n",
    "    \n",
    "    return df\n",
    "\n",
    "#Replace with Mode\n",
    "def replace_missing_with_mode(df, columns):\n",
    "    #Get Mode Value in Column\n",
    "    mode_values = df[columns].mode().iloc[0]\n",
    "    \n",
    "    # Replace missing value with median\n",
    "    df[columns] = df[columns].fillna(mode_values)\n",
    "    \n",
    "    return df\n",
    "\n",
    "#Replace with 0 Value\n",
    "def replace_missing_with_zero(df, columns):\n",
    "    #Zero Value\n",
    "    zero_value = 0\n",
    "    \n",
    "    # Replace missing value with median\n",
    "    df[columns] = df[columns].fillna(zero_value)\n",
    "    \n",
    "    return df\n",
    "\n",
    "def replace_missing_with_previous_row(df, column):\n",
    "\n",
    "    df[column].fillna(method='ffill', inplace=True)\n",
    "    \n",
    "    return df"
   ]
  },
  {
   "attachments": {},
   "cell_type": "markdown",
   "metadata": {},
   "source": [
    "## Drop Missing Value In Duration"
   ]
  },
  {
   "cell_type": "code",
   "execution_count": 15,
   "metadata": {
    "ExecuteTime": {
     "end_time": "2023-08-04T06:19:15.398014Z",
     "start_time": "2023-08-04T06:19:14.301651Z"
    }
   },
   "outputs": [],
   "source": [
    "df_normal = df_normal.dropna(subset=['duration'])\n",
    "\n",
    "df_botnet = df_botnet.dropna(subset=['duration'])"
   ]
  },
  {
   "attachments": {},
   "cell_type": "markdown",
   "metadata": {},
   "source": [
    "## Handling Missing Value With Previous Row"
   ]
  },
  {
   "cell_type": "code",
   "execution_count": 16,
   "metadata": {
    "ExecuteTime": {
     "end_time": "2023-08-04T06:19:15.529352Z",
     "start_time": "2023-08-04T06:19:15.406347Z"
    }
   },
   "outputs": [],
   "source": [
    "df_normal = replace_missing_with_previous_row(df_normal, 'service')\n",
    "df_normal = replace_missing_with_previous_row(df_normal, 'orig_bytes')\n",
    "df_normal = replace_missing_with_previous_row(df_normal, 'resp_bytes')\n",
    "df_normal = replace_missing_with_previous_row(df_normal, 'history')\n",
    "\n",
    "\n",
    "df_botnet = replace_missing_with_previous_row(df_botnet, 'service')\n",
    "df_botnet = replace_missing_with_previous_row(df_botnet, 'orig_bytes')\n",
    "df_botnet = replace_missing_with_previous_row(df_botnet, 'resp_bytes')\n",
    "df_botnet = replace_missing_with_previous_row(df_botnet, 'history')"
   ]
  },
  {
   "cell_type": "code",
   "execution_count": 17,
   "metadata": {
    "ExecuteTime": {
     "end_time": "2023-08-04T06:19:15.575654Z",
     "start_time": "2023-08-04T06:19:15.530003Z"
    }
   },
   "outputs": [
    {
     "data": {
      "text/plain": [
       "_path            0\n",
       "ts               0\n",
       "time             0\n",
       "date             0\n",
       "uid              0\n",
       "id.orig_h        0\n",
       "id.orig_p        0\n",
       "id.resp_h        0\n",
       "id.resp_p        0\n",
       "proto            0\n",
       "service          0\n",
       "duration         0\n",
       "orig_bytes       0\n",
       "resp_bytes       0\n",
       "conn_state       0\n",
       "missed_bytes     0\n",
       "history          0\n",
       "orig_pkts        0\n",
       "orig_ip_bytes    0\n",
       "resp_pkts        0\n",
       "resp_ip_bytes    0\n",
       "community_id     0\n",
       "label            0\n",
       "dtype: int64"
      ]
     },
     "execution_count": 17,
     "metadata": {},
     "output_type": "execute_result"
    }
   ],
   "source": [
    "missing = pd.isnull(df_normal).sum()\n",
    "missing"
   ]
  },
  {
   "cell_type": "code",
   "execution_count": 18,
   "metadata": {
    "ExecuteTime": {
     "end_time": "2023-08-04T06:19:15.639878Z",
     "start_time": "2023-08-04T06:19:15.598720Z"
    }
   },
   "outputs": [],
   "source": [
    "df_botnet = replace_missing_with_previous_row(df_botnet, 'service')"
   ]
  },
  {
   "cell_type": "code",
   "execution_count": 19,
   "metadata": {
    "ExecuteTime": {
     "end_time": "2023-08-04T06:19:16.391244Z",
     "start_time": "2023-08-04T06:19:15.643986Z"
    }
   },
   "outputs": [
    {
     "data": {
      "text/plain": [
       "_path             0\n",
       "ts                0\n",
       "time              0\n",
       "date              0\n",
       "uid               0\n",
       "id.orig_h         0\n",
       "id.orig_p         0\n",
       "id.resp_h         0\n",
       "id.resp_p         0\n",
       "proto             0\n",
       "service          36\n",
       "duration          0\n",
       "orig_bytes        0\n",
       "resp_bytes        0\n",
       "conn_state        0\n",
       "missed_bytes      0\n",
       "history           0\n",
       "orig_pkts         0\n",
       "orig_ip_bytes     0\n",
       "resp_pkts         0\n",
       "resp_ip_bytes     0\n",
       "community_id      0\n",
       "label             0\n",
       "dtype: int64"
      ]
     },
     "execution_count": 19,
     "metadata": {},
     "output_type": "execute_result"
    }
   ],
   "source": [
    "missing = pd.isnull(df_botnet).sum()\n",
    "missing"
   ]
  },
  {
   "cell_type": "code",
   "execution_count": 20,
   "metadata": {
    "ExecuteTime": {
     "end_time": "2023-08-04T06:19:16.739950Z",
     "start_time": "2023-08-04T06:19:16.429890Z"
    }
   },
   "outputs": [],
   "source": [
    "df_botnet = df_botnet.dropna(subset=['service'])"
   ]
  },
  {
   "cell_type": "code",
   "execution_count": 21,
   "metadata": {
    "ExecuteTime": {
     "end_time": "2023-08-04T06:19:17.160524Z",
     "start_time": "2023-08-04T06:19:16.762329Z"
    }
   },
   "outputs": [
    {
     "data": {
      "text/plain": [
       "_path            0\n",
       "ts               0\n",
       "time             0\n",
       "date             0\n",
       "uid              0\n",
       "id.orig_h        0\n",
       "id.orig_p        0\n",
       "id.resp_h        0\n",
       "id.resp_p        0\n",
       "proto            0\n",
       "service          0\n",
       "duration         0\n",
       "orig_bytes       0\n",
       "resp_bytes       0\n",
       "conn_state       0\n",
       "missed_bytes     0\n",
       "history          0\n",
       "orig_pkts        0\n",
       "orig_ip_bytes    0\n",
       "resp_pkts        0\n",
       "resp_ip_bytes    0\n",
       "community_id     0\n",
       "label            0\n",
       "dtype: int64"
      ]
     },
     "execution_count": 21,
     "metadata": {},
     "output_type": "execute_result"
    }
   ],
   "source": [
    "pd.isnull(df_botnet).sum()"
   ]
  },
  {
   "attachments": {},
   "cell_type": "markdown",
   "metadata": {},
   "source": [
    "# Merge Dataframe Normal & Botnet"
   ]
  },
  {
   "cell_type": "code",
   "execution_count": 22,
   "metadata": {
    "ExecuteTime": {
     "end_time": "2023-08-04T06:19:19.504338Z",
     "start_time": "2023-08-04T06:19:17.162297Z"
    }
   },
   "outputs": [
    {
     "data": {
      "text/html": [
       "<div>\n",
       "<style scoped>\n",
       "    .dataframe tbody tr th:only-of-type {\n",
       "        vertical-align: middle;\n",
       "    }\n",
       "\n",
       "    .dataframe tbody tr th {\n",
       "        vertical-align: top;\n",
       "    }\n",
       "\n",
       "    .dataframe thead th {\n",
       "        text-align: right;\n",
       "    }\n",
       "</style>\n",
       "<table border=\"1\" class=\"dataframe\">\n",
       "  <thead>\n",
       "    <tr style=\"text-align: right;\">\n",
       "      <th></th>\n",
       "      <th>_path</th>\n",
       "      <th>ts</th>\n",
       "      <th>time</th>\n",
       "      <th>date</th>\n",
       "      <th>uid</th>\n",
       "      <th>id.orig_h</th>\n",
       "      <th>id.orig_p</th>\n",
       "      <th>id.resp_h</th>\n",
       "      <th>id.resp_p</th>\n",
       "      <th>proto</th>\n",
       "      <th>...</th>\n",
       "      <th>resp_bytes</th>\n",
       "      <th>conn_state</th>\n",
       "      <th>missed_bytes</th>\n",
       "      <th>history</th>\n",
       "      <th>orig_pkts</th>\n",
       "      <th>orig_ip_bytes</th>\n",
       "      <th>resp_pkts</th>\n",
       "      <th>resp_ip_bytes</th>\n",
       "      <th>community_id</th>\n",
       "      <th>label</th>\n",
       "    </tr>\n",
       "  </thead>\n",
       "  <tbody>\n",
       "    <tr>\n",
       "      <th>44629</th>\n",
       "      <td>conn</td>\n",
       "      <td>2017-04-19 03:02:58.018252</td>\n",
       "      <td>03:02:58</td>\n",
       "      <td>2017-04-19</td>\n",
       "      <td>CQ5LIk3ALzjX5SQdah</td>\n",
       "      <td>192.168.50.88</td>\n",
       "      <td>37890</td>\n",
       "      <td>142.104.64.203</td>\n",
       "      <td>1922</td>\n",
       "      <td>tcp</td>\n",
       "      <td>...</td>\n",
       "      <td>2223.0</td>\n",
       "      <td>SF</td>\n",
       "      <td>0</td>\n",
       "      <td>ShADadFf</td>\n",
       "      <td>19</td>\n",
       "      <td>2921</td>\n",
       "      <td>18</td>\n",
       "      <td>3167</td>\n",
       "      <td>1:FHcgw0DRDUkWdQWX2ckx+VBYIR4=</td>\n",
       "      <td>Botnet</td>\n",
       "    </tr>\n",
       "    <tr>\n",
       "      <th>270400</th>\n",
       "      <td>conn</td>\n",
       "      <td>2017-04-19 03:02:58.018252</td>\n",
       "      <td>03:02:58</td>\n",
       "      <td>2017-04-19</td>\n",
       "      <td>C1DIHQ2QCOJ9GLkWc2</td>\n",
       "      <td>192.168.50.88</td>\n",
       "      <td>37890</td>\n",
       "      <td>142.104.64.203</td>\n",
       "      <td>1922</td>\n",
       "      <td>tcp</td>\n",
       "      <td>...</td>\n",
       "      <td>2223.0</td>\n",
       "      <td>SF</td>\n",
       "      <td>0</td>\n",
       "      <td>ShADadFf</td>\n",
       "      <td>19</td>\n",
       "      <td>2921</td>\n",
       "      <td>18</td>\n",
       "      <td>3167</td>\n",
       "      <td>1:FHcgw0DRDUkWdQWX2ckx+VBYIR4=</td>\n",
       "      <td>Botnet</td>\n",
       "    </tr>\n",
       "    <tr>\n",
       "      <th>44628</th>\n",
       "      <td>conn</td>\n",
       "      <td>2017-04-19 03:03:22.345278</td>\n",
       "      <td>03:03:22</td>\n",
       "      <td>2017-04-19</td>\n",
       "      <td>CXCYO01cFAOURi14w9</td>\n",
       "      <td>fe80::d58e:a29a:c48:dd8f</td>\n",
       "      <td>546</td>\n",
       "      <td>ff02::1:2</td>\n",
       "      <td>547</td>\n",
       "      <td>udp</td>\n",
       "      <td>...</td>\n",
       "      <td>0.0</td>\n",
       "      <td>S0</td>\n",
       "      <td>0</td>\n",
       "      <td>D</td>\n",
       "      <td>7</td>\n",
       "      <td>973</td>\n",
       "      <td>0</td>\n",
       "      <td>0</td>\n",
       "      <td>1:hBhE2ZQ6mkjyQ7enfKelPcc668k=</td>\n",
       "      <td>Botnet</td>\n",
       "    </tr>\n",
       "    <tr>\n",
       "      <th>270399</th>\n",
       "      <td>conn</td>\n",
       "      <td>2017-04-19 03:03:22.345278</td>\n",
       "      <td>03:03:22</td>\n",
       "      <td>2017-04-19</td>\n",
       "      <td>CTPHiOxhjbmwk6Yj5</td>\n",
       "      <td>fe80::d58e:a29a:c48:dd8f</td>\n",
       "      <td>546</td>\n",
       "      <td>ff02::1:2</td>\n",
       "      <td>547</td>\n",
       "      <td>udp</td>\n",
       "      <td>...</td>\n",
       "      <td>0.0</td>\n",
       "      <td>S0</td>\n",
       "      <td>0</td>\n",
       "      <td>D</td>\n",
       "      <td>7</td>\n",
       "      <td>973</td>\n",
       "      <td>0</td>\n",
       "      <td>0</td>\n",
       "      <td>1:hBhE2ZQ6mkjyQ7enfKelPcc668k=</td>\n",
       "      <td>Botnet</td>\n",
       "    </tr>\n",
       "    <tr>\n",
       "      <th>44627</th>\n",
       "      <td>conn</td>\n",
       "      <td>2017-04-19 03:03:24.369288</td>\n",
       "      <td>03:03:24</td>\n",
       "      <td>2017-04-19</td>\n",
       "      <td>CvHpwH3ORu8EOrKz0d</td>\n",
       "      <td>192.168.50.88</td>\n",
       "      <td>37892</td>\n",
       "      <td>142.104.64.203</td>\n",
       "      <td>1922</td>\n",
       "      <td>tcp</td>\n",
       "      <td>...</td>\n",
       "      <td>2171.0</td>\n",
       "      <td>SF</td>\n",
       "      <td>0</td>\n",
       "      <td>ShADadFf</td>\n",
       "      <td>17</td>\n",
       "      <td>2669</td>\n",
       "      <td>16</td>\n",
       "      <td>3011</td>\n",
       "      <td>1:PPQaDVS78HfscnudgpLSN4BctrE=</td>\n",
       "      <td>Botnet</td>\n",
       "    </tr>\n",
       "    <tr>\n",
       "      <th>...</th>\n",
       "      <td>...</td>\n",
       "      <td>...</td>\n",
       "      <td>...</td>\n",
       "      <td>...</td>\n",
       "      <td>...</td>\n",
       "      <td>...</td>\n",
       "      <td>...</td>\n",
       "      <td>...</td>\n",
       "      <td>...</td>\n",
       "      <td>...</td>\n",
       "      <td>...</td>\n",
       "      <td>...</td>\n",
       "      <td>...</td>\n",
       "      <td>...</td>\n",
       "      <td>...</td>\n",
       "      <td>...</td>\n",
       "      <td>...</td>\n",
       "      <td>...</td>\n",
       "      <td>...</td>\n",
       "      <td>...</td>\n",
       "      <td>...</td>\n",
       "    </tr>\n",
       "    <tr>\n",
       "      <th>5</th>\n",
       "      <td>conn</td>\n",
       "      <td>2017-06-22 02:31:18.910432+00:00</td>\n",
       "      <td>02:31:18</td>\n",
       "      <td>2017-06-22</td>\n",
       "      <td>CiirRXKde30MJmKH9</td>\n",
       "      <td>192.168.50.54</td>\n",
       "      <td>137</td>\n",
       "      <td>192.168.50.255</td>\n",
       "      <td>137</td>\n",
       "      <td>udp</td>\n",
       "      <td>...</td>\n",
       "      <td>0.0</td>\n",
       "      <td>S0</td>\n",
       "      <td>0</td>\n",
       "      <td>D</td>\n",
       "      <td>3</td>\n",
       "      <td>234</td>\n",
       "      <td>0</td>\n",
       "      <td>0</td>\n",
       "      <td>1:xYIOMqjOrJmPCT1lKoPiXQSXrDU=</td>\n",
       "      <td>Normal</td>\n",
       "    </tr>\n",
       "    <tr>\n",
       "      <th>3</th>\n",
       "      <td>conn</td>\n",
       "      <td>2017-06-22 02:31:44.513718+00:00</td>\n",
       "      <td>02:31:44</td>\n",
       "      <td>2017-06-22</td>\n",
       "      <td>CkcOml4Aww3gTnhGya</td>\n",
       "      <td>192.168.50.55</td>\n",
       "      <td>137</td>\n",
       "      <td>192.168.50.255</td>\n",
       "      <td>137</td>\n",
       "      <td>udp</td>\n",
       "      <td>...</td>\n",
       "      <td>0.0</td>\n",
       "      <td>S0</td>\n",
       "      <td>0</td>\n",
       "      <td>D</td>\n",
       "      <td>3</td>\n",
       "      <td>234</td>\n",
       "      <td>0</td>\n",
       "      <td>0</td>\n",
       "      <td>1:oenZbl3W2wbLPK4Bu5IfR9YhNoA=</td>\n",
       "      <td>Normal</td>\n",
       "    </tr>\n",
       "    <tr>\n",
       "      <th>2</th>\n",
       "      <td>conn</td>\n",
       "      <td>2017-06-22 02:32:12.776697+00:00</td>\n",
       "      <td>02:32:12</td>\n",
       "      <td>2017-06-22</td>\n",
       "      <td>CyjMmB2D1shaHKn72g</td>\n",
       "      <td>192.168.50.57</td>\n",
       "      <td>137</td>\n",
       "      <td>192.168.50.255</td>\n",
       "      <td>137</td>\n",
       "      <td>udp</td>\n",
       "      <td>...</td>\n",
       "      <td>0.0</td>\n",
       "      <td>S0</td>\n",
       "      <td>0</td>\n",
       "      <td>D</td>\n",
       "      <td>3</td>\n",
       "      <td>234</td>\n",
       "      <td>0</td>\n",
       "      <td>0</td>\n",
       "      <td>1:JQX2G/xW3VgPHL3rw1MFNz+eTg8=</td>\n",
       "      <td>Normal</td>\n",
       "    </tr>\n",
       "    <tr>\n",
       "      <th>1</th>\n",
       "      <td>conn</td>\n",
       "      <td>2017-06-22 02:32:37.468717+00:00</td>\n",
       "      <td>02:32:37</td>\n",
       "      <td>2017-06-22</td>\n",
       "      <td>Cht3HLL3Moraks302</td>\n",
       "      <td>192.168.50.51</td>\n",
       "      <td>137</td>\n",
       "      <td>192.168.50.255</td>\n",
       "      <td>137</td>\n",
       "      <td>udp</td>\n",
       "      <td>...</td>\n",
       "      <td>0.0</td>\n",
       "      <td>S0</td>\n",
       "      <td>0</td>\n",
       "      <td>D</td>\n",
       "      <td>3</td>\n",
       "      <td>234</td>\n",
       "      <td>0</td>\n",
       "      <td>0</td>\n",
       "      <td>1:bDbXDEXMRBw5v0ieUEGUSeVPiDY=</td>\n",
       "      <td>Normal</td>\n",
       "    </tr>\n",
       "    <tr>\n",
       "      <th>0</th>\n",
       "      <td>conn</td>\n",
       "      <td>2017-06-22 02:33:10.688579+00:00</td>\n",
       "      <td>02:33:10</td>\n",
       "      <td>2017-06-22</td>\n",
       "      <td>CY0VMc1fQcoWR3QKw7</td>\n",
       "      <td>192.168.50.60</td>\n",
       "      <td>137</td>\n",
       "      <td>192.168.50.255</td>\n",
       "      <td>137</td>\n",
       "      <td>udp</td>\n",
       "      <td>...</td>\n",
       "      <td>0.0</td>\n",
       "      <td>S0</td>\n",
       "      <td>0</td>\n",
       "      <td>D</td>\n",
       "      <td>3</td>\n",
       "      <td>234</td>\n",
       "      <td>0</td>\n",
       "      <td>0</td>\n",
       "      <td>1:UkroHSs8STF2pM8UdWxWR0R6OD8=</td>\n",
       "      <td>Normal</td>\n",
       "    </tr>\n",
       "  </tbody>\n",
       "</table>\n",
       "<p>1302998 rows × 23 columns</p>\n",
       "</div>"
      ],
      "text/plain": [
       "       _path                                ts      time        date  \\\n",
       "44629   conn        2017-04-19 03:02:58.018252  03:02:58  2017-04-19   \n",
       "270400  conn        2017-04-19 03:02:58.018252  03:02:58  2017-04-19   \n",
       "44628   conn        2017-04-19 03:03:22.345278  03:03:22  2017-04-19   \n",
       "270399  conn        2017-04-19 03:03:22.345278  03:03:22  2017-04-19   \n",
       "44627   conn        2017-04-19 03:03:24.369288  03:03:24  2017-04-19   \n",
       "...      ...                               ...       ...         ...   \n",
       "5       conn  2017-06-22 02:31:18.910432+00:00  02:31:18  2017-06-22   \n",
       "3       conn  2017-06-22 02:31:44.513718+00:00  02:31:44  2017-06-22   \n",
       "2       conn  2017-06-22 02:32:12.776697+00:00  02:32:12  2017-06-22   \n",
       "1       conn  2017-06-22 02:32:37.468717+00:00  02:32:37  2017-06-22   \n",
       "0       conn  2017-06-22 02:33:10.688579+00:00  02:33:10  2017-06-22   \n",
       "\n",
       "                       uid                 id.orig_h  id.orig_p  \\\n",
       "44629   CQ5LIk3ALzjX5SQdah             192.168.50.88      37890   \n",
       "270400  C1DIHQ2QCOJ9GLkWc2             192.168.50.88      37890   \n",
       "44628   CXCYO01cFAOURi14w9  fe80::d58e:a29a:c48:dd8f        546   \n",
       "270399   CTPHiOxhjbmwk6Yj5  fe80::d58e:a29a:c48:dd8f        546   \n",
       "44627   CvHpwH3ORu8EOrKz0d             192.168.50.88      37892   \n",
       "...                    ...                       ...        ...   \n",
       "5        CiirRXKde30MJmKH9             192.168.50.54        137   \n",
       "3       CkcOml4Aww3gTnhGya             192.168.50.55        137   \n",
       "2       CyjMmB2D1shaHKn72g             192.168.50.57        137   \n",
       "1        Cht3HLL3Moraks302             192.168.50.51        137   \n",
       "0       CY0VMc1fQcoWR3QKw7             192.168.50.60        137   \n",
       "\n",
       "             id.resp_h  id.resp_p proto  ... resp_bytes conn_state  \\\n",
       "44629   142.104.64.203       1922   tcp  ...     2223.0         SF   \n",
       "270400  142.104.64.203       1922   tcp  ...     2223.0         SF   \n",
       "44628        ff02::1:2        547   udp  ...        0.0         S0   \n",
       "270399       ff02::1:2        547   udp  ...        0.0         S0   \n",
       "44627   142.104.64.203       1922   tcp  ...     2171.0         SF   \n",
       "...                ...        ...   ...  ...        ...        ...   \n",
       "5       192.168.50.255        137   udp  ...        0.0         S0   \n",
       "3       192.168.50.255        137   udp  ...        0.0         S0   \n",
       "2       192.168.50.255        137   udp  ...        0.0         S0   \n",
       "1       192.168.50.255        137   udp  ...        0.0         S0   \n",
       "0       192.168.50.255        137   udp  ...        0.0         S0   \n",
       "\n",
       "        missed_bytes   history orig_pkts  orig_ip_bytes resp_pkts  \\\n",
       "44629              0  ShADadFf        19           2921        18   \n",
       "270400             0  ShADadFf        19           2921        18   \n",
       "44628              0         D         7            973         0   \n",
       "270399             0         D         7            973         0   \n",
       "44627              0  ShADadFf        17           2669        16   \n",
       "...              ...       ...       ...            ...       ...   \n",
       "5                  0         D         3            234         0   \n",
       "3                  0         D         3            234         0   \n",
       "2                  0         D         3            234         0   \n",
       "1                  0         D         3            234         0   \n",
       "0                  0         D         3            234         0   \n",
       "\n",
       "        resp_ip_bytes                    community_id   label  \n",
       "44629            3167  1:FHcgw0DRDUkWdQWX2ckx+VBYIR4=  Botnet  \n",
       "270400           3167  1:FHcgw0DRDUkWdQWX2ckx+VBYIR4=  Botnet  \n",
       "44628               0  1:hBhE2ZQ6mkjyQ7enfKelPcc668k=  Botnet  \n",
       "270399              0  1:hBhE2ZQ6mkjyQ7enfKelPcc668k=  Botnet  \n",
       "44627            3011  1:PPQaDVS78HfscnudgpLSN4BctrE=  Botnet  \n",
       "...               ...                             ...     ...  \n",
       "5                   0  1:xYIOMqjOrJmPCT1lKoPiXQSXrDU=  Normal  \n",
       "3                   0  1:oenZbl3W2wbLPK4Bu5IfR9YhNoA=  Normal  \n",
       "2                   0  1:JQX2G/xW3VgPHL3rw1MFNz+eTg8=  Normal  \n",
       "1                   0  1:bDbXDEXMRBw5v0ieUEGUSeVPiDY=  Normal  \n",
       "0                   0  1:UkroHSs8STF2pM8UdWxWR0R6OD8=  Normal  \n",
       "\n",
       "[1302998 rows x 23 columns]"
      ]
     },
     "execution_count": 22,
     "metadata": {},
     "output_type": "execute_result"
    }
   ],
   "source": [
    "df = pd.concat([df_botnet,df_normal])\n",
    "df"
   ]
  },
  {
   "attachments": {},
   "cell_type": "markdown",
   "metadata": {},
   "source": [
    "# Ekstraksi Fitur"
   ]
  },
  {
   "attachments": {},
   "cell_type": "markdown",
   "metadata": {},
   "source": [
    "### Handling Duration Data"
   ]
  },
  {
   "cell_type": "code",
   "execution_count": 23,
   "metadata": {
    "ExecuteTime": {
     "end_time": "2023-08-04T06:19:19.638746Z",
     "start_time": "2023-08-04T06:19:19.506680Z"
    }
   },
   "outputs": [
    {
     "name": "stdout",
     "output_type": "stream",
     "text": [
      "['96us', '96us', '96us', '96us', '94us', '94us', '98us', '98us', '98us', '98us', '99us', '99us', '84us', '84us', '99us', '99us', '90us', '90us', '83us', '83us', '80us', '80us', '99us', '99us', '80us', '80us', '99us', '99us', '94us', '94us', '94us', '94us', '87us', '87us', '99us', '99us', '79us', '79us', '97us', '97us', '41us', '41us', '70us', '95us', '70us', '95us', '66us', '66us', '63us', '98us', '63us', '98us', '78us', '78us', '87us', '87us', '84us', '84us', '94us', '94us', '82us', '82us', '67us', '67us', '75us', '75us', '90us', '90us', '72us', '72us', '95us', '95us', '99us', '99us', '98us', '98us', '99us', '99us', '97us', '97us', '97us', '97us', '95us', '95us', '80us', '80us', '95us', '95us', '98us', '98us', '98us', '98us', '89us', '89us', '95us', '95us', '98us', '98us', '80us', '80us', '99us', '99us', '95us', '95us', '96us', '96us', '99us', '99us', '93us', '93us', '97us', '97us', '91us', '91us', '95us', '95us', '96us', '96us', '83us', '83us', '99us', '99us', '91us', '91us', '81us', '81us', '17us', '76us', '24us', '17us', '76us', '24us', '97us', '97us', '6us', '38us', '6us', '38us', '92us', '92us', '97us', '97us', '7us', '7us', '95us', '95us', '99us', '99us', '97us', '97us', '22us', '22us', '5us', '21us', '5us', '21us', '95us', '95us', '76us', '76us', '96us', '96us', '98us', '98us', '98us', '98us', '21us', '28us', '21us', '28us', '95us', '95us', '11us', '11us', '4us', '88us', '24us', '4us', '88us', '24us', '97ms', '97ms', '85us', '85us', '96us', '96us', '97us', '97us', '99us', '99us', '97us', '97us', '73us', '73us', '99us', '99us', '96us', '96us', '96us', '96us', '96us', '96us', '99us', '99us', '95us', '95us', '97us', '97us', '99us', '99us', '80us', '80us', '97us', '97us', '95us', '95us', '93us', '93us', '77us', '77us', '92us', '92us', '99us', '99us', '87us', '87us', '88us', '88us', '85us', '85us', '99us', '99us', '97us', '97us', '55us', '55us', '96us', '96us', '96us', '96us', '91us', '91us', '72us', '72us', '97us', '97us', '51us', '51us', '46us', '46us', '99us', '99us', '96us', '96us', '98us', '98us', '78us', '78us', '98us', '98us', '97us', '97us', '84us', '84us', '98us', '98us', '95us', '95us', '98us', '98us', '93us', '93us', '97us', '97us', '93us', '93us', '97us', '97us', '93us', '93us', '97us', '97us', '98us', '98us', '94us', '94us', '96us', '96us', '96us', '96us', '62us', '96us', '62us', '96us', '62us', '94us', '62us', '94us', '76us', '76us', '62us', '62us', '64us', '64us', '63us', '96us', '63us', '96us', '67us', '67us', '71us', '71us', '90us', '90us', '63us', '97us', '63us', '97us', '90us', '90us', '77us', '77us', '88us', '95us', '88us', '95us', '65us', '96us', '65us', '96us', '99us', '99us', '97us', '97us', '91us', '91us', '92us', '92us', '69us', '69us', '95us', '95us', '99us', '99us', '97us', '97us', '97us', '97us', '99us', '99us', '96us', '96us', '94us', '94us', '76us', '76us', '99us', '99us', '96us', '96us', '95us', '95us', '95us', '95us', '96us', '96us', '99us', '99us', '96us', '96us', '97us', '97us', '94us', '94us', '96us', '96us', '99us', '99us', '95us', '95us', '98us', '98us', '95us', '95us', '74us', '74us', '99us', '99us', '98us', '98us', '95us', '95us', '73us', '73us', '98us', '98us', '71us', '71us', '95us', '95us', '97us', '97us', '97us', '97us', '73us', '73us', '99us', '99us', '97us', '97us', '94us', '94us', '97us', '97us', '15us', '23us', '15us', '23us', '14us', '14us', '5us', '6us', '23us', '5us', '6us', '23us', '83us', '83us', '98us', '98us', '99us', '99us', '93us', '93us', '97us', '97us', '98us', '98us', '10us', '22us', '10us', '22us', '93us', '93us', '93us', '93us', '71us', '71us', '97us', '97us', '1us', '18us', '1us', '18us', '23us', '23us', '5us', '2us', '5us', '2us', '79us', '79us', '96us', '96us', '99us', '99us', '72us', '72us', '97us', '97us', '95us', '95us', '98us', '98us', '96us', '96us', '94us', '94us', '76us', '76us', '95us', '95us', '84us', '84us', '77us', '77us', '96us', '96us', '98us', '98us', '88us', '88us', '99us', '99us', '99us', '99us', '99us', '99us', '96us', '96us', '94us', '94us', '97us', '97us', '98us', '98us', '72us', '72us', '97us', '97us', '95us', '95us', '98us', '98us', '99us', '99us', '69us', '69us', '99us', '99us', '96us', '96us', '95us', '95us', '73us', '73us', '98us', '98us', '96us', '96us', '97us', '97us', '95us', '95us', '97us', '97us', '78us', '78us', '96us', '96us', '99us', '99us', '95us', '95us', '73us', '73us', '99us', '99us', '99us', '99us', '96us', '96us', '94us', '94us', '96us', '96us', '95us', '95us', '98us', '98us', '98us', '98us', '94us', '94us', '93us', '93us', '85us', '85us', '93us', '93us', '98us', '98us', '69us', '77us', '69us', '77us', '77us', '77us', '64us', '64us', '63us', '63us', '80us', '80us', '66us', '99us', '66us', '99us', '68us', '68us', '65us', '65us', '74us', '74us', '65us', '65us', '64us', '64us', '82us', '82us', '72us', '72us', '65us', '65us', '69us', '69us', '63us', '63us', '99us', '99us', '99us', '99us', '98us', '98us', '96us', '96us', '99us', '99us', '94us', '94us', '83us', '83us', '95us', '95us', '95us', '95us', '98us', '98us', '97us', '97us', '94us', '94us', '95us', '95us', '96us', '96us', '97us', '97us', '95us', '95us', '97us', '97us', '99us', '99us', '94us', '94us', '95us', '95us', '76us', '76us', '91us', '91us', '97us', '97us', '99us', '99us', '69us', '69us', '99us', '99us', '98us', '98us', '99us', '99us', '92us', '92us', '73us', '73us', '72us', '72us', '76us', '76us', '99us', '99us', '74us', '74us', '99us', '99us', '92us', '92us', '97us', '97us', '62us', '62us', '98us', '98us', '98us', '98us', '99us', '99us', '99us', '99us', '95us', '95us', '72us', '72us', '97us', '97us', '95us', '95us', '99us', '99us', '81us', '81us', '98us', '98us', '95us', '95us', '5us', '24us', '5us', '24us', '21us', '21us', '78us', '25us', '78us', '25us', '95us', '95us', '25us', '25us', '95us', '95us', '96us', '96us', '98us', '98us', '92us', '92us', '76us', '76us', '96us', '96us', '98us', '98us', '93us', '93us', '6us', '6us', '6us', '6us', '97us', '97us', '77us', '77us', '96us', '96us', '92us', '92us', '80us', '80us', '26us', '26us', '91us', '91us', '94us', '94us', '95us', '95us', '99us', '24us', '99us', '24us', '1us', '22us', '1us', '22us', '22us', '22us', '16us', '24us', '16us', '24us', '24us', '24us', '97us', '97us', '81us', '81us', '98us', '98us', '99us', '99us', '91us', '91us', '99us', '99us', '76us', '76us', '95us', '95us', '97us', '97us', '98us', '98us', '98us', '98us', '71us', '71us', '95us', '95us', '99us', '99us', '94us', '94us', '98us', '98us', '95us', '95us', '83us', '83us', '99us', '99us', '94us', '94us', '96us', '96us', '92us', '92us', '91us', '91us', '99us', '99us', '98us', '98us', '95us', '95us', '96us', '96us', '72us', '72us', '95us', '95us', '95us', '95us', '97us', '97us', '73us', '73us', '98us', '98us', '69us', '69us', '99us', '99us', '1.5s', '1.5s', '96us', '96us', '91us', '91us', '96us', '96us', '93us', '93us', '95us', '95us', '96us', '96us', '94us', '94us', '95us', '95us', '98us', '98us', '93us', '93us', '94us', '94us', '84us', '84us', '95us', '95us', '94us', '94us', '99us', '99us', '93us', '93us', '96us', '96us', '98us', '98us', '95us', '95us', '81us', '81us', '96us', '96us', '73us', '73us', '81us', '81us', '99us', '99us', '97us', '97us', '88us', '88us', '83us', '83us', '98us', '98us', '98us', '98us', '99us', '99us', '80us', '80us', '99us', '99us', '76us', '76us', '72us', '72us', '98us', '98us', '87us', '87us', '98us', '98us', '88us', '88us', '96us', '96us', '75us', '75us', '97us', '97us', '95us', '95us', '84us', '84us', '96us', '96us', '97us', '97us', '68us', '68us', '97us', '97us', '99us', '99us', '99us', '99us', '96us', '96us', '99us', '99us', '98us', '98us', '98us', '98us', '93us', '93us', '71us', '71us', '84us', '84us', '98us', '98us', '22us', '22us', '32us', '32us', '11us', '20us', '11us', '20us', '97us', '97us', '94us', '94us', '76us', '76us', '20us', '20us', '3us', '37us', '3us', '37us', '96us', '96us', '94us', '94us', '93us', '93us', '9us', '9us', '96us', '96us', '70us', '70us', '99us', '99us', '92us', '92us', '6us', '76us', '6us', '76us', '95us', '95us', '22us', '22us', '97us', '97us', '99us', '99us', '75us', '75us', '71us', '71us', '63us', '97us', '63us', '97us', '64us', '64us', '65us', '98us', '65us', '98us', '65us', '65us', '66us', '66us', '66us', '96us', '66us', '96us', '77us', '77us', '99us', '99us', '65us', '65us', '67us', '67us', '71us', '71us', '70us', '70us', '65us', '65us', '73us', '73us', '93us', '93us', '92us', '92us', '97us', '97us', '87us', '87us', '96us', '96us', '91us', '91us', '96us', '96us', '89us', '89us', '75us', '75us', '87us', '87us', '92us', '92us', '94us', '94us', '70us', '70us', '96us', '96us', '98us', '98us', '93us', '93us', '98us', '98us', '97us', '97us', '99us', '99us', '99us', '99us', '72us', '72us', '99us', '99us', '83us', '83us', '88us', '88us', '90us', '90us', '95us', '95us', '92us', '92us', '92us', '92us', '73us', '73us', '98us', '98us', '73us', '73us', '99us', '99us', '95us', '95us', '97us', '97us', '96us', '96us', '96us', '96us', '98us', '98us', '77us', '77us', '94us', '94us', '94us', '94us', '98us', '98us', '99us', '99us', '98us', '98us', '99us', '99us', '94us', '94us', '96us', '96us', '99us', '99us', '71us', '71us', '98us', '98us', '93us', '93us', '71us', '71us', '99us', '99us', '97us', '97us', '96us', '96us', '92us', '92us', '97us', '97us', '91us', '91us', '97us', '97us', '71us', '71us', '95us', '95us', '90us', '90us', '79us', '79us', '95us', '95us', '89us', '89us', '88us', '88us', '71us', '71us', '98us', '98us', '98us', '98us', '96us', '96us', '75us', '75us', '98us', '98us', '97us', '97us', '98us', '98us', '92us', '92us', '97us', '97us', '63us', '63us', '71us', '94us', '71us', '94us', '67us', '67us', '64us', '64us', '64us', '64us', '64us', '64us', '75us', '75us', '92us', '92us', '64us', '77us', '64us', '77us', '64us', '64us', '63us', '90us', '63us', '90us', '83us', '83us', '68us', '92us', '68us', '92us', '63us', '96us', '63us', '96us', '95us', '95us', '96us', '96us', '73us', '73us', '96us', '96us', '95us', '95us', '96us', '96us', '99us', '99us', '97us', '97us', '96us', '96us', '93us', '93us', '92us', '92us', '90us', '90us', '96us', '96us', '99us', '99us', '69us', '69us', '97us', '97us', '94us', '94us', '98us', '98us', '74us', '74us', '95us', '95us', '97us', '97us', '97us', '97us', '98us', '98us', '96us', '96us', '99us', '99us', '80us', '80us', '97us', '97us', '99us', '99us', '99us', '99us', '97us', '97us', '96us', '96us', '97us', '97us', '95us', '95us', '97us', '97us', '84us', '84us', '94us', '94us', '88us', '88us', '97us', '97us', '99us', '99us', '83us', '83us', '98us', '98us', '99us', '99us', '98us', '98us', '75us', '75us', '1us', '3us', '1us', '3us', '24us', '24us', '20us', '20us', '2us', '3us', '2us', '3us', '22us', '22us', '31us', '31us', '22us', '22us', '10us', '10us', '24us', '24us', '10us', '10us', '25us', '25us', '91us', '91us', '98us', '98us', '91us', '91us', '93us', '93us', '92us', '92us', '1us', '23us', '1us', '23us', '69us', '69us', '70us', '70us', '98us', '98us', '68us', '68us', '25us', '25us', '9us', '9us', '97us', '22us', '97us', '22us', '21us', '21us', '94us', '94us', '95us', '95us', '18us', '18us', '93us', '93us', '22us', '22us', '94us', '21us', '94us', '21us', '92us', '92us', '92us', '92us', '18us', '18us', '23us', '23us', '86us', '86us', '99us', '99us', '97us', '97us', '95us', '95us', '92us', '92us', '93us', '93us', '97us', '97us', '97us', '97us', '97us', '97us', '75us', '75us', '95us', '95us', '96us', '96us', '96us', '96us', '94us', '94us', '96us', '96us', '98us', '98us', '89us', '89us', '70us', '70us', '91us', '91us', '99us', '99us', '96us', '96us', '95us', '95us', '98us', '98us', '97us', '97us', '69us', '69us', '91us', '91us', '98us', '98us', '95us', '95us', '69us', '69us', '98us', '98us', '97us', '97us', '98us', '98us', '98us', '98us', '99us', '99us', '92us', '92us', '71us', '71us', '97us', '97us', '94us', '94us', '99us', '99us', '92us', '92us', '99us', '99us', '74us', '74us', '93us', '93us', '95us', '95us', '95us', '95us', '94us', '94us', '96us', '96us', '99us', '99us', '70us', '70us', '92us', '92us', '93us', '93us', '99us', '99us', '98us', '98us', '99us', '99us', '98us', '98us', '97us', '97us', '70us', '70us', '99us', '99us', '99us', '99us', '92us', '92us', '95us', '95us', '93us', '93us', '97us', '97us', '96us', '96us', '98us', '98us', '96us', '96us', '78us', '78us', '98us', '98us', '95us', '95us', '98us', '98us', '93us', '93us', '97us', '97us', '94us', '94us', '93us', '93us', '97us', '97us', '95us', '95us', '97us', '97us', '97us', '97us', '97us', '97us', '98us', '98us', '99us', '99us', '93us', '93us', '95us', '95us', '96us', '96us', '70us', '70us', '93us', '93us', '96us', '96us', '92us', '92us', '96us', '96us', '93us', '93us', '95us', '95us', '96us', '96us', '93us', '93us', '70us', '95us', '70us', '95us', '87us', '95us', '87us', '95us', '93us', '93us', '63us', '63us', '64us', '99us', '64us', '99us', '63us', '97us', '63us', '97us', '82us', '98us', '82us', '98us', '62us', '96us', '62us', '96us', '80us', '96us', '80us', '96us', '88us', '88us', '61us', '61us', '64us', '68us', '64us', '68us', '66us', '86us', '66us', '86us', '75us', '97us', '75us', '97us', '83us', '97us', '83us', '97us', '69us', '69us', '97us', '97us', '96us', '96us', '98us', '98us', '99us', '99us', '93us', '93us', '95us', '95us', '96us', '96us', '95us', '95us', '99us', '99us', '98us', '98us', '99us', '99us', '96us', '96us', '97us', '97us', '98us', '98us', '97us', '97us', '69us', '69us', '80us', '80us', '89us', '89us', '93us', '93us', '99us', '99us', '95us', '95us', '95us', '95us', '72us', '72us', '97us', '97us', '97us', '97us', '95us', '95us', '98us', '98us', '96us', '96us', '92us', '92us', '10us', '26us', '10us', '26us', '37us', '37us', '21us', '21us', '1us', '8us', '24us', '1us', '8us', '24us', '1us', '11us', '21us', '1us', '11us', '21us', '71us', '71us', '27us', '27us', '21us', '21us', '72us', '72us', '93us', '93us', '98us', '98us', '97us', '97us', '99us', '99us', '91us', '91us', '99us', '99us', '9us', '9us', '24us', '24us', '98us', '98us', '95us', '95us', '93us', '93us', '99us', '99us', '99us', '99us', '7us', '23us', '7us', '23us', '21us', '21us', '69us', '69us', '93us', '93us', '75us', '75us', '94us', '94us', '6us', '22us', '6us', '22us', '23us', '23us', '10us', '20us', '10us', '20us', '26us', '26us', '26us', '26us', '22us', '22us', '95us', '95us', '95us', '95us', '99us', '99us', '97us', '97us', '94us', '94us', '97us', '97us', '79us', '79us', '91us', '91us', '92us', '92us', '94us', '94us', '92us', '92us', '97us', '97us', '99us', '99us', '95us', '95us', '97us', '97us', '71us', '71us', '91us', '91us', '90us', '90us', '94us', '94us', '93us', '93us', '96us', '96us', '91us', '91us', '98us', '98us', '91us', '91us', '89us', '89us', '88us', '88us', '97us', '97us', '93us', '93us', '98us', '98us', '95us', '95us', '99us', '99us', '94us', '94us', '97us', '97us', '98us', '98us', '96us', '96us', '94us', '94us', '94us', '94us', '98us', '98us', '98us', '98us', '95us', '95us', '97us', '97us', '47us', '47us', '98us', '98us', '92us', '92us', '88us', '72us', '97us', '77us', '99us', '99us', '7ms', '7ms', '7ms', '51ms', '96ms', '22ms', '7ms', '16ms', '7ms', '7ms', '7ms', '98ms', '7ms', '98ms', '67ms', '7ms', '7ms', '98ms', '7ms', '1m3s', '38ms', '7ms', '6s', '15ms', '7ms', '98ms', '7ms', '99ms', '15ms', '6s', '7ms', '99ms', '38ms', '16ms', '7ms', '7ms', '7ms', '14ms', '6ms', '4ms', '4ms', '19ms', '6s', '35ms', '18ms', '4ms', '4ms', '4ms', '99ms', '95ms', '45ms', '38ms', '99us', '90us', '89us', '14ms', '83us', '80us', '20ms', '21us', '11ms', '14ms', '45us', '86us', '23us', '87us', '37ms', '4ms', '11ms', '78us', '89us', '91us', '90us', '91us', '95us', '75us', '91us', '11ms', '94us', '11ms', '43ms', '93us', '84us', '80us', '88us', '22us', '11ms', '94us', '86us', '38ms', '99us', '4ms', '13ms', '11ms', '11ms', '98us', '11ms', '84us', '21us', '21us', '98us', '11ms', '90us', '11ms', '93us', '11ms', '98ms', '11ms', '93us', '13ms', '38ms', '19us', '97us', '99us', '11ms', '26us', '11ms', '11ms', '89us', '29ms', '38ms', '13ms', '37ms', '88us', '21us', '11ms', '11ms', '94us', '39ms', '11ms', '92us', '23us', '11ms', '2ms', '98us', '11ms', '98us', '45us', '22us', '11ms', '20us', '79us', '20us', '75us', '50ms', '23us', '92us', '90us', '11ms', '11ms', '37ms', '27us', '98us', '42ms', '92us', '94us', '38ms', '11ms', '77us', '78us', '11ms', '96us', '90us', '12ms', '90us', '5ms', '98us', '5us', '91us', '94us', '99us', '38ms', '95us', '50ms', '42us', '22us', '19us', '30us', '5us', '91us', '38ms', '79us', '22us', '68us', '98us', '97us', '11ms', '27us', '11ms', '88us', '95us', '11ms', '86us', '84us', '21us', '98us', '81us', '5us', '11ms', '97us', '4ms', '25us', '11ms', '37ms', '38ms', '16ms', '23us', '12ms', '18ms', '98us', '24us', '46ms', '85us', '11ms', '87us', '96us', '93us', '12ms', '90us', '96us', '79us', '37ms', '94us', '11ms', '11ms', '94us', '99us', '11ms', '11ms', '97us', '11ms', '42ms', '11ms', '11ms', '21us', '18us', '91us', '88us', '12ms', '11ms', '13ms', '94us', '5ms', '23us', '10ms', '92us', '11ms', '11ms', '26us', '98us', '12ms', '21us', '94us', '20us', '11ms', '11ms', '24us', '5us', '92us', '96us', '11ms', '98us', '14ms', '20us', '24us', '48ms', '95us', '12ms', '89us', '11ms', '5us', '25us', '24us', '12ms', '48ms', '2ms', '86us', '21us', '6us', '82ms', '6us', '11ms', '11ms', '89us', '11ms', '91us', '85us', '21us', '90us', '90us', '84us', '88us', '11ms', '91us', '94us', '56us', '6us', '4ms', '11ms', '97us', '83us', '11ms', '99us', '89us', '20us', '95us', '22us', '13ms', '13ms', '95us', '13ms', '11ms', '11ms', '5us', '88us', '83us', '4ms', '97us', '96us', '9ms', '28us', '25us', '25us', '36us', '24us', '25us', '25us', '92us', '95us', '95us', '81us', '89us', '87us', '94us', '90us', '95us', '92us', '96us', '91us', '89us', '88us', '84us', '84us', '90us', '95us', '93us', '94us', '93us', '96us', '95us', '80us', '84us', '77us', '91us', '91us', '94us', '95us', '1m3s', '91us', '96us', '85us', '96us', '95us', '96us', '92us', '96us', '92us', '90us', '93us', '91us', '94us', '95us', '97us', '98us', '92us', '91us', '92us', '92us', '79us', '84us', '95us', '95us', '96us', '97us', '81us', '96us', '88us', '86us', '95us', '94us', '96us', '97us', '83us', '82us', '98us', '89us', '93us', '96us', '99us', '93us', '78us', '93us', '77us', '92us', '90us', '93us', '95us', '81us', '91us', '98us', '89us', '89us', '95us', '95us', '94us', '84us', '97us', '90us', '92us', '43us', '99us', '82us', '97us', '78us', '99us', '93us', '97us', '89us', '75us', '97us', '90us', '96us', '82us', '93us', '96us', '89us', '92us', '88us', '95us', '94us', '93us', '97us', '93us', '92us', '88us', '97us', '96us', '73us', '78us', '88us', '73us', '96us', '78us', '90us', '79us', '94us', '94us', '93us', '91us', '99us', '94us', '96us', '85us', '84us', '88us', '89us', '95us', '90us', '94us', '79us', '98us', '91us', '83us', '86us', '91us', '99us', '99us', '93us', '94us', '98us', '95us', '85us', '98us', '95us', '94us', '89us', '89us', '96us', '90us', '99us', '95us', '96us', '92us', '92us', '92us', '97us', '97us', '90us', '97us', '98us', '78us', '97us', '93us', '96us', '83us', '97us', '88us', '95us', '98us', '90us', '94us', '85us', '93us', '98us', '99us', '90us', '96us', '86us', '93us', '94us', '97us', '78us', '96us', '90us', '68us', '90us', '62us', '62us', '93us', '66us', '77us', '94us', '85us', '64us', '98us', '79us', '64us', '63us', '93us', '65us', '69us', '63us', '62us', '74us', '92us', '75us', '94us', '73us', '99us', '96us', '94us', '99us', '90us', '93us', '92us', '42us', '90us', '96us', '97us', '93us', '94us', '99us', '96us', '95us', '96us', '98us', '94us', '91us', '96us', '97us', '96us', '95us', '99us', '93us', '98us', '94us', '91us', '95us', '93us', '84us', '95us', '93us', '96us', '90us', '98us', '90us', '79us', '93us', '92us', '90us', '90us', '96us', '82us', '96us', '92us', '94us', '86us', '94us', '92us', '87us', '97us', '93us', '92us', '88us', '93us', '99us', '97us', '97us', '88us', '94us', '95us', '93us', '98us', '98us', '94us', '70us', '98us', '97us', '97us', '94us', '94us', '97us', '85us', '96us', '91us', '97us', '97us', '94us', '95us', '90us', '89us', '94us', '95us', '93us', '94us', '95us', '84us', '90us', '99us', '91us', '95us', '96us', '93us', '92us', '94us', '91us', '96us', '95us', '97us', '82us', '78us', '93us', '99us', '88us', '95us', '77us', '91us', '92us', '95us', '93us', '76us', '96us', '95us', '85us', '87us', '98us', '95us', '94us', '85us', '91us', '98us', '89us', '95us', '78us', '95us', '97us', '93us', '82us', '79us', '95us', '99us', '95us', '95us', '92us', '86us', '96us', '95us', '97us', '87us', '89us', '94us', '89us', '94us', '80us', '94us', '90us', '91us', '97us', '94us', '89us', '96us', '88us', '90us', '92us', '98us', '97us', '94us', '92us', '95us', '89us', '91us', '90us', '85us', '98us', '96us', '95us', '92us', '94us', '94us', '93us', '96us', '94us', '94us', '81us', '92us', '99us', '92us', '93us', '97us', '92us', '89us', '84us', '99us', '88us', '78us', '95us', '97us', '94us', '99us', '99us', '93us', '88us', '93us', '96us', '95us', '95us', '96us', '93us', '96us', '96us', '97us', '91us', '93us', '92us', '95us', '99us', '97us', '95us', '87us', '93us', '63us', '91us', '77us', '98us', '84us', '82us', '70us', '95us', '83us', '92us', '69us', '65us', '95us', '65us', '93us', '64us', '97us', '73us', '64us', '93us', '60us', '68us', '95us', '87us', '92us', '88us', '92us', '87us', '90us', '96us', '93us', '88us', '98us', '91us', '91us', '90us', '93us', '95us', '94us', '72us', '97us', '96us', '89us', '92us', '93us', '96us', '97us', '96us', '80us', '98us', '96us', '94us', '93us', '99us', '96us', '96us', '92us', '98us', '93us', '97us', '92us', '96us', '92us', '93us', '95us', '99us', '97us', '95us', '97us', '97us', '95us', '96us', '95us', '98us', '87us', '96us', '95us', '88us', '92us', '78us', '94us', '94us', '86us', '96us', '77us', '1.5s', '84us', '99us', '86us', '93us', '95us', '82us', '70us', '86us', '87us', '92us', '90us', '97us', '98us', '96us', '98us', '90us', '94us', '90us', '98us', '95us', '96us', '95us', '78us', '95us', '88us', '98us', '91us', '93us', '81us', '1.5s', '90us', '91us', '92us', '98us', '96us', '95us', '96us', '94us', '88us', '96us', '97us', '94us', '94us', '96us', '94us', '96us', '96us', '95us', '90us', '94us', '95us', '97us', '98us', '96us', '94us', '77us', '84us', '93us', '95us', '94us', '91us', '88us', '97us', '99us', '95us', '94us', '91us', '93us', '96us', '98us', '93us', '91us', '98us', '96us', '98us', '95us', '93us', '89us', '99us', '95us', '97us', '84us', '99us', '94us', '91us', '98us', '97us', '89us', '91us', '94us', '98us', '95us', '97us', '95us', '99us', '96us', '89us', '95us', '98us', '92us', '93us', '97us', '92us', '96us', '93us', '95us', '94us', '92us', '96ms', '90us', '85us', '93us', '98us', '96us', '97us', '89us', '94us', '94us', '95us', '95us', '91us', '97us', '88us', '93us', '88us', '92us', '83us', '88us', '81us', '94us', '98us', '92us', '92us', '82us', '99us', '99us', '90us', '93us', '78us', '78us', '80us', '87us', '99us', '94us', '85us', '94us', '93us', '83us', '77us', '91us', '93us', '94us', '99us', '96us', '95us', '95us', '93us', '94us', '95us', '82us', '92us', '88us', '96us', '94us', '95us', '95us', '94us', '87us', '89us', '98us', '90us', '90us', '94us', '94us', '77us', '85us', '96us', '97us', '94us', '97us', '88us', '90us', '99us', '96us', '95us', '85us', '97us', '98us', '97us', '90us', '99us', '68us', '94us', '91us', '97us', '87us', '95us', '95us', '93us', '90us', '96us', '79us', '84us', '93us', '92us', '93us', '93us', '95us', '96us', '99us', '93us', '98us', '70us', '97us', '93us', '90us', '96us', '91us', '92us', '95us', '93us', '81us', '96us', '92us', '83us', '89us', '95us', '95us', '95us', '82us', '86us', '98us', '95us', '81us', '74us', '96us', '88us', '85us', '79us', '84us', '86us', '95us', '92us', '92us', '95us', '94us', '81us', '99us', '94us', '94us', '94us', '99us', '94us', '95us', '75us', '76us', '93us', '87us', '98us', '92us', '97us', '95us', '95us', '78us', '94us', '90us', '90us', '96us', '97us', '95us', '90us', '84us', '97us', '46us', '99us', '92us', '97us', '95us', '93us', '93us', '2s', '1.5s', '88us', '93us', '99us', '96us', '82us', '81us', '85us', '86us', '86us', '98us', '98us', '99us', '99us', '86us', '94us', '91us', '94us', '95us', '92us', '91us', '97us', '99us', '98us', '93us', '83us', '85us', '94us', '93us', '95us', '93us', '92us', '90us', '89us', '84us', '94us', '97us', '93us', '95us', '91us', '88us', '98us', '96us', '99us', '85us', '97us', '70us', '98us', '63us', '97us', '68us', '95us', '75us', '65us', '64us', '95us', '74us', '72us', '72us', '99us', '84us', '61us', '94us', '65us', '62us', '84us', '66us', '94us', '73us', '67us', '93us', '94us', '76us', '87us', '75us', '77us', '84us', '82us', '93us', '94us', '98us', '99us', '96us', '99us', '92us', '97us', '96us', '98us', '92us', '93us', '97us', '98us', '94us', '96us', '80us', '93us', '92us', '97us', '98us', '93us', '85us', '82us', '98us', '99us', '91us', '91us', '92us', '94us', '93us', '92us', '89us', '85us', '91us', '92us', '89us', '95us', '94us', '96us', '86us', '89us', '93us', '95us', '96us', '98us', '72us', '83us', '77us', '98us', '98us', '83us', '97us', '87us', '99us', '96us', '88us', '79us', '96us', '91us', '92us', '97us', '95us', '93us', '98us', '99us', '72us', '93us', '80us', '91us', '91us', '1.5s', '91us', '89us', '98us', '88us', '92us', '88us', '46us', '90us', '83us', '99us', '84us', '92us', '90us', '89us', '90us', '95us', '95us', '93us', '96us', '88us', '94us', '94us', '92us', '83us', '91us', '91us', '88us', '78us', '82us', '96us', '98us', '95us', '98us', '92us', '89us', '77us', '95us', '42us', '98us', '98us', '99us', '95us', '94us', '92us', '93us', '99us', '97us', '89us', '87us', '93us', '97us', '95us', '93us', '96us', '94us', '99us', '82us', '99us', '84us', '95us', '86us', '75us', '89us', '90us', '96us', '96us', '90us', '98us', '91us', '96us', '92us', '93us', '99us', '93us', '94us', '92us', '83us', '92us', '96us', '77us', '99us', '79us', '72us', '65us', '98us', '78us', '64us', '66us', '71us', '95us', '84us', '73us', '98us', '63us', '64us', '96us', '63us', '93us', '65us', '89us', '64us', '64us', '62us', '95us', '87us', '85us', '97us', '92us', '99us', '98us', '94us', '95us', '97us', '95us', '75us', '97us', '98us', '97us', '91us', '95us', '99us', '85us', '82us', '94us', '95us', '92us', '86us', '86us', '87us', '94us', '1.5s', '94us', '91us', '94us', '96us', '93us', '89us', '84us', '97us', '96us', '96us', '90us', '88us', '90us', '91us', '95us', '99us', '93us', '91us', '95us', '89us', '94us', '91us', '97us', '94us', '92us', '99us', '95us', '87us', '94us', '92us', '98us', '96us', '93us', '85us', '94us', '94us', '97us', '95us', '83us', '71us', '93us', '92us', '95us', '97us', '99us', '93us', '91us', '84us', '98us', '96us', '98us', '89us', '94us', '94us', '81us', '86us', '92us', '91us', '96us', '88us', '96us', '94us', '93us', '95us', '88us', '97us', '99us', '96us', '94us', '93us', '82us', '86us', '93us', '94us', '92us', '93us', '98us', '89us', '96us', '96us', '64us', '99us', '91us', '95us', '84us', '86us', '98us', '96us', '94us', '94us', '99us', '85us', '90us', '81us', '92us', '94us', '99us', '91us', '81us', '87us', '92us', '91us', '93us', '90us', '98us', '73us', '98us', '76us', '97us', '95us', '97us', '83us', '96us', '99us', '87us', '88us', '96us', '93us', '81us', '82us', '93us', '73us', '89us', '80us', '96us', '92us', '98us', '93us', '96us', '97us', '96us', '98us', '93us', '98us', '98us', '90us', '94us', '95us', '98us', '94us', '96us', '93us', '90us', '96us', '92us', '93us', '96us', '90us', '93us', '95us', '89us', '94us', '95us', '86us', '95us', '91us', '96us', '91us', '94us', '81us', '98us', '88us', '89us', '93us', '98us', '77us', '96us', '92us', '88us', '94us', '76us', '96us', '95us', '99us', '85us', '91us', '95us', '97us', '98us', '95us', '97us', '73us', '78us', '95us', '90us', '95us', '90us', '94us', '95us', '96us', '95us', '96us', '76us', '84us', '94us', '98us', '95us', '87us', '98us', '97us', '96us', '82us', '99us', '93us', '99us', '98us', '1ms', '95us', '96us', '95us', '99us', '86us', '89us', '94us', '87us', '89us', '88us', '95us', '84us', '98us', '89us', '90us', '85us', '95us', '97us', '99us', '78us', '95us', '93us', '90us', '80us', '93us', '93us', '96us', '95us', '1.5s', '93us', '93us', '93us', '99us', '99us', '96us', '96us', '95us', '98us', '85us', '87us', '95us', '84us', '92us', '80us', '90us', '98us', '72us', '98us', '93us', '97us', '1.5s', '98us', '99us', '96us', '95us', '86us', '96us', '98us', '88us', '99us', '94us', '76us', '96us', '95us', '92us', '98us', '93us', '93us', '93us', '77us', '86us', '94us', '97us', '93us', '94us', '92us', '87us', '97us', '92us', '84us', '87us', '92us', '99us', '91us', '95us', '91us', '89us', '79us', '94us', '92us', '99us', '96us', '87us', '99us', '94us', '93us', '97us', '93us', '95us', '1.5s', '91us', '97us', '97us', '96us', '92us', '91us', '87us', '71us', '95us', '64us', '96us', '65us', '94us', '61us', '92us', '74us', '65us', '96us', '69us', '92us', '73us', '94us', '64us', '98us', '62us', '93us', '75us', '69us', '67us', '95us', '92us', '96us', '99us', '94us', '96us', '94us', '94us', '97us', '96us', '95us', '92us', '99us', '96us', '95us', '96us', '98us', '97us', '94us', '93us', '98us', '99us', '96us', '95us', '91us', '95us', '93us', '88us', '96us', '95us', '90us', '95us', '97us', '98us', '77us', '91us', '92us', '91us', '86us', '76us', '89us', '94us', '92us', '93us', '74us', '83us', '96us', '83us', '90us', '92us', '76us', '76us', '96us', '97us', '97us', '92us', '76us', '84us', '96us', '99us', '96us', '93us', '98us', '89us', '91us', '92us', '95us', '92us', '89us', '99us', '1m1s', '93us', '89us', '92us', '93us', '91us', '97us', '86us', '92us', '82us', '81us', '88us', '93us', '97us', '98us', '95us', '96us', '94us', '97us', '93us', '84us', '92us', '93us', '75us', '85us', '92us', '99us', '90us', '99us', '97us', '91us', '95us', '95us', '98us', '99us', '98us', '85us', '97us', '94us', '90us', '99us', '94us', '96us', '84us', '98us', '90us', '92us', '68us', '83us', '94us', '95us', '89us', '94us', '97us', '82us', '92us', '93us', '91us', '95ms', '99us', '96us', '96us', '82us', '93us', '91us', '98us', '97us', '91us', '93us', '95us', '96us', '97us', '97us', '97us', '96us', '93us', '91us', '95us', '98us', '86us', '98us', '93us', '81us', '96us', '87us', '96us', '83us', '80us', '95us', '96us', '95us', '96us', '85us', '89us', '87us', '99us', '98us', '96us', '94us', '96us', '93us', '97us', '92us', '99us', '92us', '97us', '90us', '69us', '94us', '87us', '71us', '84us', '64us', '66us', '93us', '62us', '67us', '80us', '98us', '71us', '96us', '68us', '65us', '63us', '76us', '95us', '84us', '83us', '91us', '63us', '96us', '95us', '96us', '96us', '91us', '75us', '97us', '84us', '96us', '96us', '92us', '97us', '98us', '96us', '92us', '96us', '96us', '95us', '83us', '95us', '99us', '91us', '96us', '94us', '81us', '91us', '1.5s', '98us', '83us', '86us', '91us', '83us', '91us', '98us', '95us', '88us', '85us', '98us', '89us', '76us', '1.5s', '97us', '93us', '94us', '99us', '97us', '87us', '96us', '94us', '67us', '97us', '95us', '94us', '91us', '79us', '80us', '98us', '96us', '99us', '98us', '94us', '98us', '94us', '94us', '97us', '97us', '99us', '94us', '94us', '89us', '91us', '94us', '94us', '98us', '96us', '96us', '91us', '99us', '99us', '96us', '93us', '94us', '96us', '93us', '98us', '97us', '93us', '90us', '95us', '83us', '88us', '92us', '82us', '75us', '79us', '66us', '94us', '71us', '91us', '97us', '87us', '95us', '88us', '94us', '97us', '90us', '92us', '80us', '82us', '83us', '97us', '91us', '91us', '92us', '96us', '98us', '96us', '92us', '90us', '92us', '97us', '96us', '92us', '95us', '96us', '94us', '90us', '94us', '94us', '94us', '92us', '97us', '96us', '91us', '99us', '97us', '92us', '87us', '95us', '94us', '91us', '98us', '93us', '96us', '95us', '95us', '96us', '94us', '96us', '96us', '94us', '92us', '95us', '99us', '95us', '89us', '94us', '94us', '84us', '89us', '89us', '98us', '91us', '99us', '92us', '98us', '97us', '93us', '95us', '90us', '96us', '96us', '93us', '89us', '94us', '98us', '74us', '98us', '95us', '87us', '93us', '93us', '95us', '82us', '94us', '91us', '82us', '84us', '92us', '99us', '97us', '92us', '87us', '96us', '55us', '87us', '67us', '95us', '63us', '92us', '91us', '64us', '92us', '74us', '97us', '63us', '88us', '81us', '87us', '83us', '67us', '65us', '75us', '66us', '72us', '91us', '62us', '94us', '96us', '44us', '96us', '83us', '86us', '93us', '96us', '99us', '96us', '89us', '92us', '92us', '97us', '98us', '94us', '99us', '96us', '95us', '95us', '98us', '92us', '96us', '92us', '97us', '93us', '92us', '91us', '97us', '95us', '95us', '99us', '91us', '98us', '99us', '97us', '93us', '98us', '70us', '96us', '92us', '75us', '74us', '93us', '97us', '93us', '87us', '94us', '85us', '87us', '98us', '90us', '96us', '51us', '97us', '85us', '96us', '87us', '94us', '94us', '94us', '88us', '90us', '91us', '89us', '82us', '93us', '91us', '83us', '95us', '99us', '96us', '93us', '97us', '97us', '95us', '90us', '81us', '98us', '95us', '98us', '84us', '98us', '85us', '97us', '99us', '94us', '92us', '90us', '99us', '95us', '83us', '95us', '89us', '93us', '93us', '93us', '79us', '94us', '93us', '96us', '90us', '86us', '96us', '97us', '92us', '90us', '84us', '93us', '97us', '74us', '90us', '97us', '92us', '92us', '88us', '97us', '87us', '88us', '92us', '99us', '97us', '95us', '93us', '94us', '87us', '87us', '93us', '90us', '93us', '98us', '92us', '99us', '94us', '84us', '99us', '81us', '95us', '96us', '95us', '91us', '93us', '93us', '92us', '93us', '92us', '94us', '99us', '92us', '98us', '95us', '98us', '94us', '91us', '97us', '97us', '95us', '93us', '87us', '94us', '91us', '94us', '99us', '94us', '72us', '82us', '93us', '99us', '98us', '93us', '95us', '94us', '91us', '95us', '92us', '88us', '97us', '95us', '95us', '93us', '95us', '89us', '82us', '98us', '90us', '98us', '92us', '85us', '96us', '99us', '99us', '95us', '83us', '95us', '85us', '89us', '94us', '84us', '80us', '93us', '94us', '91us', '94us', '73us', '93us', '98us', '80us', '1.5s', '95us', '99us', '96us', '98us', '88us', '99us', '93us', '82us', '91us', '84us', '91us', '95us', '94us', '86us', '87us', '94us', '95us', '91us', '95us', '88us', '98us', '99us', '99us', '94us', '99us', '93us', '93us', '94us', '94us', '4s', '98us', '96us', '90us', '70us', '90us', '98us', '98us', '94us', '99us', '86us', '87us', '83us', '92us', '92us', '97us', '84us', '81us', '96us', '92us', '91us', '95us', '89us', '98us', '93us', '92us', '93us', '91us', '95us', '87us', '95us', '83us', '88us', '1.5s', '99us', '78us', '86us', '91us', '91us', '89us', '92us', '86us', '99us', '81us', '91us', '92us', '90us', '93us', '96us', '99us', '82us', '92us', '70us', '64us', '63us', '91us', '64us', '92us', '62us', '89us', '62us', '97us', '73us', '96us', '62us', '91us', '72us', '65us', '94us', '62us', '93us', '62us', '96us', '96us', '66us', '92us', '68us', '95us', '69us', '93us', '91us', '79us', '93us', '95us', '95us', '91us', '92us', '92us', '97us', '97us', '97us', '93us', '84us', '79us', '95us', '94us', '96us', '92us', '75us', '96us', '98us', '96us', '96us', '79us', '92us', '78us', '97us', '95us', '92us', '89us', '94us', '76us', '78us', '90us', '93us', '91us', '97us', '99us', '44us', '95us', '97us', '93us', '95us', '92us', '92us', '98us', '99us', '96us', '97us', '97us', '94us', '80us', '85us', '93us', '92us', '94us', '87us', '93us', '98us', '95us', '93us', '96us', '94us', '95us', '97us', '74us', '94us', '99us', '80us', '91us', '92us', '91us', '98us', '93us', '97us', '82us', '93us', '93us', '90us', '97us', '91us', '96us', '92us', '94us', '97us', '96us', '97us', '97us', '93us', '87us', '92us', '97us', '88us', '98us', '98us', '96us', '87us', '85us', '78us', '94us', '94us', '82us', '89us', '75us', '94us', '96us', '86us', '88us', '97us', '83us', '92us', '92us', '94us', '95us', '91us', '99us', '97us', '89us', '86us', '92us', '98us', '97us', '99us', '94us', '94us', '97us', '86us', '92us', '96us', '91us', '89us', '99us', '88us', '86us', '97us', '91us', '90us', '98us', '90us', '99us', '92us', '87us', '90us', '79us', '94us', '94us', '99us', '97us', '84us', '96us', '88us', '96us', '98us', '97us', '89us', '98us', '96us', '81us', '98us', '95us', '92us', '93us', '94us', '78us', '97us', '93us', '95us', '91us', '89us', '86us', '86us', '95us', '91us', '88us', '87us', '87us', '92us', '94us', '78us', '83us', '90us', '97us', '85us', '96us', '95us', '99us', '92us', '97us', '82us', '77us', '83us', '92us', '99us', '79us', '86us', '94us', '93us', '80us', '99us', '98us', '92us', '99us', '99us', '98us', '96us', '79us', '97us', '98us', '95us', '94us', '87us', '99us', '93us', '66us', '72us', '95us', '73us', '84us', '96us', '65us', '97us', '65us', '98us', '70us', '95us', '64us', '93us', '72us', '63us', '64us', '98us', '62us', '76us', '95us', '94us', '93us', '83us', '98us', '98us', '97us', '87us', '92us', '99us', '83us', '95us', '95us', '88us', '94us', '97us', '99us', '98us', '95us', '97us', '96us', '95us', '93us', '85us', '92us', '93us', '88us', '99us', '96us', '97us', '95us', '94us', '93us', '80us', '92us', '97us', '95us', '94us', '97us', '83us', '99us', '97us', '94us', '98ms', '81us', '84us', '75us', '99us', '99us', '91us', '94us', '98us', '90us', '87us', '96us', '90us', '91us', '72us', '96us', '97us', '97us', '92us', '78us', '77us', '97us', '79us', '91us', '98us', '85us', '85us', '97us', '96us', '98us', '96us', '95us', '97us', '96us', '88us', '92us', '99us', '94us', '93us', '83us', '91us', '95us', '91us', '98us', '93us', '80us', '98us', '93us', '99us', '93us', '77us', '96us', '98us', '97us', '98us', '94us', '94us', '95us', '83us', '95us', '98us', '94us', '90us', '83us', '87us', '98us', '99us', '91us', '94us', '98us', '87us', '94us', '81us', '91us', '89us', '96us', '95us', '94us', '94us', '87us', '92us', '82us', '94us', '99us', '88us', '74us', '93us', '91us', '83us', '82us', '87us', '82us', '81us', '86us', '83us', '95us', '94us', '95us', '94us', '96us', '91us', '96us', '97us', '85us', '95us', '95us', '94us', '90us', '95us', '91us', '87us', '95us', '93us', '93us', '57us', '93us', '92us', '97us', '95us', '96us', '91us', '98us', '93us', '78us', '96us', '95us', '81us', '97us', '97us', '91us', '90us', '94us', '96us', '96us', '95us', '96us', '97us', '82us', '99us', '97us', '73us', '89us', '81us', '96us', '94us', '94us', '95us', '94us', '93us', '94us', '91us', '98us', '83us', '93us', '93us', '93us', '94us', '97us', '94us', '95us', '92us', '98us', '98us', '94us', '91us', '98us', '97us', '95us', '91us', '89us', '93us', '78us', '75us', '78us', '92us', '90us', '92us', '85us', '83us', '99us', '99us', '98us', '91us', '91us', '97us', '94us', '97us', '91us', '96us', '98us', '98us', '92us', '99us', '98us', '98us', '93us', '93us', '90us', '99us', '83us', '94us', '71us', '62us', '96us', '63us', '93us', '85us', '94us', '68us', '99us', '62us', '62us', '62us', '62us', '93us', '65us', '68us', '62us', '97us', '97us', '90us', '93us', '95us', '84us', '92us', '99us', '95us', '93us', '90us', '97us', '96us', '92us', '95us', '98us', '97us', '99us', '92us', '88us', '95us', '87us', '91us', '97us', '92us', '93us', '98us', '91us', '93us', '95us', '84us', '78us', '91us', '89us', '98us', '94us', '91us', '91us', '94us', '97us', '96us', '99us', '95us', '85us', '95us', '97us', '96us', '98us', '99us', '86us', '92us', '97us', '95us', '97us', '93us', '96us', '98us', '96us', '94us', '77us', '87us', '86us', '91us', '80us', '88us', '99us', '92us', '72us', '96us', '84us', '98us', '98us', '94us', '80us', '85us', '92us', '92us', '75us', '87us', '93us', '98us', '62us', '94us', '93us', '93us', '93us', '94us', '95us', '83us', '97us', '90us', '92us', '93us', '97us', '89us', '77us', '95us', '91us', '75us', '97us', '91us', '95us', '99us', '1.5s', '94us', '96us', '88us', '93us', '95us', '98us', '87us', '98us', '95us', '90us', '91us', '97us', '81us', '88us', '94us', '86us', '93us', '94us', '95us', '88us', '97us', '94us', '82us', '91us', '98us', '92us', '96us', '98us', '87us', '86us', '85us', '97us', '95us', '94us', '93us', '92us', '91us', '78us', '84us', '92us', '97us', '96us', '94us', '94us', '97us', '92us', '98us', '96us', '82us', '78us', '97us', '96us', '90us', '92us', '91us', '94us', '78us', '78us', '96us', '96us', '94us', '94us', '93us', '95us', '97us', '94us', '81us', '87us', '77us', '96us', '93us', '80us', '91us', '89us', '93us', '96us', '96us', '82us', '91us', '85us', '88us', '99us', '95us', '75us', '88us', '97us', '94us', '96us', '77us', '79us', '94us', '92us', '96us', '95us', '79us', '78us', '98us', '98us', '93us', '78us', '85us', '94us', '96us', '99us', '97us', '83us', '92us', '96us', '88us', '83us', '91us', '86us', '95us', '82us', '93us', '86us', '86us', '99us', '93us', '74us', '99us', '98us', '83us', '98us', '92us', '76us', '82us', '84us', '85us', '93us', '87us', '91us', '94us', '92us', '80us', '98us', '86us', '98us', '91us', '88us', '87us', '99us', '97us', '96us', '96us', '97us', '93us', '84us', '80us', '94us', '93us', '94us', '92us', '95us', '93us', '95us', '95us', '94us', '94us', '90us', '94us', '95us', '92us', '87us', '97us', '94us', '94us', '97us', '95us', '96us', '93us', '92us', '76us', '96us', '98us', '95us', '95us', '92us', '94us', '90us', '96us', '93us', '95us', '97us', '92us', '87us', '97us', '96us', '94us', '92us', '96us', '99us', '82us', '84us', '98us', '99us', '91us', '94us', '94us', '95us', '1.5s', '98us', '70us', '66us', '64us', '98us', '62us', '97us', '80us', '60us', '87us', '60us', '62us', '94us', '64us', '89us', '97us', '64us', '95us', '92us', '62us', '90us', '71us', '94us', '63us', '62us', '95us', '94us', '74us', '93us', '99us', '71us', '97us', '94us', '96us', '95us', '99us', '94us', '96us', '93us', '95us', '91us', '92us', '91us', '91us', '93us', '93us', '91us', '96us', '92us', '94us', '94us', '92us', '91us', '94us', '84us', '91us', '82us', '1.5s', '96us', '98us', '96us', '94us', '95us', '92us', '93us', '98us', '76us', '98us', '90us', '95us', '86us', '94us', '86us', '95us', '93us', '91us', '93us', '95us', '97us', '98us', '90us', '95us', '95us', '93us', '94us', '80us', '77us', '99us', '97us', '94us', '96us', '90us', '95us', '97us', '93us', '91us', '98us', '88us', '98us', '99us', '95us', '97us', '89us', '91us', '88us', '92us', '89us', '94us', '97us', '97us', '76us', '81us', '1.5s', '87us', '96us', '95us', '95us', '98us', '90us', '82us', '89us', '86us', '87us', '96us', '95us', '93us', '77us', '91us', '96us', '96us', '84us', '94us', '91us', '93us', '96us', '87us', '90us', '92us', '91us', '93us', '92us', '92us', '91us', '88us', '95us', '96us', '94us', '92us', '97us', '96us', '91us', '98us', '91us', '94us', '93us', '94us', '92us', '93us', '81us', '87us', '93us', '97us', '96us', '96us', '92us', '93us', '95us', '95us', '92us', '90us', '89us', '93us', '99us', '87us', '99us', '99us', '85us', '77us', '94us', '85us', '93us', '90us', '93us', '91us', '92us', '99us', '99us', '91us', '99us', '95us', '74us', '76us', '98us', '97us', '99us', '93us', '11ms', '14us', '1us', '90us', '92us', '13ms', '4ms', '3s', '4ms', '15ms', '5ms', '10ms', '12ms', '5ms', '4ms', '21ms', '5ms', '12ms', '4ms', '13ms', '24ms', '21ms', '13ms', '4ms', '26ms', '12ms', '35ms', '12ms', '5ms', '4ms', '78ms', '12ms', '5ms', '36ms', '52ms', '5ms', '4ms', '21ms', '4ms', '91ms']\n"
     ]
    }
   ],
   "source": [
    "short_values = [value for value in df['duration'] if len(value) < 5]\n",
    "print(short_values)"
   ]
  },
  {
   "cell_type": "code",
   "execution_count": 24,
   "metadata": {
    "ExecuteTime": {
     "end_time": "2023-08-04T06:19:19.646102Z",
     "start_time": "2023-08-04T06:19:19.640994Z"
    }
   },
   "outputs": [
    {
     "name": "stdout",
     "output_type": "stream",
     "text": [
      "44629      24.437321s\n",
      "270400     24.437321s\n",
      "44628     1m2.995895s\n",
      "270399    1m2.995895s\n",
      "44627      14.908373s\n",
      "             ...     \n",
      "5           1.493839s\n",
      "3           1.486681s\n",
      "2           1.495538s\n",
      "1           1.487366s\n",
      "0           1.499129s\n",
      "Name: duration, Length: 1302998, dtype: object\n"
     ]
    }
   ],
   "source": [
    "print(df['duration'])"
   ]
  },
  {
   "cell_type": "code",
   "execution_count": 25,
   "metadata": {
    "ExecuteTime": {
     "end_time": "2023-08-04T06:19:21.545766Z",
     "start_time": "2023-08-04T06:19:19.665749Z"
    }
   },
   "outputs": [
    {
     "name": "stdout",
     "output_type": "stream",
     "text": [
      "44629     24.437321\n",
      "270400    24.437321\n",
      "44628     62.995895\n",
      "270399    62.995895\n",
      "44627     14.908373\n",
      "            ...    \n",
      "5          1.493839\n",
      "3          1.486681\n",
      "2          1.495538\n",
      "1          1.487366\n",
      "0          1.499129\n",
      "Name: duration, Length: 1302998, dtype: float64\n"
     ]
    }
   ],
   "source": [
    "def process_time_string(time_string):\n",
    "    time_unit = time_string[-2:]\n",
    "    time_unit_s = time_string[-1:]\n",
    "    time_value = time_string.replace('.', '')\n",
    "    time_value_new = time_string.replace('.', '')\n",
    "    time_value_new2 = time_string.replace('.', '')\n",
    "    time_value_new3 = time_string.replace('.', '')\n",
    "    if time_string.strip():\n",
    "        if len(time_string) > 4:\n",
    "            if time_string[1] == 'm':\n",
    "                time_value = float(time_string[0]) * 60\n",
    "                # time_value_new = time_value_new[2:]\n",
    "                if time_unit == 'ms':\n",
    "                    time_value_new = float(time_string[2:].replace('ms', '')) / 1000\n",
    "                    time_total = time_value + time_value_new\n",
    "                    return time_total\n",
    "                elif time_unit == 'us':\n",
    "                    time_value_new = float(time_string[2:].replace('us', '')) / 1000000\n",
    "                    time_total = time_value + time_value_new\n",
    "                    return time_total \n",
    "                elif time_unit_s == 's':\n",
    "                    time_value_new = float(time_string[2:].replace('s', '')) \n",
    "                    time_total = time_value + time_value_new\n",
    "                    return time_total\n",
    "            elif time_string[2] == 'm':\n",
    "                time_value = float(time_string[0]) * 60 * 10 + float(time_string[1]) * 60\n",
    "                # time_value_new = time_string.replace('m', '')\n",
    "                if time_unit == 'ms':\n",
    "                    time_value_new = float(time_string[3:].replace('ms', '')) / 1000\n",
    "                    time_total = time_value + time_value_new\n",
    "                    return time_total\n",
    "                elif time_unit == 'us':\n",
    "                    time_value_new = float(time_string[3:].replace('us', '')) / 1000000\n",
    "                    time_total = time_value + time_value_new\n",
    "                    return time_total \n",
    "                elif time_unit_s == 's':\n",
    "                        time_value_new = float(time_string[3:].replace('s', ''))\n",
    "                        time_total = time_value + time_value_new\n",
    "                        return time_total\n",
    "            elif time_string[1] == 'd':\n",
    "                time_value = float(time_string[0]) * 86400\n",
    "                if time_string[3] == 'h':\n",
    "                    time_value_new = float(time_string[2]) * 3600\n",
    "                    if time_string[5] == 'm':\n",
    "                        time_value_new2 = float(time_string[4]) * 60\n",
    "                        if time_unit == 'ms':\n",
    "                            time_value_new3 = float(time_string[6:].replace('ms', '')) / 1000\n",
    "                            time_total = time_value + time_value_new + time_value_new2 + time_value_new3\n",
    "                            return time_total \n",
    "                        elif time_unit == 'us':\n",
    "                            time_value_new3 = float(time_string[6:].replace('us', '')) / 1000000\n",
    "                            time_total = time_value + time_value_new + time_value_new2 + time_value_new3\n",
    "                            return time_total \n",
    "                        elif time_unit_s == 's':\n",
    "                            time_value_new3 = float(time_string[6:].replace('s', '')) \n",
    "                            time_total = time_value + time_value_new + time_value_new2 + time_value_new3\n",
    "                            return time_total\n",
    "                    elif time_string[6] == 'm':\n",
    "                        time_value_new2 = float(time_string[4]) * 60 * 10 + float(time_string[5]) * 60\n",
    "                        if time_unit == 'ms':\n",
    "                            time_value_new3 = float(time_string[7:].replace('ms', '')) / 1000\n",
    "                            time_total = time_value + time_value_new + time_value_new2 + time_value_new3\n",
    "                            return time_total\n",
    "                        elif time_unit == 'us':\n",
    "                            time_value_new3 = float(time_string[7:].replace('us', '')) / 1000000\n",
    "                            time_total = time_value + time_value_new + time_value_new2 + time_value_new3\n",
    "                            return time_total \n",
    "                        elif time_unit_s == 's':\n",
    "                            time_value_new3 = float(time_string[7:].replace('s', '')) \n",
    "                            time_total = time_value + time_value_new + time_value_new2 + time_value_new3\n",
    "                            return time_total\n",
    "                elif time_string[4] == 'h':\n",
    "                    time_value_new = float(time_string[2]) * 3600 * 10 + float(time_string[3]) * 3600\n",
    "                    if time_string[6] == 'm':\n",
    "                        time_value_new2 = float(time_string[5]) * 60\n",
    "                        if time_unit == 'ms':\n",
    "                            time_value_new3 = float(time_string[7:].replace('ms', '')) / 1000\n",
    "                            time_total = time_value + time_value_new + time_value_new2 + time_value_new3\n",
    "                            return time_total\n",
    "                        elif time_unit == 'us':\n",
    "                            time_value_new3 = float(time_string[7:].replace('us', '')) / 1000000\n",
    "                            time_total = time_value + time_value_new + time_value_new2 + time_value_new3\n",
    "                            return time_total\n",
    "                        elif time_unit_s == 's':\n",
    "                            time_value_new3 = float(time_string[7:].replace('s', '')) \n",
    "                            time_total = time_value + time_value_new + time_value_new2 + time_value_new3\n",
    "                            return time_total\n",
    "                    elif time_string[7] == 'm':\n",
    "                        time_value_new2 = float(time_string[5]) * 60 * 10 + float(time_string[6]) * 60\n",
    "                        if time_unit == 'ms':\n",
    "                            time_value_new3 = float(time_string[8:].replace('ms', '')) / 1000\n",
    "                            time_total = time_value + time_value_new + time_value_new2 + time_value_new3\n",
    "                            return time_total\n",
    "                        elif time_unit == 'us':\n",
    "                            time_value_new3 = float(time_string[8:].replace('us', '')) / 1000000\n",
    "                            time_total = time_value + time_value_new + time_value_new2 + time_value_new3\n",
    "                            return time_total\n",
    "                        elif time_unit_s == 's':\n",
    "                            time_value_new3 = float(time_string[8:].replace('s', '')) \n",
    "                            time_total = time_value + time_value_new + time_value_new2 + time_value_new3\n",
    "                            return time_total\n",
    "            elif time_string[2] == 'd':\n",
    "                time_value = float(time_string[0]) * 86400 * 10 + float(time_string[1]) *86400\n",
    "                if time_string[4] == 'h':\n",
    "                    time_value_new = float(time_string[3]) * 3600\n",
    "                    if time_string[6] == 'm':\n",
    "                        time_value_new2 = float(time_string[5]) * 60\n",
    "                        if time_unit == 'ms':\n",
    "                            time_value_new3 = float(time_string[7:].replace('ms', '')) / 1000\n",
    "                            time_total = time_value + time_value_new + time_value_new2 + time_value_new3\n",
    "                            return time_total \n",
    "                        elif time_unit_s == 's':\n",
    "                            time_value_new3 = float(time_string[7:].replace('s', '')) \n",
    "                            time_total = time_value + time_value_new + time_value_new2 + time_value_new3\n",
    "                            return time_total\n",
    "                    elif time_string[7] == 'm':\n",
    "                        time_value_new2 = float(time_string[5]) * 60 * 10 + float(time_string[6]) * 60\n",
    "                        if time_unit == 'ms':\n",
    "                            time_value_new3 = float(time_string[8:].replace('ms', '')) / 1000\n",
    "                            time_total = time_value + time_value_new + time_value_new2 + time_value_new3\n",
    "                            return time_total \n",
    "                        elif time_unit_s == 's':\n",
    "                            time_value_new3 = float(time_string[8:].replace('s', '')) \n",
    "                            time_total = time_value + time_value_new + time_value_new2 + time_value_new3\n",
    "                            return time_total\n",
    "                elif time_string[5] == 'h':\n",
    "                    time_value_new = float(time_string[3]) * 3600 * 10 + float(time_string[4]) * 3600\n",
    "                    if time_string[6] == 'm':\n",
    "                        time_value_new2 = float(time_string[5]) * 60\n",
    "                        if time_unit == 'ms':\n",
    "                            time_value_new3 = float(time_string[7:].replace('ms', '')) / 1000\n",
    "                            time_total = time_value + time_value_new + time_value_new2 + time_value_new3\n",
    "                            return time_total \n",
    "                        elif time_unit_s == 's':\n",
    "                            time_value_new3 = float(time_string[7:].replace('s', '')) \n",
    "                            time_total = time_value + time_value_new + time_value_new2 + time_value_new3\n",
    "                            return time_total\n",
    "                    elif time_string[7] == 'm':\n",
    "                        time_value_new2 = float(time_string[5]) * 60 * 10 + float(time_string[6]) * 60\n",
    "                        if time_unit == 'ms':\n",
    "                            time_value_new3 = float(time_string[7:].replace('ms', '')) / 1000\n",
    "                            time_total = time_value + time_value_new + time_value_new2 + time_value_new3\n",
    "                            return time_total \n",
    "                        elif time_unit_s == 's':\n",
    "                            time_value_new3 = float(time_string[7:].replace('s', '')) \n",
    "                            time_total = time_value + time_value_new + time_value_new2 + time_value_new3\n",
    "                            return time_total\n",
    "            elif time_unit == 'ms':\n",
    "                time_value = float(time_string.replace('ms', '')) / 1000\n",
    "                return time_value\n",
    "            elif time_unit == 'us':\n",
    "                time_value = float(time_string.replace('us', '')) / 1000000\n",
    "                return time_value\n",
    "            elif time_unit_s == 's':\n",
    "                time_value = float(time_string.replace('s', ''))\n",
    "                return time_value\n",
    "            else:\n",
    "                return time_value\n",
    "        else: \n",
    "            if time_unit == 'ms':\n",
    "                time_value = float(time_string.replace('ms', '')) / 1000\n",
    "                return time_value\n",
    "            elif time_string[1] == 'm':\n",
    "                time_value = float(time_string[0]) * 60\n",
    "                # time_value_new = time_value_new[2:]\n",
    "                if time_unit == 'ms':\n",
    "                    time_value_new = float(time_string[2:].replace('ms', '')) / 1000\n",
    "                    time_total = time_value + time_value_new\n",
    "                    return time_total\n",
    "                elif time_unit == 'us':\n",
    "                    time_value_new = float(time_string[2:].replace('us', '')) / 1000000\n",
    "                    time_total = time_value + time_value_new\n",
    "                    return time_total \n",
    "                elif time_unit_s == 's':\n",
    "                    time_value_new = float(time_string[2:].replace('s', '')) \n",
    "                    time_total = time_value + time_value_new\n",
    "                    return time_total\n",
    "            elif time_unit == 'us':\n",
    "                time_value = float(time_string.replace('us', '')) / 1000000\n",
    "                return time_value\n",
    "            elif time_unit_s == 's':\n",
    "                time_value = float(time_string.replace('s', ''))\n",
    "                return time_value\n",
    "            else:\n",
    "                return time_value\n",
    "            \n",
    "\n",
    "df['duration'] = df['duration'].apply(lambda x: process_time_string(x) if isinstance(x, str) else x)\n",
    "\n",
    "print(df['duration'])"
   ]
  },
  {
   "cell_type": "code",
   "execution_count": 26,
   "metadata": {
    "ExecuteTime": {
     "end_time": "2023-08-04T06:19:22.039849Z",
     "start_time": "2023-08-04T06:19:21.687981Z"
    }
   },
   "outputs": [
    {
     "data": {
      "text/plain": [
       "_path            0\n",
       "ts               0\n",
       "time             0\n",
       "date             0\n",
       "uid              0\n",
       "id.orig_h        0\n",
       "id.orig_p        0\n",
       "id.resp_h        0\n",
       "id.resp_p        0\n",
       "proto            0\n",
       "service          0\n",
       "duration         0\n",
       "orig_bytes       0\n",
       "resp_bytes       0\n",
       "conn_state       0\n",
       "missed_bytes     0\n",
       "history          0\n",
       "orig_pkts        0\n",
       "orig_ip_bytes    0\n",
       "resp_pkts        0\n",
       "resp_ip_bytes    0\n",
       "community_id     0\n",
       "label            0\n",
       "dtype: int64"
      ]
     },
     "execution_count": 26,
     "metadata": {},
     "output_type": "execute_result"
    }
   ],
   "source": [
    "pd.isnull(df).sum()"
   ]
  },
  {
   "attachments": {},
   "cell_type": "markdown",
   "metadata": {},
   "source": [
    "### Ekstraksi"
   ]
  },
  {
   "cell_type": "code",
   "execution_count": 27,
   "metadata": {
    "ExecuteTime": {
     "end_time": "2023-08-04T06:19:22.423296Z",
     "start_time": "2023-08-04T06:19:22.037591Z"
    }
   },
   "outputs": [],
   "source": [
    "df['PX'] = df['orig_pkts'] + df['resp_pkts']\n",
    "\n",
    "df['NNP'] = np.where(df['orig_pkts'] + df['resp_pkts'] == 0, 1, 0)\n",
    "\n",
    "df['NSP'] = ((63 >= df['orig_pkts'] + df['resp_pkts']) & (df['orig_pkts'] + df['resp_pkts'] <= 400)).astype(int)\n",
    "\n",
    "df['PSP'] = df['NSP'] / df['PX'] \n",
    "\n",
    "df['IOPR'] = df['orig_pkts'] + df['resp_pkts']\n",
    "\n",
    "df['reconnection'] = np.where(df['history'].str.contains('Sr%'), 1, 0)\n",
    "df['reconnection'] = df['reconnection'].fillna(0).astype(int)\n",
    "\n",
    "df['FPS'] = df['orig_ip_bytes'] / df['orig_pkts']\n",
    "df['FPS'] = df['FPS'].fillna(0)\n",
    "\n",
    "df['TBT'] = df['orig_ip_bytes'] + df['resp_ip_bytes']\n",
    "\n",
    "df['APL'] = (df['orig_ip_bytes'] + df['resp_ip_bytes']) / df['PX']\n",
    "\n",
    "df['BS'] = ((df['orig_ip_bytes']+ df['resp_ip_bytes'])* 8 ) / df['duration']\n",
    "\n",
    "df['PS'] =(df['orig_pkts'] + df['resp_pkts']) / df['duration'] \n",
    "\n",
    "df['PPS'] = (df['orig_pkts'] + df['resp_pkts']) / df['duration'] "
   ]
  },
  {
   "attachments": {},
   "cell_type": "markdown",
   "metadata": {},
   "source": [
    "# Normalisasi Data"
   ]
  },
  {
   "cell_type": "code",
   "execution_count": 28,
   "metadata": {
    "ExecuteTime": {
     "end_time": "2023-08-04T06:19:23.700273Z",
     "start_time": "2023-08-04T06:19:22.433274Z"
    }
   },
   "outputs": [],
   "source": [
    "# Normalisasi\n",
    "sc = MinMaxScaler(feature_range=(0, 1))\n",
    "\n",
    "#Reset Index untuk duplikasi\n",
    "dfnew = df\n",
    "df = df.reset_index(drop=True)\n",
    "\n",
    "# Apply the Min-Max Scaler to the numerical columns\n",
    "dfnew = pd.DataFrame(data=sc.fit_transform(df.select_dtypes(include=['float64', 'int64'])), columns=df.select_dtypes(include=['float64', 'int64']).columns)\n",
    "\n",
    "#duplikasi label\n",
    "dfnew['label'] = df['label']\n"
   ]
  },
  {
   "cell_type": "code",
   "execution_count": 29,
   "metadata": {
    "ExecuteTime": {
     "end_time": "2023-08-04T06:19:23.748551Z",
     "start_time": "2023-08-04T06:19:23.697083Z"
    }
   },
   "outputs": [
    {
     "data": {
      "text/plain": [
       "id.orig_p        0\n",
       "id.resp_p        0\n",
       "duration         0\n",
       "orig_bytes       0\n",
       "resp_bytes       0\n",
       "missed_bytes     0\n",
       "orig_pkts        0\n",
       "orig_ip_bytes    0\n",
       "resp_pkts        0\n",
       "resp_ip_bytes    0\n",
       "PX               0\n",
       "PSP              0\n",
       "IOPR             0\n",
       "FPS              0\n",
       "TBT              0\n",
       "APL              0\n",
       "BS               0\n",
       "PS               0\n",
       "PPS              0\n",
       "label            0\n",
       "dtype: int64"
      ]
     },
     "execution_count": 29,
     "metadata": {},
     "output_type": "execute_result"
    }
   ],
   "source": [
    "pd.isnull(dfnew).sum()"
   ]
  },
  {
   "attachments": {},
   "cell_type": "markdown",
   "metadata": {},
   "source": [
    "# Shuffle Row"
   ]
  },
  {
   "cell_type": "code",
   "execution_count": 30,
   "metadata": {
    "ExecuteTime": {
     "end_time": "2023-08-04T06:19:24.221216Z",
     "start_time": "2023-08-04T06:19:23.751196Z"
    }
   },
   "outputs": [
    {
     "data": {
      "text/html": [
       "<div>\n",
       "<style scoped>\n",
       "    .dataframe tbody tr th:only-of-type {\n",
       "        vertical-align: middle;\n",
       "    }\n",
       "\n",
       "    .dataframe tbody tr th {\n",
       "        vertical-align: top;\n",
       "    }\n",
       "\n",
       "    .dataframe thead th {\n",
       "        text-align: right;\n",
       "    }\n",
       "</style>\n",
       "<table border=\"1\" class=\"dataframe\">\n",
       "  <thead>\n",
       "    <tr style=\"text-align: right;\">\n",
       "      <th></th>\n",
       "      <th>id.orig_p</th>\n",
       "      <th>id.resp_p</th>\n",
       "      <th>duration</th>\n",
       "      <th>orig_bytes</th>\n",
       "      <th>resp_bytes</th>\n",
       "      <th>missed_bytes</th>\n",
       "      <th>orig_pkts</th>\n",
       "      <th>orig_ip_bytes</th>\n",
       "      <th>resp_pkts</th>\n",
       "      <th>resp_ip_bytes</th>\n",
       "      <th>PX</th>\n",
       "      <th>PSP</th>\n",
       "      <th>IOPR</th>\n",
       "      <th>FPS</th>\n",
       "      <th>TBT</th>\n",
       "      <th>APL</th>\n",
       "      <th>BS</th>\n",
       "      <th>PS</th>\n",
       "      <th>PPS</th>\n",
       "      <th>label</th>\n",
       "    </tr>\n",
       "  </thead>\n",
       "  <tbody>\n",
       "    <tr>\n",
       "      <th>0</th>\n",
       "      <td>0.944790</td>\n",
       "      <td>0.306000</td>\n",
       "      <td>1.114291e-07</td>\n",
       "      <td>2.627125e-07</td>\n",
       "      <td>0.000000</td>\n",
       "      <td>0.0</td>\n",
       "      <td>0.000061</td>\n",
       "      <td>8.328144e-07</td>\n",
       "      <td>0.00000</td>\n",
       "      <td>0.000000</td>\n",
       "      <td>0.000000</td>\n",
       "      <td>1.000000</td>\n",
       "      <td>0.000000</td>\n",
       "      <td>0.003118</td>\n",
       "      <td>2.486881e-07</td>\n",
       "      <td>0.001417</td>\n",
       "      <td>3.992505e-06</td>\n",
       "      <td>9.159684e-06</td>\n",
       "      <td>9.159684e-06</td>\n",
       "      <td>Botnet</td>\n",
       "    </tr>\n",
       "    <tr>\n",
       "      <th>1</th>\n",
       "      <td>0.958890</td>\n",
       "      <td>0.003029</td>\n",
       "      <td>1.022420e-05</td>\n",
       "      <td>1.403124e-06</td>\n",
       "      <td>0.000017</td>\n",
       "      <td>0.0</td>\n",
       "      <td>0.000153</td>\n",
       "      <td>2.230753e-06</td>\n",
       "      <td>0.00006</td>\n",
       "      <td>0.000027</td>\n",
       "      <td>0.000123</td>\n",
       "      <td>0.333333</td>\n",
       "      <td>0.000123</td>\n",
       "      <td>0.003341</td>\n",
       "      <td>2.084243e-06</td>\n",
       "      <td>0.001755</td>\n",
       "      <td>1.310985e-07</td>\n",
       "      <td>2.846024e-07</td>\n",
       "      <td>2.846024e-07</td>\n",
       "      <td>Botnet</td>\n",
       "    </tr>\n",
       "    <tr>\n",
       "      <th>2</th>\n",
       "      <td>0.803012</td>\n",
       "      <td>0.003029</td>\n",
       "      <td>1.022431e-05</td>\n",
       "      <td>7.881376e-07</td>\n",
       "      <td>0.000016</td>\n",
       "      <td>0.0</td>\n",
       "      <td>0.000092</td>\n",
       "      <td>1.284914e-06</td>\n",
       "      <td>0.00006</td>\n",
       "      <td>0.000026</td>\n",
       "      <td>0.000061</td>\n",
       "      <td>0.500000</td>\n",
       "      <td>0.000061</td>\n",
       "      <td>0.003208</td>\n",
       "      <td>1.125017e-06</td>\n",
       "      <td>0.001552</td>\n",
       "      <td>8.063218e-08</td>\n",
       "      <td>1.846040e-07</td>\n",
       "      <td>1.846040e-07</td>\n",
       "      <td>Botnet</td>\n",
       "    </tr>\n",
       "    <tr>\n",
       "      <th>3</th>\n",
       "      <td>0.998886</td>\n",
       "      <td>0.003029</td>\n",
       "      <td>1.274395e-08</td>\n",
       "      <td>2.268881e-07</td>\n",
       "      <td>0.000098</td>\n",
       "      <td>0.0</td>\n",
       "      <td>0.000031</td>\n",
       "      <td>3.926125e-07</td>\n",
       "      <td>0.00006</td>\n",
       "      <td>0.000106</td>\n",
       "      <td>0.000000</td>\n",
       "      <td>1.000000</td>\n",
       "      <td>0.000000</td>\n",
       "      <td>0.002940</td>\n",
       "      <td>1.545419e-06</td>\n",
       "      <td>0.008807</td>\n",
       "      <td>8.970535e-05</td>\n",
       "      <td>8.020281e-05</td>\n",
       "      <td>8.020281e-05</td>\n",
       "      <td>Botnet</td>\n",
       "    </tr>\n",
       "    <tr>\n",
       "      <th>4</th>\n",
       "      <td>0.814533</td>\n",
       "      <td>0.003029</td>\n",
       "      <td>5.642510e-09</td>\n",
       "      <td>1.671807e-07</td>\n",
       "      <td>0.000195</td>\n",
       "      <td>0.0</td>\n",
       "      <td>0.000031</td>\n",
       "      <td>3.331258e-07</td>\n",
       "      <td>0.00006</td>\n",
       "      <td>0.000201</td>\n",
       "      <td>0.000000</td>\n",
       "      <td>1.000000</td>\n",
       "      <td>0.000000</td>\n",
       "      <td>0.002495</td>\n",
       "      <td>3.025705e-06</td>\n",
       "      <td>0.017242</td>\n",
       "      <td>3.436859e-04</td>\n",
       "      <td>1.811440e-04</td>\n",
       "      <td>1.811440e-04</td>\n",
       "      <td>Botnet</td>\n",
       "    </tr>\n",
       "    <tr>\n",
       "      <th>...</th>\n",
       "      <td>...</td>\n",
       "      <td>...</td>\n",
       "      <td>...</td>\n",
       "      <td>...</td>\n",
       "      <td>...</td>\n",
       "      <td>...</td>\n",
       "      <td>...</td>\n",
       "      <td>...</td>\n",
       "      <td>...</td>\n",
       "      <td>...</td>\n",
       "      <td>...</td>\n",
       "      <td>...</td>\n",
       "      <td>...</td>\n",
       "      <td>...</td>\n",
       "      <td>...</td>\n",
       "      <td>...</td>\n",
       "      <td>...</td>\n",
       "      <td>...</td>\n",
       "      <td>...</td>\n",
       "      <td>...</td>\n",
       "    </tr>\n",
       "    <tr>\n",
       "      <th>1302993</th>\n",
       "      <td>0.912135</td>\n",
       "      <td>0.003029</td>\n",
       "      <td>1.022417e-05</td>\n",
       "      <td>5.731910e-07</td>\n",
       "      <td>0.000012</td>\n",
       "      <td>0.0</td>\n",
       "      <td>0.000092</td>\n",
       "      <td>1.070761e-06</td>\n",
       "      <td>0.00006</td>\n",
       "      <td>0.000022</td>\n",
       "      <td>0.000061</td>\n",
       "      <td>0.500000</td>\n",
       "      <td>0.000061</td>\n",
       "      <td>0.002673</td>\n",
       "      <td>8.408025e-07</td>\n",
       "      <td>0.000742</td>\n",
       "      <td>6.568074e-08</td>\n",
       "      <td>1.846069e-07</td>\n",
       "      <td>1.846069e-07</td>\n",
       "      <td>Botnet</td>\n",
       "    </tr>\n",
       "    <tr>\n",
       "      <th>1302994</th>\n",
       "      <td>0.892816</td>\n",
       "      <td>0.003029</td>\n",
       "      <td>1.022428e-05</td>\n",
       "      <td>7.881376e-07</td>\n",
       "      <td>0.000016</td>\n",
       "      <td>0.0</td>\n",
       "      <td>0.000092</td>\n",
       "      <td>1.284914e-06</td>\n",
       "      <td>0.00006</td>\n",
       "      <td>0.000026</td>\n",
       "      <td>0.000061</td>\n",
       "      <td>0.500000</td>\n",
       "      <td>0.000061</td>\n",
       "      <td>0.003208</td>\n",
       "      <td>1.125017e-06</td>\n",
       "      <td>0.001552</td>\n",
       "      <td>8.063246e-08</td>\n",
       "      <td>1.846047e-07</td>\n",
       "      <td>1.846047e-07</td>\n",
       "      <td>Botnet</td>\n",
       "    </tr>\n",
       "    <tr>\n",
       "      <th>1302995</th>\n",
       "      <td>0.863578</td>\n",
       "      <td>0.003029</td>\n",
       "      <td>1.022424e-05</td>\n",
       "      <td>1.403124e-06</td>\n",
       "      <td>0.000017</td>\n",
       "      <td>0.0</td>\n",
       "      <td>0.000153</td>\n",
       "      <td>2.230753e-06</td>\n",
       "      <td>0.00006</td>\n",
       "      <td>0.000027</td>\n",
       "      <td>0.000123</td>\n",
       "      <td>0.333333</td>\n",
       "      <td>0.000123</td>\n",
       "      <td>0.003341</td>\n",
       "      <td>2.084243e-06</td>\n",
       "      <td>0.001755</td>\n",
       "      <td>1.310979e-07</td>\n",
       "      <td>2.846012e-07</td>\n",
       "      <td>2.846012e-07</td>\n",
       "      <td>Botnet</td>\n",
       "    </tr>\n",
       "    <tr>\n",
       "      <th>1302996</th>\n",
       "      <td>0.845968</td>\n",
       "      <td>0.003029</td>\n",
       "      <td>4.092895e-06</td>\n",
       "      <td>4.537762e-07</td>\n",
       "      <td>0.000014</td>\n",
       "      <td>0.0</td>\n",
       "      <td>0.000061</td>\n",
       "      <td>7.852250e-07</td>\n",
       "      <td>0.00006</td>\n",
       "      <td>0.000024</td>\n",
       "      <td>0.000031</td>\n",
       "      <td>0.666667</td>\n",
       "      <td>0.000031</td>\n",
       "      <td>0.002940</td>\n",
       "      <td>5.921145e-07</td>\n",
       "      <td>0.001147</td>\n",
       "      <td>1.449954e-07</td>\n",
       "      <td>3.593046e-07</td>\n",
       "      <td>3.593046e-07</td>\n",
       "      <td>Botnet</td>\n",
       "    </tr>\n",
       "    <tr>\n",
       "      <th>1302997</th>\n",
       "      <td>0.542117</td>\n",
       "      <td>0.003029</td>\n",
       "      <td>3.397366e-09</td>\n",
       "      <td>1.671807e-07</td>\n",
       "      <td>0.000010</td>\n",
       "      <td>0.0</td>\n",
       "      <td>0.000031</td>\n",
       "      <td>3.331258e-07</td>\n",
       "      <td>0.00006</td>\n",
       "      <td>0.000020</td>\n",
       "      <td>0.000000</td>\n",
       "      <td>1.000000</td>\n",
       "      <td>0.000000</td>\n",
       "      <td>0.002495</td>\n",
       "      <td>8.289603e-08</td>\n",
       "      <td>0.000472</td>\n",
       "      <td>1.049577e-04</td>\n",
       "      <td>3.008270e-04</td>\n",
       "      <td>3.008270e-04</td>\n",
       "      <td>Botnet</td>\n",
       "    </tr>\n",
       "  </tbody>\n",
       "</table>\n",
       "<p>1302998 rows × 20 columns</p>\n",
       "</div>"
      ],
      "text/plain": [
       "         id.orig_p  id.resp_p      duration    orig_bytes  resp_bytes  \\\n",
       "0         0.944790   0.306000  1.114291e-07  2.627125e-07    0.000000   \n",
       "1         0.958890   0.003029  1.022420e-05  1.403124e-06    0.000017   \n",
       "2         0.803012   0.003029  1.022431e-05  7.881376e-07    0.000016   \n",
       "3         0.998886   0.003029  1.274395e-08  2.268881e-07    0.000098   \n",
       "4         0.814533   0.003029  5.642510e-09  1.671807e-07    0.000195   \n",
       "...            ...        ...           ...           ...         ...   \n",
       "1302993   0.912135   0.003029  1.022417e-05  5.731910e-07    0.000012   \n",
       "1302994   0.892816   0.003029  1.022428e-05  7.881376e-07    0.000016   \n",
       "1302995   0.863578   0.003029  1.022424e-05  1.403124e-06    0.000017   \n",
       "1302996   0.845968   0.003029  4.092895e-06  4.537762e-07    0.000014   \n",
       "1302997   0.542117   0.003029  3.397366e-09  1.671807e-07    0.000010   \n",
       "\n",
       "         missed_bytes  orig_pkts  orig_ip_bytes  resp_pkts  resp_ip_bytes  \\\n",
       "0                 0.0   0.000061   8.328144e-07    0.00000       0.000000   \n",
       "1                 0.0   0.000153   2.230753e-06    0.00006       0.000027   \n",
       "2                 0.0   0.000092   1.284914e-06    0.00006       0.000026   \n",
       "3                 0.0   0.000031   3.926125e-07    0.00006       0.000106   \n",
       "4                 0.0   0.000031   3.331258e-07    0.00006       0.000201   \n",
       "...               ...        ...            ...        ...            ...   \n",
       "1302993           0.0   0.000092   1.070761e-06    0.00006       0.000022   \n",
       "1302994           0.0   0.000092   1.284914e-06    0.00006       0.000026   \n",
       "1302995           0.0   0.000153   2.230753e-06    0.00006       0.000027   \n",
       "1302996           0.0   0.000061   7.852250e-07    0.00006       0.000024   \n",
       "1302997           0.0   0.000031   3.331258e-07    0.00006       0.000020   \n",
       "\n",
       "               PX       PSP      IOPR       FPS           TBT       APL  \\\n",
       "0        0.000000  1.000000  0.000000  0.003118  2.486881e-07  0.001417   \n",
       "1        0.000123  0.333333  0.000123  0.003341  2.084243e-06  0.001755   \n",
       "2        0.000061  0.500000  0.000061  0.003208  1.125017e-06  0.001552   \n",
       "3        0.000000  1.000000  0.000000  0.002940  1.545419e-06  0.008807   \n",
       "4        0.000000  1.000000  0.000000  0.002495  3.025705e-06  0.017242   \n",
       "...           ...       ...       ...       ...           ...       ...   \n",
       "1302993  0.000061  0.500000  0.000061  0.002673  8.408025e-07  0.000742   \n",
       "1302994  0.000061  0.500000  0.000061  0.003208  1.125017e-06  0.001552   \n",
       "1302995  0.000123  0.333333  0.000123  0.003341  2.084243e-06  0.001755   \n",
       "1302996  0.000031  0.666667  0.000031  0.002940  5.921145e-07  0.001147   \n",
       "1302997  0.000000  1.000000  0.000000  0.002495  8.289603e-08  0.000472   \n",
       "\n",
       "                   BS            PS           PPS   label  \n",
       "0        3.992505e-06  9.159684e-06  9.159684e-06  Botnet  \n",
       "1        1.310985e-07  2.846024e-07  2.846024e-07  Botnet  \n",
       "2        8.063218e-08  1.846040e-07  1.846040e-07  Botnet  \n",
       "3        8.970535e-05  8.020281e-05  8.020281e-05  Botnet  \n",
       "4        3.436859e-04  1.811440e-04  1.811440e-04  Botnet  \n",
       "...               ...           ...           ...     ...  \n",
       "1302993  6.568074e-08  1.846069e-07  1.846069e-07  Botnet  \n",
       "1302994  8.063246e-08  1.846047e-07  1.846047e-07  Botnet  \n",
       "1302995  1.310979e-07  2.846012e-07  2.846012e-07  Botnet  \n",
       "1302996  1.449954e-07  3.593046e-07  3.593046e-07  Botnet  \n",
       "1302997  1.049577e-04  3.008270e-04  3.008270e-04  Botnet  \n",
       "\n",
       "[1302998 rows x 20 columns]"
      ]
     },
     "execution_count": 30,
     "metadata": {},
     "output_type": "execute_result"
    }
   ],
   "source": [
    "dfnew = dfnew.sample(frac=1).reset_index(drop=True)\n",
    "dfnew"
   ]
  },
  {
   "attachments": {},
   "cell_type": "markdown",
   "metadata": {},
   "source": [
    "# Klasifikasi Decision Tree"
   ]
  },
  {
   "attachments": {},
   "cell_type": "markdown",
   "metadata": {},
   "source": [
    "### Data Keseluruhan"
   ]
  },
  {
   "cell_type": "code",
   "execution_count": 31,
   "metadata": {
    "ExecuteTime": {
     "end_time": "2023-08-04T06:36:01.729128Z",
     "start_time": "2023-08-04T06:36:00.862885Z"
    }
   },
   "outputs": [
    {
     "data": {
      "text/html": [
       "<div>\n",
       "<style scoped>\n",
       "    .dataframe tbody tr th:only-of-type {\n",
       "        vertical-align: middle;\n",
       "    }\n",
       "\n",
       "    .dataframe tbody tr th {\n",
       "        vertical-align: top;\n",
       "    }\n",
       "\n",
       "    .dataframe thead th {\n",
       "        text-align: right;\n",
       "    }\n",
       "</style>\n",
       "<table border=\"1\" class=\"dataframe\">\n",
       "  <thead>\n",
       "    <tr style=\"text-align: right;\">\n",
       "      <th></th>\n",
       "      <th>id.orig_p</th>\n",
       "      <th>id.resp_p</th>\n",
       "      <th>duration</th>\n",
       "      <th>orig_bytes</th>\n",
       "      <th>resp_bytes</th>\n",
       "      <th>missed_bytes</th>\n",
       "      <th>orig_pkts</th>\n",
       "      <th>orig_ip_bytes</th>\n",
       "      <th>resp_pkts</th>\n",
       "      <th>resp_ip_bytes</th>\n",
       "      <th>PX</th>\n",
       "      <th>PSP</th>\n",
       "      <th>IOPR</th>\n",
       "      <th>FPS</th>\n",
       "      <th>TBT</th>\n",
       "      <th>APL</th>\n",
       "      <th>BS</th>\n",
       "      <th>PS</th>\n",
       "      <th>PPS</th>\n",
       "    </tr>\n",
       "  </thead>\n",
       "  <tbody>\n",
       "    <tr>\n",
       "      <th>0</th>\n",
       "      <td>0.944790</td>\n",
       "      <td>0.306000</td>\n",
       "      <td>1.114291e-07</td>\n",
       "      <td>2.627125e-07</td>\n",
       "      <td>0.000000</td>\n",
       "      <td>0.0</td>\n",
       "      <td>0.000061</td>\n",
       "      <td>8.328144e-07</td>\n",
       "      <td>0.00000</td>\n",
       "      <td>0.000000</td>\n",
       "      <td>0.000000</td>\n",
       "      <td>1.000000</td>\n",
       "      <td>0.000000</td>\n",
       "      <td>0.003118</td>\n",
       "      <td>2.486881e-07</td>\n",
       "      <td>0.001417</td>\n",
       "      <td>3.992505e-06</td>\n",
       "      <td>9.159684e-06</td>\n",
       "      <td>9.159684e-06</td>\n",
       "    </tr>\n",
       "    <tr>\n",
       "      <th>1</th>\n",
       "      <td>0.958890</td>\n",
       "      <td>0.003029</td>\n",
       "      <td>1.022420e-05</td>\n",
       "      <td>1.403124e-06</td>\n",
       "      <td>0.000017</td>\n",
       "      <td>0.0</td>\n",
       "      <td>0.000153</td>\n",
       "      <td>2.230753e-06</td>\n",
       "      <td>0.00006</td>\n",
       "      <td>0.000027</td>\n",
       "      <td>0.000123</td>\n",
       "      <td>0.333333</td>\n",
       "      <td>0.000123</td>\n",
       "      <td>0.003341</td>\n",
       "      <td>2.084243e-06</td>\n",
       "      <td>0.001755</td>\n",
       "      <td>1.310985e-07</td>\n",
       "      <td>2.846024e-07</td>\n",
       "      <td>2.846024e-07</td>\n",
       "    </tr>\n",
       "    <tr>\n",
       "      <th>2</th>\n",
       "      <td>0.803012</td>\n",
       "      <td>0.003029</td>\n",
       "      <td>1.022431e-05</td>\n",
       "      <td>7.881376e-07</td>\n",
       "      <td>0.000016</td>\n",
       "      <td>0.0</td>\n",
       "      <td>0.000092</td>\n",
       "      <td>1.284914e-06</td>\n",
       "      <td>0.00006</td>\n",
       "      <td>0.000026</td>\n",
       "      <td>0.000061</td>\n",
       "      <td>0.500000</td>\n",
       "      <td>0.000061</td>\n",
       "      <td>0.003208</td>\n",
       "      <td>1.125017e-06</td>\n",
       "      <td>0.001552</td>\n",
       "      <td>8.063218e-08</td>\n",
       "      <td>1.846040e-07</td>\n",
       "      <td>1.846040e-07</td>\n",
       "    </tr>\n",
       "    <tr>\n",
       "      <th>3</th>\n",
       "      <td>0.998886</td>\n",
       "      <td>0.003029</td>\n",
       "      <td>1.274395e-08</td>\n",
       "      <td>2.268881e-07</td>\n",
       "      <td>0.000098</td>\n",
       "      <td>0.0</td>\n",
       "      <td>0.000031</td>\n",
       "      <td>3.926125e-07</td>\n",
       "      <td>0.00006</td>\n",
       "      <td>0.000106</td>\n",
       "      <td>0.000000</td>\n",
       "      <td>1.000000</td>\n",
       "      <td>0.000000</td>\n",
       "      <td>0.002940</td>\n",
       "      <td>1.545419e-06</td>\n",
       "      <td>0.008807</td>\n",
       "      <td>8.970535e-05</td>\n",
       "      <td>8.020281e-05</td>\n",
       "      <td>8.020281e-05</td>\n",
       "    </tr>\n",
       "    <tr>\n",
       "      <th>4</th>\n",
       "      <td>0.814533</td>\n",
       "      <td>0.003029</td>\n",
       "      <td>5.642510e-09</td>\n",
       "      <td>1.671807e-07</td>\n",
       "      <td>0.000195</td>\n",
       "      <td>0.0</td>\n",
       "      <td>0.000031</td>\n",
       "      <td>3.331258e-07</td>\n",
       "      <td>0.00006</td>\n",
       "      <td>0.000201</td>\n",
       "      <td>0.000000</td>\n",
       "      <td>1.000000</td>\n",
       "      <td>0.000000</td>\n",
       "      <td>0.002495</td>\n",
       "      <td>3.025705e-06</td>\n",
       "      <td>0.017242</td>\n",
       "      <td>3.436859e-04</td>\n",
       "      <td>1.811440e-04</td>\n",
       "      <td>1.811440e-04</td>\n",
       "    </tr>\n",
       "    <tr>\n",
       "      <th>...</th>\n",
       "      <td>...</td>\n",
       "      <td>...</td>\n",
       "      <td>...</td>\n",
       "      <td>...</td>\n",
       "      <td>...</td>\n",
       "      <td>...</td>\n",
       "      <td>...</td>\n",
       "      <td>...</td>\n",
       "      <td>...</td>\n",
       "      <td>...</td>\n",
       "      <td>...</td>\n",
       "      <td>...</td>\n",
       "      <td>...</td>\n",
       "      <td>...</td>\n",
       "      <td>...</td>\n",
       "      <td>...</td>\n",
       "      <td>...</td>\n",
       "      <td>...</td>\n",
       "      <td>...</td>\n",
       "    </tr>\n",
       "    <tr>\n",
       "      <th>1302993</th>\n",
       "      <td>0.912135</td>\n",
       "      <td>0.003029</td>\n",
       "      <td>1.022417e-05</td>\n",
       "      <td>5.731910e-07</td>\n",
       "      <td>0.000012</td>\n",
       "      <td>0.0</td>\n",
       "      <td>0.000092</td>\n",
       "      <td>1.070761e-06</td>\n",
       "      <td>0.00006</td>\n",
       "      <td>0.000022</td>\n",
       "      <td>0.000061</td>\n",
       "      <td>0.500000</td>\n",
       "      <td>0.000061</td>\n",
       "      <td>0.002673</td>\n",
       "      <td>8.408025e-07</td>\n",
       "      <td>0.000742</td>\n",
       "      <td>6.568074e-08</td>\n",
       "      <td>1.846069e-07</td>\n",
       "      <td>1.846069e-07</td>\n",
       "    </tr>\n",
       "    <tr>\n",
       "      <th>1302994</th>\n",
       "      <td>0.892816</td>\n",
       "      <td>0.003029</td>\n",
       "      <td>1.022428e-05</td>\n",
       "      <td>7.881376e-07</td>\n",
       "      <td>0.000016</td>\n",
       "      <td>0.0</td>\n",
       "      <td>0.000092</td>\n",
       "      <td>1.284914e-06</td>\n",
       "      <td>0.00006</td>\n",
       "      <td>0.000026</td>\n",
       "      <td>0.000061</td>\n",
       "      <td>0.500000</td>\n",
       "      <td>0.000061</td>\n",
       "      <td>0.003208</td>\n",
       "      <td>1.125017e-06</td>\n",
       "      <td>0.001552</td>\n",
       "      <td>8.063246e-08</td>\n",
       "      <td>1.846047e-07</td>\n",
       "      <td>1.846047e-07</td>\n",
       "    </tr>\n",
       "    <tr>\n",
       "      <th>1302995</th>\n",
       "      <td>0.863578</td>\n",
       "      <td>0.003029</td>\n",
       "      <td>1.022424e-05</td>\n",
       "      <td>1.403124e-06</td>\n",
       "      <td>0.000017</td>\n",
       "      <td>0.0</td>\n",
       "      <td>0.000153</td>\n",
       "      <td>2.230753e-06</td>\n",
       "      <td>0.00006</td>\n",
       "      <td>0.000027</td>\n",
       "      <td>0.000123</td>\n",
       "      <td>0.333333</td>\n",
       "      <td>0.000123</td>\n",
       "      <td>0.003341</td>\n",
       "      <td>2.084243e-06</td>\n",
       "      <td>0.001755</td>\n",
       "      <td>1.310979e-07</td>\n",
       "      <td>2.846012e-07</td>\n",
       "      <td>2.846012e-07</td>\n",
       "    </tr>\n",
       "    <tr>\n",
       "      <th>1302996</th>\n",
       "      <td>0.845968</td>\n",
       "      <td>0.003029</td>\n",
       "      <td>4.092895e-06</td>\n",
       "      <td>4.537762e-07</td>\n",
       "      <td>0.000014</td>\n",
       "      <td>0.0</td>\n",
       "      <td>0.000061</td>\n",
       "      <td>7.852250e-07</td>\n",
       "      <td>0.00006</td>\n",
       "      <td>0.000024</td>\n",
       "      <td>0.000031</td>\n",
       "      <td>0.666667</td>\n",
       "      <td>0.000031</td>\n",
       "      <td>0.002940</td>\n",
       "      <td>5.921145e-07</td>\n",
       "      <td>0.001147</td>\n",
       "      <td>1.449954e-07</td>\n",
       "      <td>3.593046e-07</td>\n",
       "      <td>3.593046e-07</td>\n",
       "    </tr>\n",
       "    <tr>\n",
       "      <th>1302997</th>\n",
       "      <td>0.542117</td>\n",
       "      <td>0.003029</td>\n",
       "      <td>3.397366e-09</td>\n",
       "      <td>1.671807e-07</td>\n",
       "      <td>0.000010</td>\n",
       "      <td>0.0</td>\n",
       "      <td>0.000031</td>\n",
       "      <td>3.331258e-07</td>\n",
       "      <td>0.00006</td>\n",
       "      <td>0.000020</td>\n",
       "      <td>0.000000</td>\n",
       "      <td>1.000000</td>\n",
       "      <td>0.000000</td>\n",
       "      <td>0.002495</td>\n",
       "      <td>8.289603e-08</td>\n",
       "      <td>0.000472</td>\n",
       "      <td>1.049577e-04</td>\n",
       "      <td>3.008270e-04</td>\n",
       "      <td>3.008270e-04</td>\n",
       "    </tr>\n",
       "  </tbody>\n",
       "</table>\n",
       "<p>1302998 rows × 19 columns</p>\n",
       "</div>"
      ],
      "text/plain": [
       "         id.orig_p  id.resp_p      duration    orig_bytes  resp_bytes  \\\n",
       "0         0.944790   0.306000  1.114291e-07  2.627125e-07    0.000000   \n",
       "1         0.958890   0.003029  1.022420e-05  1.403124e-06    0.000017   \n",
       "2         0.803012   0.003029  1.022431e-05  7.881376e-07    0.000016   \n",
       "3         0.998886   0.003029  1.274395e-08  2.268881e-07    0.000098   \n",
       "4         0.814533   0.003029  5.642510e-09  1.671807e-07    0.000195   \n",
       "...            ...        ...           ...           ...         ...   \n",
       "1302993   0.912135   0.003029  1.022417e-05  5.731910e-07    0.000012   \n",
       "1302994   0.892816   0.003029  1.022428e-05  7.881376e-07    0.000016   \n",
       "1302995   0.863578   0.003029  1.022424e-05  1.403124e-06    0.000017   \n",
       "1302996   0.845968   0.003029  4.092895e-06  4.537762e-07    0.000014   \n",
       "1302997   0.542117   0.003029  3.397366e-09  1.671807e-07    0.000010   \n",
       "\n",
       "         missed_bytes  orig_pkts  orig_ip_bytes  resp_pkts  resp_ip_bytes  \\\n",
       "0                 0.0   0.000061   8.328144e-07    0.00000       0.000000   \n",
       "1                 0.0   0.000153   2.230753e-06    0.00006       0.000027   \n",
       "2                 0.0   0.000092   1.284914e-06    0.00006       0.000026   \n",
       "3                 0.0   0.000031   3.926125e-07    0.00006       0.000106   \n",
       "4                 0.0   0.000031   3.331258e-07    0.00006       0.000201   \n",
       "...               ...        ...            ...        ...            ...   \n",
       "1302993           0.0   0.000092   1.070761e-06    0.00006       0.000022   \n",
       "1302994           0.0   0.000092   1.284914e-06    0.00006       0.000026   \n",
       "1302995           0.0   0.000153   2.230753e-06    0.00006       0.000027   \n",
       "1302996           0.0   0.000061   7.852250e-07    0.00006       0.000024   \n",
       "1302997           0.0   0.000031   3.331258e-07    0.00006       0.000020   \n",
       "\n",
       "               PX       PSP      IOPR       FPS           TBT       APL  \\\n",
       "0        0.000000  1.000000  0.000000  0.003118  2.486881e-07  0.001417   \n",
       "1        0.000123  0.333333  0.000123  0.003341  2.084243e-06  0.001755   \n",
       "2        0.000061  0.500000  0.000061  0.003208  1.125017e-06  0.001552   \n",
       "3        0.000000  1.000000  0.000000  0.002940  1.545419e-06  0.008807   \n",
       "4        0.000000  1.000000  0.000000  0.002495  3.025705e-06  0.017242   \n",
       "...           ...       ...       ...       ...           ...       ...   \n",
       "1302993  0.000061  0.500000  0.000061  0.002673  8.408025e-07  0.000742   \n",
       "1302994  0.000061  0.500000  0.000061  0.003208  1.125017e-06  0.001552   \n",
       "1302995  0.000123  0.333333  0.000123  0.003341  2.084243e-06  0.001755   \n",
       "1302996  0.000031  0.666667  0.000031  0.002940  5.921145e-07  0.001147   \n",
       "1302997  0.000000  1.000000  0.000000  0.002495  8.289603e-08  0.000472   \n",
       "\n",
       "                   BS            PS           PPS  \n",
       "0        3.992505e-06  9.159684e-06  9.159684e-06  \n",
       "1        1.310985e-07  2.846024e-07  2.846024e-07  \n",
       "2        8.063218e-08  1.846040e-07  1.846040e-07  \n",
       "3        8.970535e-05  8.020281e-05  8.020281e-05  \n",
       "4        3.436859e-04  1.811440e-04  1.811440e-04  \n",
       "...               ...           ...           ...  \n",
       "1302993  6.568074e-08  1.846069e-07  1.846069e-07  \n",
       "1302994  8.063246e-08  1.846047e-07  1.846047e-07  \n",
       "1302995  1.310979e-07  2.846012e-07  2.846012e-07  \n",
       "1302996  1.449954e-07  3.593046e-07  3.593046e-07  \n",
       "1302997  1.049577e-04  3.008270e-04  3.008270e-04  \n",
       "\n",
       "[1302998 rows x 19 columns]"
      ]
     },
     "execution_count": 31,
     "metadata": {},
     "output_type": "execute_result"
    }
   ],
   "source": [
    "from sklearn.model_selection import train_test_split\n",
    "X = dfnew.drop('label', axis=1)\n",
    "y = dfnew['label']\n",
    "X_train, X_test, y_train, y_test = train_test_split(X, y, test_size=0.2, stratify=y)\n",
    "X"
   ]
  },
  {
   "attachments": {},
   "cell_type": "markdown",
   "metadata": {},
   "source": [
    "### Data Balanced"
   ]
  },
  {
   "cell_type": "code",
   "execution_count": 32,
   "metadata": {
    "ExecuteTime": {
     "end_time": "2023-08-04T06:19:26.335070Z",
     "start_time": "2023-08-04T06:19:25.861895Z"
    }
   },
   "outputs": [
    {
     "name": "stdout",
     "output_type": "stream",
     "text": [
      "Botnet    97368\n",
      "Normal    97368\n",
      "Name: label, dtype: int64\n"
     ]
    }
   ],
   "source": [
    "# Memotong jumlah data botnet agar sama dengan jumlah data normal\n",
    "botnet_count = (dfnew['label'] == 'Botnet').sum()\n",
    "normal_count = (dfnew['label'] == 'Normal').sum()\n",
    "\n",
    "if botnet_count > normal_count:\n",
    "    data1 = pd.concat([dfnew[dfnew['label'] == 'Botnet'].head(normal_count), dfnew[dfnew['label'] == 'Normal']])\n",
    "else:\n",
    "    data1 = pd.concat([dfnew[dfnew['label'] == 'Botnet'], dfnew[dfnew['label'] == 'Normal'].head(botnet_count)])\n",
    "\n",
    "# Menampilkan jumlah data di setiap kategori setelah dipotong\n",
    "print(data1['label'].value_counts())"
   ]
  },
  {
   "cell_type": "code",
   "execution_count": 33,
   "metadata": {
    "ExecuteTime": {
     "end_time": "2023-08-04T06:35:06.451592Z",
     "start_time": "2023-08-04T06:35:06.444985Z"
    }
   },
   "outputs": [],
   "source": [
    "y1 = data1['label']\n",
    "X1 = data1.drop('label', axis=1)"
   ]
  },
  {
   "cell_type": "code",
   "execution_count": 34,
   "metadata": {
    "ExecuteTime": {
     "end_time": "2023-08-04T06:35:07.684611Z",
     "start_time": "2023-08-04T06:35:07.586698Z"
    }
   },
   "outputs": [],
   "source": [
    "X_train1, X_test1, y_train1, y_test1 = train_test_split(X1, y1, test_size=0.2, stratify=y1)"
   ]
  },
  {
   "attachments": {},
   "cell_type": "markdown",
   "metadata": {},
   "source": [
    "# Klasifikasi"
   ]
  },
  {
   "cell_type": "code",
   "execution_count": 35,
   "metadata": {
    "ExecuteTime": {
     "end_time": "2023-08-04T06:21:09.970345Z",
     "start_time": "2023-08-04T06:21:08.985470Z"
    }
   },
   "outputs": [],
   "source": [
    "from sklearn.tree import DecisionTreeClassifier\n",
    "from sklearn import metrics\n",
    "import matplotlib.pyplot as plt\n",
    "from sklearn import tree\n",
    "from sklearn.metrics import classification_report\n",
    "from sklearn.model_selection import KFold\n",
    "from sklearn.model_selection import cross_val_score\n",
    "from numpy import mean\n",
    "from numpy import std\n",
    "from sklearn.tree import export_text"
   ]
  },
  {
   "attachments": {},
   "cell_type": "markdown",
   "metadata": {},
   "source": [
    "# Decision Tree Entire Data"
   ]
  },
  {
   "cell_type": "code",
   "execution_count": 36,
   "metadata": {
    "ExecuteTime": {
     "end_time": "2023-08-04T06:21:27.940275Z",
     "start_time": "2023-08-04T06:21:12.529955Z"
    }
   },
   "outputs": [
    {
     "name": "stdout",
     "output_type": "stream",
     "text": [
      "0.9750575594781274\n",
      "              precision    recall  f1-score   support\n",
      "\n",
      "      Botnet       0.98      0.99      0.99    241126\n",
      "      Normal       0.89      0.77      0.82     19474\n",
      "\n",
      "    accuracy                           0.98    260600\n",
      "   macro avg       0.93      0.88      0.90    260600\n",
      "weighted avg       0.97      0.98      0.97    260600\n",
      "\n"
     ]
    }
   ],
   "source": [
    "# Decision Tree classifer object\n",
    "clf = DecisionTreeClassifier(max_depth = None, min_samples_split = 2)\n",
    "\n",
    "# Train Decision Tree\n",
    "clf = clf.fit(X_train,y_train)\n",
    "\n",
    "#Predict\n",
    "y_pred = clf.predict(X_test)\n",
    "\n",
    "# hasil\n",
    "score = metrics.accuracy_score(y_test, y_pred)\n",
    "report = classification_report(y_test, y_pred)\n",
    "\n",
    "print(score)\n",
    "print(report)"
   ]
  },
  {
   "attachments": {},
   "cell_type": "markdown",
   "metadata": {},
   "source": [
    "# K-Fold Decision Tree Entire Data"
   ]
  },
  {
   "cell_type": "code",
   "execution_count": 37,
   "metadata": {
    "ExecuteTime": {
     "end_time": "2023-08-04T06:22:00.638706Z",
     "start_time": "2023-08-04T06:21:27.939505Z"
    }
   },
   "outputs": [
    {
     "ename": "TerminatedWorkerError",
     "evalue": "A worker process managed by the executor was unexpectedly terminated. This could be caused by a segmentation fault while calling the function or by an excessive memory usage causing the Operating System to kill the worker.\n",
     "output_type": "error",
     "traceback": [
      "\u001b[1;31m---------------------------------------------------------------------------\u001b[0m",
      "\u001b[1;31mTerminatedWorkerError\u001b[0m                     Traceback (most recent call last)",
      "\u001b[1;32m~\\AppData\\Local\\Temp\\ipykernel_18464\\3960991679.py\u001b[0m in \u001b[0;36m<module>\u001b[1;34m\u001b[0m\n\u001b[0;32m      1\u001b[0m \u001b[0mcv\u001b[0m \u001b[1;33m=\u001b[0m \u001b[0mKFold\u001b[0m\u001b[1;33m(\u001b[0m\u001b[0mn_splits\u001b[0m\u001b[1;33m=\u001b[0m\u001b[1;36m10\u001b[0m\u001b[1;33m,\u001b[0m \u001b[0mrandom_state\u001b[0m\u001b[1;33m=\u001b[0m\u001b[1;36m1\u001b[0m\u001b[1;33m,\u001b[0m \u001b[0mshuffle\u001b[0m\u001b[1;33m=\u001b[0m\u001b[1;32mTrue\u001b[0m\u001b[1;33m)\u001b[0m\u001b[1;33m\u001b[0m\u001b[1;33m\u001b[0m\u001b[0m\n\u001b[1;32m----> 2\u001b[1;33m \u001b[0mscores\u001b[0m \u001b[1;33m=\u001b[0m \u001b[0mcross_val_score\u001b[0m\u001b[1;33m(\u001b[0m\u001b[0mclf\u001b[0m\u001b[1;33m,\u001b[0m \u001b[0mX\u001b[0m\u001b[1;33m,\u001b[0m \u001b[0my\u001b[0m\u001b[1;33m,\u001b[0m \u001b[0mscoring\u001b[0m\u001b[1;33m=\u001b[0m\u001b[1;34m'accuracy'\u001b[0m\u001b[1;33m,\u001b[0m \u001b[0mcv\u001b[0m\u001b[1;33m=\u001b[0m\u001b[0mcv\u001b[0m\u001b[1;33m,\u001b[0m \u001b[0mn_jobs\u001b[0m\u001b[1;33m=\u001b[0m\u001b[1;33m-\u001b[0m\u001b[1;36m1\u001b[0m\u001b[1;33m)\u001b[0m\u001b[1;33m\u001b[0m\u001b[1;33m\u001b[0m\u001b[0m\n\u001b[0m\u001b[0;32m      3\u001b[0m \u001b[0mprint\u001b[0m\u001b[1;33m(\u001b[0m\u001b[1;34m'Accuracy: %.3f (%.3f)'\u001b[0m \u001b[1;33m%\u001b[0m \u001b[1;33m(\u001b[0m\u001b[0mmean\u001b[0m\u001b[1;33m(\u001b[0m\u001b[0mscores\u001b[0m\u001b[1;33m)\u001b[0m\u001b[1;33m,\u001b[0m \u001b[0mstd\u001b[0m\u001b[1;33m(\u001b[0m\u001b[0mscores\u001b[0m\u001b[1;33m)\u001b[0m\u001b[1;33m)\u001b[0m\u001b[1;33m)\u001b[0m\u001b[1;33m\u001b[0m\u001b[1;33m\u001b[0m\u001b[0m\n",
      "\u001b[1;32m~\\AppData\\Roaming\\Python\\Python37\\site-packages\\sklearn\\model_selection\\_validation.py\u001b[0m in \u001b[0;36mcross_val_score\u001b[1;34m(estimator, X, y, groups, scoring, cv, n_jobs, verbose, fit_params, pre_dispatch, error_score)\u001b[0m\n\u001b[0;32m    518\u001b[0m         \u001b[0mfit_params\u001b[0m\u001b[1;33m=\u001b[0m\u001b[0mfit_params\u001b[0m\u001b[1;33m,\u001b[0m\u001b[1;33m\u001b[0m\u001b[1;33m\u001b[0m\u001b[0m\n\u001b[0;32m    519\u001b[0m         \u001b[0mpre_dispatch\u001b[0m\u001b[1;33m=\u001b[0m\u001b[0mpre_dispatch\u001b[0m\u001b[1;33m,\u001b[0m\u001b[1;33m\u001b[0m\u001b[1;33m\u001b[0m\u001b[0m\n\u001b[1;32m--> 520\u001b[1;33m         \u001b[0merror_score\u001b[0m\u001b[1;33m=\u001b[0m\u001b[0merror_score\u001b[0m\u001b[1;33m,\u001b[0m\u001b[1;33m\u001b[0m\u001b[1;33m\u001b[0m\u001b[0m\n\u001b[0m\u001b[0;32m    521\u001b[0m     )\n\u001b[0;32m    522\u001b[0m     \u001b[1;32mreturn\u001b[0m \u001b[0mcv_results\u001b[0m\u001b[1;33m[\u001b[0m\u001b[1;34m\"test_score\"\u001b[0m\u001b[1;33m]\u001b[0m\u001b[1;33m\u001b[0m\u001b[1;33m\u001b[0m\u001b[0m\n",
      "\u001b[1;32m~\\AppData\\Roaming\\Python\\Python37\\site-packages\\sklearn\\model_selection\\_validation.py\u001b[0m in \u001b[0;36mcross_validate\u001b[1;34m(estimator, X, y, groups, scoring, cv, n_jobs, verbose, fit_params, pre_dispatch, return_train_score, return_estimator, error_score)\u001b[0m\n\u001b[0;32m    281\u001b[0m             \u001b[0merror_score\u001b[0m\u001b[1;33m=\u001b[0m\u001b[0merror_score\u001b[0m\u001b[1;33m,\u001b[0m\u001b[1;33m\u001b[0m\u001b[1;33m\u001b[0m\u001b[0m\n\u001b[0;32m    282\u001b[0m         )\n\u001b[1;32m--> 283\u001b[1;33m         \u001b[1;32mfor\u001b[0m \u001b[0mtrain\u001b[0m\u001b[1;33m,\u001b[0m \u001b[0mtest\u001b[0m \u001b[1;32min\u001b[0m \u001b[0mcv\u001b[0m\u001b[1;33m.\u001b[0m\u001b[0msplit\u001b[0m\u001b[1;33m(\u001b[0m\u001b[0mX\u001b[0m\u001b[1;33m,\u001b[0m \u001b[0my\u001b[0m\u001b[1;33m,\u001b[0m \u001b[0mgroups\u001b[0m\u001b[1;33m)\u001b[0m\u001b[1;33m\u001b[0m\u001b[1;33m\u001b[0m\u001b[0m\n\u001b[0m\u001b[0;32m    284\u001b[0m     )\n\u001b[0;32m    285\u001b[0m \u001b[1;33m\u001b[0m\u001b[0m\n",
      "\u001b[1;32m~\\AppData\\Roaming\\Python\\Python37\\site-packages\\joblib\\parallel.py\u001b[0m in \u001b[0;36m__call__\u001b[1;34m(self, iterable)\u001b[0m\n\u001b[0;32m   1950\u001b[0m         \u001b[0mnext\u001b[0m\u001b[1;33m(\u001b[0m\u001b[0moutput\u001b[0m\u001b[1;33m)\u001b[0m\u001b[1;33m\u001b[0m\u001b[1;33m\u001b[0m\u001b[0m\n\u001b[0;32m   1951\u001b[0m \u001b[1;33m\u001b[0m\u001b[0m\n\u001b[1;32m-> 1952\u001b[1;33m         \u001b[1;32mreturn\u001b[0m \u001b[0moutput\u001b[0m \u001b[1;32mif\u001b[0m \u001b[0mself\u001b[0m\u001b[1;33m.\u001b[0m\u001b[0mreturn_generator\u001b[0m \u001b[1;32melse\u001b[0m \u001b[0mlist\u001b[0m\u001b[1;33m(\u001b[0m\u001b[0moutput\u001b[0m\u001b[1;33m)\u001b[0m\u001b[1;33m\u001b[0m\u001b[1;33m\u001b[0m\u001b[0m\n\u001b[0m\u001b[0;32m   1953\u001b[0m \u001b[1;33m\u001b[0m\u001b[0m\n\u001b[0;32m   1954\u001b[0m     \u001b[1;32mdef\u001b[0m \u001b[0m__repr__\u001b[0m\u001b[1;33m(\u001b[0m\u001b[0mself\u001b[0m\u001b[1;33m)\u001b[0m\u001b[1;33m:\u001b[0m\u001b[1;33m\u001b[0m\u001b[1;33m\u001b[0m\u001b[0m\n",
      "\u001b[1;32m~\\AppData\\Roaming\\Python\\Python37\\site-packages\\joblib\\parallel.py\u001b[0m in \u001b[0;36m_get_outputs\u001b[1;34m(self, iterator, pre_dispatch)\u001b[0m\n\u001b[0;32m   1593\u001b[0m \u001b[1;33m\u001b[0m\u001b[0m\n\u001b[0;32m   1594\u001b[0m             \u001b[1;32mwith\u001b[0m \u001b[0mself\u001b[0m\u001b[1;33m.\u001b[0m\u001b[0m_backend\u001b[0m\u001b[1;33m.\u001b[0m\u001b[0mretrieval_context\u001b[0m\u001b[1;33m(\u001b[0m\u001b[1;33m)\u001b[0m\u001b[1;33m:\u001b[0m\u001b[1;33m\u001b[0m\u001b[1;33m\u001b[0m\u001b[0m\n\u001b[1;32m-> 1595\u001b[1;33m                 \u001b[1;32myield\u001b[0m \u001b[1;32mfrom\u001b[0m \u001b[0mself\u001b[0m\u001b[1;33m.\u001b[0m\u001b[0m_retrieve\u001b[0m\u001b[1;33m(\u001b[0m\u001b[1;33m)\u001b[0m\u001b[1;33m\u001b[0m\u001b[1;33m\u001b[0m\u001b[0m\n\u001b[0m\u001b[0;32m   1596\u001b[0m \u001b[1;33m\u001b[0m\u001b[0m\n\u001b[0;32m   1597\u001b[0m         \u001b[1;32mexcept\u001b[0m \u001b[0mGeneratorExit\u001b[0m\u001b[1;33m:\u001b[0m\u001b[1;33m\u001b[0m\u001b[1;33m\u001b[0m\u001b[0m\n",
      "\u001b[1;32m~\\AppData\\Roaming\\Python\\Python37\\site-packages\\joblib\\parallel.py\u001b[0m in \u001b[0;36m_retrieve\u001b[1;34m(self)\u001b[0m\n\u001b[0;32m   1697\u001b[0m             \u001b[1;31m# worker traceback.\u001b[0m\u001b[1;33m\u001b[0m\u001b[1;33m\u001b[0m\u001b[1;33m\u001b[0m\u001b[0m\n\u001b[0;32m   1698\u001b[0m             \u001b[1;32mif\u001b[0m \u001b[0mself\u001b[0m\u001b[1;33m.\u001b[0m\u001b[0m_aborting\u001b[0m\u001b[1;33m:\u001b[0m\u001b[1;33m\u001b[0m\u001b[1;33m\u001b[0m\u001b[0m\n\u001b[1;32m-> 1699\u001b[1;33m                 \u001b[0mself\u001b[0m\u001b[1;33m.\u001b[0m\u001b[0m_raise_error_fast\u001b[0m\u001b[1;33m(\u001b[0m\u001b[1;33m)\u001b[0m\u001b[1;33m\u001b[0m\u001b[1;33m\u001b[0m\u001b[0m\n\u001b[0m\u001b[0;32m   1700\u001b[0m                 \u001b[1;32mbreak\u001b[0m\u001b[1;33m\u001b[0m\u001b[1;33m\u001b[0m\u001b[0m\n\u001b[0;32m   1701\u001b[0m \u001b[1;33m\u001b[0m\u001b[0m\n",
      "\u001b[1;32m~\\AppData\\Roaming\\Python\\Python37\\site-packages\\joblib\\parallel.py\u001b[0m in \u001b[0;36m_raise_error_fast\u001b[1;34m(self)\u001b[0m\n\u001b[0;32m   1732\u001b[0m         \u001b[1;31m# called directly or if the generator is gc'ed.\u001b[0m\u001b[1;33m\u001b[0m\u001b[1;33m\u001b[0m\u001b[1;33m\u001b[0m\u001b[0m\n\u001b[0;32m   1733\u001b[0m         \u001b[1;32mif\u001b[0m \u001b[0merror_job\u001b[0m \u001b[1;32mis\u001b[0m \u001b[1;32mnot\u001b[0m \u001b[1;32mNone\u001b[0m\u001b[1;33m:\u001b[0m\u001b[1;33m\u001b[0m\u001b[1;33m\u001b[0m\u001b[0m\n\u001b[1;32m-> 1734\u001b[1;33m             \u001b[0merror_job\u001b[0m\u001b[1;33m.\u001b[0m\u001b[0mget_result\u001b[0m\u001b[1;33m(\u001b[0m\u001b[0mself\u001b[0m\u001b[1;33m.\u001b[0m\u001b[0mtimeout\u001b[0m\u001b[1;33m)\u001b[0m\u001b[1;33m\u001b[0m\u001b[1;33m\u001b[0m\u001b[0m\n\u001b[0m\u001b[0;32m   1735\u001b[0m \u001b[1;33m\u001b[0m\u001b[0m\n\u001b[0;32m   1736\u001b[0m     \u001b[1;32mdef\u001b[0m \u001b[0m_warn_exit_early\u001b[0m\u001b[1;33m(\u001b[0m\u001b[0mself\u001b[0m\u001b[1;33m)\u001b[0m\u001b[1;33m:\u001b[0m\u001b[1;33m\u001b[0m\u001b[1;33m\u001b[0m\u001b[0m\n",
      "\u001b[1;32m~\\AppData\\Roaming\\Python\\Python37\\site-packages\\joblib\\parallel.py\u001b[0m in \u001b[0;36mget_result\u001b[1;34m(self, timeout)\u001b[0m\n\u001b[0;32m    734\u001b[0m             \u001b[1;31m# callback thread, and is stored internally. It's just waiting to\u001b[0m\u001b[1;33m\u001b[0m\u001b[1;33m\u001b[0m\u001b[1;33m\u001b[0m\u001b[0m\n\u001b[0;32m    735\u001b[0m             \u001b[1;31m# be returned.\u001b[0m\u001b[1;33m\u001b[0m\u001b[1;33m\u001b[0m\u001b[1;33m\u001b[0m\u001b[0m\n\u001b[1;32m--> 736\u001b[1;33m             \u001b[1;32mreturn\u001b[0m \u001b[0mself\u001b[0m\u001b[1;33m.\u001b[0m\u001b[0m_return_or_raise\u001b[0m\u001b[1;33m(\u001b[0m\u001b[1;33m)\u001b[0m\u001b[1;33m\u001b[0m\u001b[1;33m\u001b[0m\u001b[0m\n\u001b[0m\u001b[0;32m    737\u001b[0m \u001b[1;33m\u001b[0m\u001b[0m\n\u001b[0;32m    738\u001b[0m         \u001b[1;31m# For other backends, the main thread needs to run the retrieval step.\u001b[0m\u001b[1;33m\u001b[0m\u001b[1;33m\u001b[0m\u001b[1;33m\u001b[0m\u001b[0m\n",
      "\u001b[1;32m~\\AppData\\Roaming\\Python\\Python37\\site-packages\\joblib\\parallel.py\u001b[0m in \u001b[0;36m_return_or_raise\u001b[1;34m(self)\u001b[0m\n\u001b[0;32m    752\u001b[0m         \u001b[1;32mtry\u001b[0m\u001b[1;33m:\u001b[0m\u001b[1;33m\u001b[0m\u001b[1;33m\u001b[0m\u001b[0m\n\u001b[0;32m    753\u001b[0m             \u001b[1;32mif\u001b[0m \u001b[0mself\u001b[0m\u001b[1;33m.\u001b[0m\u001b[0mstatus\u001b[0m \u001b[1;33m==\u001b[0m \u001b[0mTASK_ERROR\u001b[0m\u001b[1;33m:\u001b[0m\u001b[1;33m\u001b[0m\u001b[1;33m\u001b[0m\u001b[0m\n\u001b[1;32m--> 754\u001b[1;33m                 \u001b[1;32mraise\u001b[0m \u001b[0mself\u001b[0m\u001b[1;33m.\u001b[0m\u001b[0m_result\u001b[0m\u001b[1;33m\u001b[0m\u001b[1;33m\u001b[0m\u001b[0m\n\u001b[0m\u001b[0;32m    755\u001b[0m             \u001b[1;32mreturn\u001b[0m \u001b[0mself\u001b[0m\u001b[1;33m.\u001b[0m\u001b[0m_result\u001b[0m\u001b[1;33m\u001b[0m\u001b[1;33m\u001b[0m\u001b[0m\n\u001b[0;32m    756\u001b[0m         \u001b[1;32mfinally\u001b[0m\u001b[1;33m:\u001b[0m\u001b[1;33m\u001b[0m\u001b[1;33m\u001b[0m\u001b[0m\n",
      "\u001b[1;31mTerminatedWorkerError\u001b[0m: A worker process managed by the executor was unexpectedly terminated. This could be caused by a segmentation fault while calling the function or by an excessive memory usage causing the Operating System to kill the worker.\n"
     ]
    }
   ],
   "source": [
    "cv = KFold(n_splits=10, random_state=1, shuffle=True)\n",
    "scores = cross_val_score(clf, X, y, scoring='accuracy', cv=cv, n_jobs=-1)\n",
    "print('Accuracy: %.3f (%.3f)' % (mean(scores), std(scores)))"
   ]
  },
  {
   "attachments": {},
   "cell_type": "markdown",
   "metadata": {},
   "source": [
    "# Decision Tree Balanced Data"
   ]
  },
  {
   "cell_type": "code",
   "execution_count": null,
   "metadata": {
    "ExecuteTime": {
     "end_time": "2023-08-04T06:22:02.338724Z",
     "start_time": "2023-08-04T06:22:00.643695Z"
    }
   },
   "outputs": [
    {
     "name": "stdout",
     "output_type": "stream",
     "text": [
      "0.9483670535072404\n",
      "              precision    recall  f1-score   support\n",
      "\n",
      "      Botnet       0.97      0.93      0.95     19474\n",
      "      Normal       0.93      0.97      0.95     19474\n",
      "\n",
      "    accuracy                           0.95     38948\n",
      "   macro avg       0.95      0.95      0.95     38948\n",
      "weighted avg       0.95      0.95      0.95     38948\n",
      "\n"
     ]
    }
   ],
   "source": [
    "# Decision Tree classifer object\n",
    "model1 = DecisionTreeClassifier(max_depth = None, min_samples_split = 2)\n",
    "\n",
    "# Train Decision Tree\n",
    "model1 = model1.fit(X_train1,y_train1)\n",
    "\n",
    "#Predict\n",
    "y_pred1 = model1.predict(X_test1)\n",
    "\n",
    "# hasil\n",
    "score = metrics.accuracy_score(y_test1, y_pred1)\n",
    "report = classification_report(y_test1, y_pred1)\n",
    "print(score)\n",
    "print(report)"
   ]
  },
  {
   "attachments": {},
   "cell_type": "markdown",
   "metadata": {},
   "source": [
    "# K-Fold Decision Tree Balanced Data"
   ]
  },
  {
   "cell_type": "code",
   "execution_count": null,
   "metadata": {
    "ExecuteTime": {
     "end_time": "2023-08-04T06:22:32.709491Z",
     "start_time": "2023-08-04T06:22:02.336826Z"
    }
   },
   "outputs": [
    {
     "name": "stdout",
     "output_type": "stream",
     "text": [
      "Accuracy: 0.975 (0.001)\n"
     ]
    }
   ],
   "source": [
    "cv2 = KFold(n_splits=10, random_state=1, shuffle=True)\n",
    "scores = cross_val_score(model1, X, y, scoring='accuracy', cv=cv2, n_jobs=-1)\n",
    "print('Accuracy: %.3f (%.3f)' % (mean(scores), std(scores)))"
   ]
  },
  {
   "attachments": {},
   "cell_type": "markdown",
   "metadata": {},
   "source": [
    "# Confusion Matrix"
   ]
  },
  {
   "cell_type": "code",
   "execution_count": null,
   "metadata": {
    "ExecuteTime": {
     "end_time": "2023-08-04T06:22:32.821734Z",
     "start_time": "2023-08-04T06:22:32.740495Z"
    }
   },
   "outputs": [
    {
     "name": "stdout",
     "output_type": "stream",
     "text": [
      "Confusion Matrix:\n",
      "[[18026  1448]\n",
      " [  563 18911]]\n"
     ]
    }
   ],
   "source": [
    "from sklearn.metrics import confusion_matrix\n",
    "\n",
    "cm = confusion_matrix(y_test1, y_pred1)\n",
    "\n",
    "print(\"Confusion Matrix:\")\n",
    "print(cm)"
   ]
  },
  {
   "attachments": {},
   "cell_type": "markdown",
   "metadata": {},
   "source": [
    "# Random Forest"
   ]
  },
  {
   "cell_type": "code",
   "execution_count": null,
   "metadata": {
    "ExecuteTime": {
     "end_time": "2023-08-04T06:22:36.727846Z",
     "start_time": "2023-08-04T06:22:32.812851Z"
    }
   },
   "outputs": [],
   "source": [
    "from sklearn.ensemble import RandomForestClassifier\n",
    "from sklearn.metrics import confusion_matrix\n",
    "from sklearn.metrics import classification_report\n",
    "from sklearn.model_selection import train_test_split"
   ]
  },
  {
   "cell_type": "code",
   "execution_count": null,
   "metadata": {
    "ExecuteTime": {
     "end_time": "2023-08-04T06:33:21.737344Z",
     "start_time": "2023-08-04T06:33:21.695670Z"
    }
   },
   "outputs": [],
   "source": [
    "X_train1, X_test1, y_train1, y_test1 = train_test_split(X1, y1, test_size=0.2, stratify=y1)"
   ]
  },
  {
   "cell_type": "code",
   "execution_count": null,
   "metadata": {
    "ExecuteTime": {
     "end_time": "2023-08-04T06:22:36.873662Z",
     "start_time": "2023-08-04T06:22:36.845178Z"
    }
   },
   "outputs": [
    {
     "name": "stdout",
     "output_type": "stream",
     "text": [
      "<class 'pandas.core.frame.DataFrame'>\n",
      "Int64Index: 155788 entries, 82483 to 441370\n",
      "Data columns (total 19 columns):\n",
      " #   Column         Non-Null Count   Dtype  \n",
      "---  ------         --------------   -----  \n",
      " 0   id.orig_p      155788 non-null  float64\n",
      " 1   id.resp_p      155788 non-null  float64\n",
      " 2   duration       155788 non-null  float64\n",
      " 3   orig_bytes     155788 non-null  float64\n",
      " 4   resp_bytes     155788 non-null  float64\n",
      " 5   missed_bytes   155788 non-null  float64\n",
      " 6   orig_pkts      155788 non-null  float64\n",
      " 7   orig_ip_bytes  155788 non-null  float64\n",
      " 8   resp_pkts      155788 non-null  float64\n",
      " 9   resp_ip_bytes  155788 non-null  float64\n",
      " 10  PX             155788 non-null  float64\n",
      " 11  PSP            155788 non-null  float64\n",
      " 12  IOPR           155788 non-null  float64\n",
      " 13  FPS            155788 non-null  float64\n",
      " 14  TBT            155788 non-null  float64\n",
      " 15  APL            155788 non-null  float64\n",
      " 16  BS             155788 non-null  float64\n",
      " 17  PS             155788 non-null  float64\n",
      " 18  PPS            155788 non-null  float64\n",
      "dtypes: float64(19)\n",
      "memory usage: 23.8 MB\n"
     ]
    }
   ],
   "source": [
    "X_train1.info()"
   ]
  },
  {
   "cell_type": "code",
   "execution_count": null,
   "metadata": {
    "ExecuteTime": {
     "end_time": "2023-08-04T06:22:36.891806Z",
     "start_time": "2023-08-04T06:22:36.863525Z"
    }
   },
   "outputs": [],
   "source": [
    "rf = RandomForestClassifier(n_estimators = 10, criterion = 'entropy', random_state = 0)"
   ]
  },
  {
   "cell_type": "code",
   "execution_count": null,
   "metadata": {
    "ExecuteTime": {
     "end_time": "2023-08-04T06:22:38.004068Z",
     "start_time": "2023-08-04T06:22:36.868889Z"
    }
   },
   "outputs": [],
   "source": [
    "rf = rf.fit(X_train1,y_train1)"
   ]
  },
  {
   "cell_type": "code",
   "execution_count": null,
   "metadata": {
    "ExecuteTime": {
     "end_time": "2023-08-04T06:22:38.024037Z",
     "start_time": "2023-08-04T06:22:37.987369Z"
    }
   },
   "outputs": [],
   "source": [
    "y_pred1 = rf.predict(X_test1)"
   ]
  },
  {
   "cell_type": "code",
   "execution_count": null,
   "metadata": {
    "ExecuteTime": {
     "end_time": "2023-08-04T06:22:38.888660Z",
     "start_time": "2023-08-04T06:22:38.057365Z"
    }
   },
   "outputs": [
    {
     "name": "stdout",
     "output_type": "stream",
     "text": [
      "Classification Report:\n",
      "              precision    recall  f1-score   support\n",
      "\n",
      "      Botnet       0.98      0.92      0.95     19474\n",
      "      Normal       0.93      0.99      0.96     19474\n",
      "\n",
      "    accuracy                           0.95     38948\n",
      "   macro avg       0.96      0.95      0.95     38948\n",
      "weighted avg       0.96      0.95      0.95     38948\n",
      "\n"
     ]
    }
   ],
   "source": [
    "print(\"Classification Report:\")\n",
    "print(classification_report(y_test1, y_pred1))"
   ]
  },
  {
   "attachments": {},
   "cell_type": "markdown",
   "metadata": {},
   "source": [
    "## Confusion Matrix Random Forest"
   ]
  },
  {
   "cell_type": "code",
   "execution_count": null,
   "metadata": {
    "ExecuteTime": {
     "end_time": "2023-08-04T06:22:39.083632Z",
     "start_time": "2023-08-04T06:22:38.908072Z"
    }
   },
   "outputs": [],
   "source": [
    "# from sklearn.metrics import plot_confusion_matrix\n",
    "from sklearn.metrics import confusion_matrix\n",
    "\n",
    "matrix = confusion_matrix(y_test1, y_pred1)\n",
    "plt.show() "
   ]
  },
  {
   "attachments": {},
   "cell_type": "markdown",
   "metadata": {},
   "source": [
    "# K-Fold Random Forest"
   ]
  },
  {
   "cell_type": "code",
   "execution_count": null,
   "metadata": {
    "ExecuteTime": {
     "end_time": "2023-08-04T06:22:42.486002Z",
     "start_time": "2023-08-04T06:22:39.085941Z"
    }
   },
   "outputs": [
    {
     "name": "stdout",
     "output_type": "stream",
     "text": [
      "Accuracy: 0.955 (0.002)\n"
     ]
    }
   ],
   "source": [
    "kfrf = KFold(n_splits=10, random_state=1, shuffle=True)\n",
    "scores = cross_val_score(rf, X_train1, y_train1, scoring='accuracy', cv=kfrf, n_jobs=-1)\n",
    "print('Accuracy: %.3f (%.3f)' % (mean(scores), std(scores)))"
   ]
  },
  {
   "attachments": {},
   "cell_type": "markdown",
   "metadata": {},
   "source": [
    "# SVM"
   ]
  },
  {
   "cell_type": "code",
   "execution_count": null,
   "metadata": {
    "ExecuteTime": {
     "end_time": "2023-08-04T06:22:42.486384Z",
     "start_time": "2023-08-04T06:22:42.472604Z"
    }
   },
   "outputs": [
    {
     "name": "stdout",
     "output_type": "stream",
     "text": [
      "Accuracy: 0.8476943617130533\n"
     ]
    }
   ],
   "source": [
    "# from sklearn import svm\n",
    "# from sklearn.metrics import accuracy_score\n",
    "\n",
    "# svm_model = svm.SVC()\n",
    "# svm_model.fit(X_train1, y_train1)\n",
    "\n",
    "# y_pred1 = svm_model.predict(X_test1)\n",
    "# accuracy = accuracy_score(y_test1, y_pred1)\n",
    "# print(\"Accuracy:\", accuracy)"
   ]
  },
  {
   "attachments": {},
   "cell_type": "markdown",
   "metadata": {},
   "source": [
    "## Confusion Matrix SVM"
   ]
  },
  {
   "cell_type": "code",
   "execution_count": null,
   "metadata": {
    "ExecuteTime": {
     "end_time": "2023-08-04T06:22:42.486559Z",
     "start_time": "2023-08-04T06:22:42.485830Z"
    }
   },
   "outputs": [
    {
     "name": "stderr",
     "output_type": "stream",
     "text": [
      "C:\\Users\\Rully Rosadi\\AppData\\Roaming\\Python\\Python37\\site-packages\\sklearn\\utils\\deprecation.py:87: FutureWarning: Function plot_confusion_matrix is deprecated; Function `plot_confusion_matrix` is deprecated in 1.0 and will be removed in 1.2. Use one of the class methods: ConfusionMatrixDisplay.from_predictions or ConfusionMatrixDisplay.from_estimator.\n",
      "  warnings.warn(msg, category=FutureWarning)\n"
     ]
    },
    {
     "data": {
      "image/png": "[encoded data removed]",
      "text/plain": [
       "<Figure size 640x480 with 2 Axes>"
      ]
     },
     "metadata": {},
     "output_type": "display_data"
    }
   ],
   "source": [
    "# from sklearn.metrics import plot_confusion_matrix\n",
    "# matrix = confusion_matrix(y_test1, y_pred1)\n",
    "# plot_confusion_matrix(svm_model, X_test1, y_test1)  \n",
    "# plt.show() "
   ]
  },
  {
   "cell_type": "markdown",
   "metadata": {},
   "source": [
    "## K-Fold Cross Validation"
   ]
  },
  {
   "cell_type": "code",
   "execution_count": null,
   "metadata": {
    "ExecuteTime": {
     "end_time": "2023-08-04T06:22:42.486650Z",
     "start_time": "2023-08-04T06:22:42.486288Z"
    }
   },
   "outputs": [],
   "source": [
    "# k = 5\n",
    "# cv_scores = cross_val_score(svm_model, X_train1, y_train1, cv=k)\n",
    "\n",
    "# # Calculate the mean and standard deviation of the cross-validation scores\n",
    "# mean_accuracy = cv_scores.mean()\n",
    "# std_accuracy = cv_scores.std()\n",
    "\n",
    "# print(f\"Cross-Validation Accuracy (k={k}): {mean_accuracy:.4f} +/- {std_accuracy:.4f}\")"
   ]
  },
  {
   "cell_type": "markdown",
   "metadata": {},
   "source": [
    "# Neural Network"
   ]
  },
  {
   "cell_type": "code",
   "execution_count": 39,
   "metadata": {
    "ExecuteTime": {
     "end_time": "2023-08-04T06:39:13.466644Z",
     "start_time": "2023-08-04T06:38:53.988541Z"
    }
   },
   "outputs": [
    {
     "name": "stdout",
     "output_type": "stream",
     "text": [
      "Epoch 1/10\n",
      "4382/4382 [==============================] - 8s 2ms/step - loss: 0.4595 - accuracy: 0.7983 - val_loss: 0.3854 - val_accuracy: 0.8492\n",
      "Epoch 2/10\n",
      "4382/4382 [==============================] - 7s 2ms/step - loss: 0.3694 - accuracy: 0.8542 - val_loss: 0.3643 - val_accuracy: 0.8572\n",
      "Epoch 3/10\n",
      "4382/4382 [==============================] - 6s 1ms/step - loss: 0.3527 - accuracy: 0.8587 - val_loss: 0.3487 - val_accuracy: 0.8594\n",
      "Epoch 4/10\n",
      "4382/4382 [==============================] - 6s 1ms/step - loss: 0.3413 - accuracy: 0.8621 - val_loss: 0.3373 - val_accuracy: 0.8629\n",
      "Epoch 5/10\n",
      "4382/4382 [==============================] - 7s 2ms/step - loss: 0.3315 - accuracy: 0.8649 - val_loss: 0.3325 - val_accuracy: 0.8667\n",
      "Epoch 6/10\n",
      "4382/4382 [==============================] - 6s 1ms/step - loss: 0.3246 - accuracy: 0.8667 - val_loss: 0.3334 - val_accuracy: 0.8712\n",
      "Epoch 7/10\n",
      "4382/4382 [==============================] - 6s 1ms/step - loss: 0.3209 - accuracy: 0.8691 - val_loss: 0.3183 - val_accuracy: 0.8710\n",
      "Epoch 8/10\n",
      "4382/4382 [==============================] - 7s 2ms/step - loss: 0.3177 - accuracy: 0.8717 - val_loss: 0.3213 - val_accuracy: 0.8718\n",
      "Epoch 9/10\n",
      "4382/4382 [==============================] - 7s 2ms/step - loss: 0.3163 - accuracy: 0.8726 - val_loss: 0.3169 - val_accuracy: 0.8722\n",
      "Epoch 10/10\n",
      "4382/4382 [==============================] - 7s 2ms/step - loss: 0.3141 - accuracy: 0.8734 - val_loss: 0.3203 - val_accuracy: 0.8632\n",
      "1218/1218 [==============================] - 2s 1ms/step - loss: 0.3374 - accuracy: 0.8626\n",
      "Test loss: 0.3374, Test accuracy: 0.8626\n"
     ]
    }
   ],
   "source": [
    "import numpy as np\n",
    "import tensorflow as tf\n",
    "from tensorflow.keras.models import Sequential\n",
    "from tensorflow.keras.layers import Dense, Activation\n",
    "from sklearn.model_selection import train_test_split\n",
    "from sklearn.preprocessing import LabelEncoder\n",
    "\n",
    "# Label encoding for binary classification (Botnet = 0, Normal = 1)\n",
    "label_encoder = LabelEncoder()\n",
    "y_train_encoded = label_encoder.fit_transform(y_train1)\n",
    "y_test_encoded = label_encoder.transform(y_test1)\n",
    "\n",
    "# Create a sequential model\n",
    "ann = Sequential()\n",
    "\n",
    "# Add a fully connected layer with 32 units and 'relu' activation function\n",
    "ann.add(Dense(32, activation='relu', input_dim=X_train1.shape[1]))\n",
    "\n",
    "# Add another fully connected layer with 16 units and 'relu' activation function\n",
    "ann.add(Dense(16, activation='relu'))\n",
    "\n",
    "# Add the output layer with 1 unit and sigmoid activation function (for binary classification)\n",
    "ann.add(Dense(1, activation='sigmoid'))\n",
    "\n",
    "# Compile the model with binary cross-entropy loss and Adam optimizer\n",
    "ann.compile(loss='binary_crossentropy', optimizer='adam', metrics=['accuracy'])\n",
    "\n",
    "# Train the model\n",
    "epochs = 10\n",
    "batch_size = 32\n",
    "ann.fit(X_train1, y_train_encoded, epochs=epochs, batch_size=batch_size, validation_split=0.1)\n",
    "\n",
    "# Evaluate the model on the test set\n",
    "loss, accuracy = ann.evaluate(X_test1, y_test_encoded)\n",
    "print(f\"Test loss: {loss:.4f}, Test accuracy: {accuracy:.4f}\")\n"
   ]
  },
  {
   "cell_type": "markdown",
   "metadata": {},
   "source": [
    "# Confusion Matrix"
   ]
  },
  {
   "cell_type": "code",
   "execution_count": 40,
   "metadata": {
    "collapsed": false
   },
   "outputs": [
    {
     "name": "stdout",
     "output_type": "stream",
     "text": [
      "1218/1218 [==============================] - 2s 1ms/step\n"
     ]
    },
    {
     "data": {
      "image/png": "[encoded data removed]",
      "text/plain": [
       "<Figure size 800x600 with 1 Axes>"
      ]
     },
     "metadata": {},
     "output_type": "display_data"
    }
   ],
   "source": [
    "from sklearn.metrics import confusion_matrix\n",
    "import matplotlib.pyplot as plt\n",
    "import seaborn as sns\n",
    "\n",
    "# Generate predictions for the test data\n",
    "y_pred_proba = ann.predict(X_test1)\n",
    "y_pred = (y_pred_proba > 0.5).astype(int)\n",
    "\n",
    "# Create a confusion matrix\n",
    "cm = confusion_matrix(y_test_encoded, y_pred)\n",
    "\n",
    "class_names = label_encoder.inverse_transform([0, 1])\n",
    "\n",
    "# Plot the confusion matrix using seaborn\n",
    "plt.figure(figsize=(8, 6))\n",
    "sns.heatmap(cm, annot=True, fmt=\"d\", cmap=\"Blues\", cbar=False, xticklabels=class_names, yticklabels=class_names)\n",
    "plt.xlabel(\"Predicted Labels\")\n",
    "plt.ylabel(\"True Labels\")\n",
    "plt.title(\"Confusion Matrix\")\n",
    "plt.show()\n"
   ]
  },
  {
   "cell_type": "markdown",
   "metadata": {},
   "source": [
    "# Cross Validation ANN"
   ]
  },
  {
   "cell_type": "code",
   "execution_count": 42,
   "metadata": {},
   "outputs": [
    {
     "name": "stderr",
     "output_type": "stream",
     "text": [
      "c:\\Punyaku\\Rully\\Botnet\\Botnet_Detection\\.conda\\lib\\site-packages\\ipykernel_launcher.py:22: DeprecationWarning: KerasClassifier is deprecated, use Sci-Keras (https://github.com/adriangb/scikeras) instead. See https://www.adriangb.com/scikeras/stable/migration.html for help migrating.\n"
     ]
    },
    {
     "name": "stdout",
     "output_type": "stream",
     "text": [
      "541/541 [==============================] - 1s 996us/step\n",
      "541/541 [==============================] - 1s 1ms/step\n",
      "541/541 [==============================] - 1s 1ms/step\n",
      "541/541 [==============================] - 1s 948us/step\n",
      "541/541 [==============================] - 1s 1ms/step\n",
      "541/541 [==============================] - 1s 1ms/step\n",
      "541/541 [==============================] - 1s 1ms/step\n",
      "541/541 [==============================] - 1s 1ms/step\n",
      "541/541 [==============================] - 1s 1ms/step\n",
      "Fold 1 Accuracy: 1.0000\n",
      "Fold 2 Accuracy: 1.0000\n",
      "Fold 3 Accuracy: 1.0000\n",
      "Fold 4 Accuracy: 1.0000\n",
      "Fold 5 Accuracy: 1.0000\n",
      "Fold 6 Accuracy: 0.0000\n",
      "Fold 7 Accuracy: 1.0000\n",
      "Fold 8 Accuracy: 0.0000\n",
      "Fold 9 Accuracy: 1.0000\n",
      "\n",
      "Cross-Validation Accuracy (k=9): 0.7778 +/- 0.4157\n"
     ]
    }
   ],
   "source": [
    "import numpy as np\n",
    "from sklearn.model_selection import cross_val_predict, StratifiedKFold\n",
    "from sklearn.pipeline import Pipeline\n",
    "from sklearn.preprocessing import StandardScaler\n",
    "from tensorflow.keras.models import Sequential\n",
    "from tensorflow.keras.layers import Dense\n",
    "from tensorflow.keras.wrappers.scikit_learn import KerasClassifier\n",
    "\n",
    "# Define the number of folds (k)\n",
    "k = 9\n",
    "\n",
    "# Define a function to create your ANN model\n",
    "def create_ann():\n",
    "    ann = Sequential()\n",
    "    ann.add(Dense(32, activation='relu', input_dim=X_train1.shape[1]))\n",
    "    ann.add(Dense(16, activation='relu'))\n",
    "    ann.add(Dense(1, activation='sigmoid'))\n",
    "    ann.compile(loss='binary_crossentropy', optimizer='adam', metrics=['accuracy'])\n",
    "    return ann\n",
    "\n",
    "# Create a KerasClassifier wrapper\n",
    "estimator = KerasClassifier(build_fn=create_ann, epochs=10, batch_size=32, verbose=0)\n",
    "\n",
    "# Create a pipeline with a standard scaler and the KerasClassifier\n",
    "pipeline = Pipeline([\n",
    "    ('scaler', StandardScaler()),  # You can choose to scale the features if needed\n",
    "    ('keras', estimator)\n",
    "])\n",
    "\n",
    "# Create a stratified k-fold cross-validator\n",
    "cv = StratifiedKFold(n_splits=k, shuffle=True, random_state=42)\n",
    "\n",
    "# Perform cross-validation and get predicted labels\n",
    "predicted_labels = cross_val_predict(pipeline, X_train1, y_train_encoded, cv=cv, method='predict')\n",
    "\n",
    "# Calculate accuracy for each fold\n",
    "fold_accuracies = [np.mean(predicted_labels[i] == y_train_encoded[i]) for i in range(k)]\n",
    "\n",
    "# Print accuracy for each fold\n",
    "for fold_num, accuracy in enumerate(fold_accuracies, start=1):\n",
    "    print(f\"Fold {fold_num} Accuracy: {accuracy:.4f}\")\n",
    "\n",
    "# Calculate the mean and standard deviation of the cross-validation accuracies\n",
    "mean_accuracy = np.mean(fold_accuracies)\n",
    "std_accuracy = np.std(fold_accuracies)\n",
    "\n",
    "print(f\"\\nCross-Validation Accuracy (k={k}): {mean_accuracy:.4f} +/- {std_accuracy:.4f}\")\n"
   ]
  }
 ],
 "metadata": {
  "kernelspec": {
   "display_name": "Python 3",
   "language": "python",
   "name": "python3"
  },
  "language_info": {
   "codemirror_mode": {
    "name": "ipython",
    "version": 3
   },
   "file_extension": ".py",
   "mimetype": "text/x-python",
   "name": "python",
   "nbconvert_exporter": "python",
   "pygments_lexer": "ipython3",
   "version": "3.7.16"
  },
  "orig_nbformat": 4
 },
 "nbformat": 4,
 "nbformat_minor": 2
}
